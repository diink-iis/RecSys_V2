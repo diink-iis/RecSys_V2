{
 "cells": [
  {
   "cell_type": "markdown",
   "metadata": {
    "id": "SafclrJZqEt8"
   },
   "source": [
    "# Импорт модулей и библиотек"
   ]
  },
  {
   "cell_type": "code",
   "execution_count": 2,
   "metadata": {
    "colab": {
     "base_uri": "https://localhost:8080/"
    },
    "id": "MSBbY53Sy1vy",
    "outputId": "7faf7f07-2960-49f1-9dbd-7aa2242458b5"
   },
   "outputs": [
    {
     "name": "stdout",
     "output_type": "stream",
     "text": [
      "Requirement already satisfied: implicit in c:\\users\\pasin\\anaconda3\\lib\\site-packages (0.6.2)\n",
      "Requirement already satisfied: scipy>=0.16 in c:\\users\\pasin\\anaconda3\\lib\\site-packages (from implicit) (1.7.1)\n",
      "Requirement already satisfied: tqdm>=4.27 in c:\\users\\pasin\\anaconda3\\lib\\site-packages (from implicit) (4.62.3)\n",
      "Requirement already satisfied: numpy in c:\\users\\pasin\\anaconda3\\lib\\site-packages (from implicit) (1.20.3)\n",
      "Requirement already satisfied: colorama in c:\\users\\pasin\\anaconda3\\lib\\site-packages (from tqdm>=4.27->implicit) (0.4.4)\n",
      "Requirement already satisfied: comet_ml in c:\\users\\pasin\\anaconda3\\lib\\site-packages (3.32.4)\n",
      "Requirement already satisfied: requests>=2.18.4 in c:\\users\\pasin\\anaconda3\\lib\\site-packages (from comet_ml) (2.26.0)\n",
      "Requirement already satisfied: dulwich!=0.20.33,>=0.20.6 in c:\\users\\pasin\\anaconda3\\lib\\site-packages (from comet_ml) (0.21.3)\n",
      "Requirement already satisfied: websocket-client<1.4.0,>=0.55.0 in c:\\users\\pasin\\anaconda3\\lib\\site-packages (from comet_ml) (1.3.3)\n",
      "Requirement already satisfied: semantic-version>=2.8.0 in c:\\users\\pasin\\anaconda3\\lib\\site-packages (from comet_ml) (2.10.0)\n",
      "Requirement already satisfied: sentry-sdk>=1.1.0 in c:\\users\\pasin\\anaconda3\\lib\\site-packages (from comet_ml) (1.16.0)\n",
      "Requirement already satisfied: six in c:\\users\\pasin\\anaconda3\\lib\\site-packages (from comet_ml) (1.16.0)\n",
      "Requirement already satisfied: requests-toolbelt>=0.8.0 in c:\\users\\pasin\\anaconda3\\lib\\site-packages (from comet_ml) (0.10.1)\n",
      "Requirement already satisfied: simplejson in c:\\users\\pasin\\anaconda3\\lib\\site-packages (from comet_ml) (3.18.3)\n",
      "Requirement already satisfied: wurlitzer>=1.0.2 in c:\\users\\pasin\\anaconda3\\lib\\site-packages (from comet_ml) (3.0.3)\n",
      "Requirement already satisfied: everett[ini]>=1.0.1 in c:\\users\\pasin\\anaconda3\\lib\\site-packages (from comet_ml) (3.1.0)\n",
      "Requirement already satisfied: jsonschema!=3.1.0,>=2.6.0 in c:\\users\\pasin\\anaconda3\\lib\\site-packages (from comet_ml) (3.2.0)\n",
      "Requirement already satisfied: python-box<7.0.0 in c:\\users\\pasin\\anaconda3\\lib\\site-packages (from comet_ml) (6.1.0)\n",
      "Requirement already satisfied: wrapt>=1.11.2 in c:\\users\\pasin\\anaconda3\\lib\\site-packages (from comet_ml) (1.12.1)\n",
      "Requirement already satisfied: urllib3>=1.25 in c:\\users\\pasin\\anaconda3\\lib\\site-packages (from dulwich!=0.20.33,>=0.20.6->comet_ml) (1.26.14)\n",
      "Requirement already satisfied: configobj in c:\\users\\pasin\\anaconda3\\lib\\site-packages (from everett[ini]>=1.0.1->comet_ml) (5.0.8)\n",
      "Requirement already satisfied: attrs>=17.4.0 in c:\\users\\pasin\\anaconda3\\lib\\site-packages (from jsonschema!=3.1.0,>=2.6.0->comet_ml) (21.2.0)\n",
      "Requirement already satisfied: setuptools in c:\\users\\pasin\\anaconda3\\lib\\site-packages (from jsonschema!=3.1.0,>=2.6.0->comet_ml) (58.0.4)\n",
      "Requirement already satisfied: pyrsistent>=0.14.0 in c:\\users\\pasin\\anaconda3\\lib\\site-packages (from jsonschema!=3.1.0,>=2.6.0->comet_ml) (0.18.0)\n",
      "Requirement already satisfied: idna<4,>=2.5 in c:\\users\\pasin\\anaconda3\\lib\\site-packages (from requests>=2.18.4->comet_ml) (3.2)\n",
      "Requirement already satisfied: certifi>=2017.4.17 in c:\\users\\pasin\\anaconda3\\lib\\site-packages (from requests>=2.18.4->comet_ml) (2021.10.8)\n",
      "Requirement already satisfied: charset-normalizer~=2.0.0 in c:\\users\\pasin\\anaconda3\\lib\\site-packages (from requests>=2.18.4->comet_ml) (2.0.4)\n"
     ]
    }
   ],
   "source": [
    "import pandas as pd\n",
    "import numpy as np\n",
    "import pickle\n",
    "import datetime as d\n",
    "import matplotlib.pyplot as plt\n",
    "import seaborn as sns\n",
    "\n",
    "from scipy.sparse import csr_matrix\n",
    "from scipy.sparse.linalg import svds\n",
    "\n",
    "!pip install implicit\n",
    "from implicit.nearest_neighbours import CosineRecommender, BM25Recommender, TFIDFRecommender\n",
    "from implicit.als import AlternatingLeastSquares\n",
    "from implicit.lmf import LogisticMatrixFactorization\n",
    "from implicit.bpr import BayesianPersonalizedRanking\n",
    "\n",
    "!pip install comet_ml\n",
    "from comet_ml import Experiment\n",
    "\n",
    "from math import log2\n",
    "\n",
    "import warnings\n",
    "warnings.filterwarnings(\"ignore\")"
   ]
  },
  {
   "cell_type": "markdown",
   "metadata": {
    "id": "wJjGaG2cqtDj"
   },
   "source": [
    "# Data Preprocessing"
   ]
  },
  {
   "cell_type": "code",
   "execution_count": 3,
   "metadata": {
    "id": "lxv__3EfqtDj"
   },
   "outputs": [],
   "source": [
    "def extraction_data(path_new_data: str, all_years_df = pd.DataFrame([])):\n",
    "\n",
    "    # load data 2015-2021 years\n",
    "    for year in range(2015, 2022):\n",
    "        with open(f\"C:/Users/pasin/RecSys_V2/Data/df_{year}_cleaned.pickle\", \"rb\") as file:\n",
    "            df_years = pickle.load(file)\n",
    "        all_years_df = all_years_df.append(df_years, ignore_index=True)\n",
    "\n",
    "    all_years_df.rename(columns={\"deals\": \"amount\"}, inplace=True)\n",
    "    all_years_df.drop(\"date\", axis=1, inplace=True)\n",
    "    \n",
    "    # load data 2022 years\n",
    "    df_2022 = pd.read_csv(f\"{path_new_data}\", sep=\";\")\n",
    "\n",
    "    # Some transforms for data \n",
    "    df_2022[\"datetime\"] = pd.to_datetime(df_2022[\"timestamp\"])\n",
    "    df_2022[\"cf\"] = -df_2022[\"amount\"]*df_2022[\"price\"]\n",
    "    df_2022.rename(columns={\"id\": \"user\"}, inplace=True)\n",
    "\n",
    "    df_2022 = df_2022.reindex(columns=[\"datetime\", \"ticker\", \"amount\", \"price\", \"user\", \"cf\"])\n",
    "\n",
    "    df_result = pd.concat([df_2022, all_years_df]).reset_index(drop = True)\n",
    "    df_result[\"volume\"] = abs(df_result[\"cf\"])\n",
    "    \n",
    "    tick2ind = {ticker:i for i, ticker in enumerate(df_result.ticker.unique())}\n",
    "    ind2tick = {val:key for key, val in tick2ind.items()}\n",
    "    df_result[\"ticker_id\"] = df_result[\"ticker\"].apply(lambda x: tick2ind[x])\n",
    "\n",
    "    user2ind = {user:i for i, user in enumerate(df_result.user.unique())}\n",
    "    ind2user = {val:key for key, val in user2ind.items()}\n",
    "    df_result[\"user_id\"] = df_result[\"user\"].apply(lambda x: user2ind[x])\n",
    "    df_result.groupby([\"ticker_id\", \"user_id\", \"datetime\"], as_index=False)[\"volume\"].sum()\n",
    "    df_result[\"year\"] = df_result[\"datetime\"].apply(lambda row: row.year)\n",
    "    \n",
    "    df_result.sort_values(\"datetime\", inplace = True)\n",
    "    return df_result.reset_index(drop = True)"
   ]
  },
  {
   "cell_type": "code",
   "execution_count": 26,
   "metadata": {
    "id": "Z1zn77UXqtDk"
   },
   "outputs": [
    {
     "ename": "KeyboardInterrupt",
     "evalue": "",
     "output_type": "error",
     "traceback": [
      "\u001b[1;31m---------------------------------------------------------------------------\u001b[0m",
      "\u001b[1;31mKeyboardInterrupt\u001b[0m                         Traceback (most recent call last)",
      "\u001b[1;32m~\\AppData\\Local\\Temp/ipykernel_18204/3752445706.py\u001b[0m in \u001b[0;36m<module>\u001b[1;34m\u001b[0m\n\u001b[1;32m----> 1\u001b[1;33m \u001b[0mdf_result\u001b[0m \u001b[1;33m=\u001b[0m \u001b[0mextraction_data\u001b[0m\u001b[1;33m(\u001b[0m\u001b[1;34m\"C:/Users/pasin/RecSys_V2/Data/stock_market_trades.csv\"\u001b[0m\u001b[1;33m)\u001b[0m\u001b[1;33m\u001b[0m\u001b[1;33m\u001b[0m\u001b[0m\n\u001b[0m",
      "\u001b[1;32m~\\AppData\\Local\\Temp/ipykernel_18204/1205449310.py\u001b[0m in \u001b[0;36mextraction_data\u001b[1;34m(path_new_data, all_years_df)\u001b[0m\n\u001b[0;32m     31\u001b[0m     \u001b[0mdf_result\u001b[0m\u001b[1;33m[\u001b[0m\u001b[1;34m\"user_id\"\u001b[0m\u001b[1;33m]\u001b[0m \u001b[1;33m=\u001b[0m \u001b[0mdf_result\u001b[0m\u001b[1;33m[\u001b[0m\u001b[1;34m\"user\"\u001b[0m\u001b[1;33m]\u001b[0m\u001b[1;33m.\u001b[0m\u001b[0mapply\u001b[0m\u001b[1;33m(\u001b[0m\u001b[1;32mlambda\u001b[0m \u001b[0mx\u001b[0m\u001b[1;33m:\u001b[0m \u001b[0muser2ind\u001b[0m\u001b[1;33m[\u001b[0m\u001b[0mx\u001b[0m\u001b[1;33m]\u001b[0m\u001b[1;33m)\u001b[0m\u001b[1;33m\u001b[0m\u001b[1;33m\u001b[0m\u001b[0m\n\u001b[0;32m     32\u001b[0m     \u001b[0mdf_result\u001b[0m\u001b[1;33m.\u001b[0m\u001b[0mgroupby\u001b[0m\u001b[1;33m(\u001b[0m\u001b[1;33m[\u001b[0m\u001b[1;34m\"ticker_id\"\u001b[0m\u001b[1;33m,\u001b[0m \u001b[1;34m\"user_id\"\u001b[0m\u001b[1;33m,\u001b[0m \u001b[1;34m\"datetime\"\u001b[0m\u001b[1;33m]\u001b[0m\u001b[1;33m,\u001b[0m \u001b[0mas_index\u001b[0m\u001b[1;33m=\u001b[0m\u001b[1;32mFalse\u001b[0m\u001b[1;33m)\u001b[0m\u001b[1;33m[\u001b[0m\u001b[1;34m\"volume\"\u001b[0m\u001b[1;33m]\u001b[0m\u001b[1;33m.\u001b[0m\u001b[0msum\u001b[0m\u001b[1;33m(\u001b[0m\u001b[1;33m)\u001b[0m\u001b[1;33m\u001b[0m\u001b[1;33m\u001b[0m\u001b[0m\n\u001b[1;32m---> 33\u001b[1;33m     \u001b[0mdf_result\u001b[0m\u001b[1;33m[\u001b[0m\u001b[1;34m\"year\"\u001b[0m\u001b[1;33m]\u001b[0m \u001b[1;33m=\u001b[0m \u001b[0mdf_result\u001b[0m\u001b[1;33m[\u001b[0m\u001b[1;34m\"datetime\"\u001b[0m\u001b[1;33m]\u001b[0m\u001b[1;33m.\u001b[0m\u001b[0mapply\u001b[0m\u001b[1;33m(\u001b[0m\u001b[1;32mlambda\u001b[0m \u001b[0mrow\u001b[0m\u001b[1;33m:\u001b[0m \u001b[0mrow\u001b[0m\u001b[1;33m.\u001b[0m\u001b[0myear\u001b[0m\u001b[1;33m)\u001b[0m\u001b[1;33m\u001b[0m\u001b[1;33m\u001b[0m\u001b[0m\n\u001b[0m\u001b[0;32m     34\u001b[0m \u001b[1;33m\u001b[0m\u001b[0m\n\u001b[0;32m     35\u001b[0m     \u001b[0mdf_result\u001b[0m\u001b[1;33m.\u001b[0m\u001b[0msort_values\u001b[0m\u001b[1;33m(\u001b[0m\u001b[1;34m\"datetime\"\u001b[0m\u001b[1;33m,\u001b[0m \u001b[0minplace\u001b[0m \u001b[1;33m=\u001b[0m \u001b[1;32mTrue\u001b[0m\u001b[1;33m)\u001b[0m\u001b[1;33m\u001b[0m\u001b[1;33m\u001b[0m\u001b[0m\n",
      "\u001b[1;32m~\\anaconda3\\lib\\site-packages\\pandas\\core\\series.py\u001b[0m in \u001b[0;36mapply\u001b[1;34m(self, func, convert_dtype, args, **kwargs)\u001b[0m\n\u001b[0;32m   4355\u001b[0m         \u001b[0mdtype\u001b[0m\u001b[1;33m:\u001b[0m \u001b[0mfloat64\u001b[0m\u001b[1;33m\u001b[0m\u001b[1;33m\u001b[0m\u001b[0m\n\u001b[0;32m   4356\u001b[0m         \"\"\"\n\u001b[1;32m-> 4357\u001b[1;33m         \u001b[1;32mreturn\u001b[0m \u001b[0mSeriesApply\u001b[0m\u001b[1;33m(\u001b[0m\u001b[0mself\u001b[0m\u001b[1;33m,\u001b[0m \u001b[0mfunc\u001b[0m\u001b[1;33m,\u001b[0m \u001b[0mconvert_dtype\u001b[0m\u001b[1;33m,\u001b[0m \u001b[0margs\u001b[0m\u001b[1;33m,\u001b[0m \u001b[0mkwargs\u001b[0m\u001b[1;33m)\u001b[0m\u001b[1;33m.\u001b[0m\u001b[0mapply\u001b[0m\u001b[1;33m(\u001b[0m\u001b[1;33m)\u001b[0m\u001b[1;33m\u001b[0m\u001b[1;33m\u001b[0m\u001b[0m\n\u001b[0m\u001b[0;32m   4358\u001b[0m \u001b[1;33m\u001b[0m\u001b[0m\n\u001b[0;32m   4359\u001b[0m     def _reduce(\n",
      "\u001b[1;32m~\\anaconda3\\lib\\site-packages\\pandas\\core\\apply.py\u001b[0m in \u001b[0;36mapply\u001b[1;34m(self)\u001b[0m\n\u001b[0;32m   1041\u001b[0m             \u001b[1;32mreturn\u001b[0m \u001b[0mself\u001b[0m\u001b[1;33m.\u001b[0m\u001b[0mapply_str\u001b[0m\u001b[1;33m(\u001b[0m\u001b[1;33m)\u001b[0m\u001b[1;33m\u001b[0m\u001b[1;33m\u001b[0m\u001b[0m\n\u001b[0;32m   1042\u001b[0m \u001b[1;33m\u001b[0m\u001b[0m\n\u001b[1;32m-> 1043\u001b[1;33m         \u001b[1;32mreturn\u001b[0m \u001b[0mself\u001b[0m\u001b[1;33m.\u001b[0m\u001b[0mapply_standard\u001b[0m\u001b[1;33m(\u001b[0m\u001b[1;33m)\u001b[0m\u001b[1;33m\u001b[0m\u001b[1;33m\u001b[0m\u001b[0m\n\u001b[0m\u001b[0;32m   1044\u001b[0m \u001b[1;33m\u001b[0m\u001b[0m\n\u001b[0;32m   1045\u001b[0m     \u001b[1;32mdef\u001b[0m \u001b[0magg\u001b[0m\u001b[1;33m(\u001b[0m\u001b[0mself\u001b[0m\u001b[1;33m)\u001b[0m\u001b[1;33m:\u001b[0m\u001b[1;33m\u001b[0m\u001b[1;33m\u001b[0m\u001b[0m\n",
      "\u001b[1;32m~\\anaconda3\\lib\\site-packages\\pandas\\core\\apply.py\u001b[0m in \u001b[0;36mapply_standard\u001b[1;34m(self)\u001b[0m\n\u001b[0;32m   1090\u001b[0m                 \u001b[0mmapped\u001b[0m \u001b[1;33m=\u001b[0m \u001b[0mobj\u001b[0m\u001b[1;33m.\u001b[0m\u001b[0m_values\u001b[0m\u001b[1;33m.\u001b[0m\u001b[0mmap\u001b[0m\u001b[1;33m(\u001b[0m\u001b[0mf\u001b[0m\u001b[1;33m)\u001b[0m\u001b[1;33m\u001b[0m\u001b[1;33m\u001b[0m\u001b[0m\n\u001b[0;32m   1091\u001b[0m             \u001b[1;32melse\u001b[0m\u001b[1;33m:\u001b[0m\u001b[1;33m\u001b[0m\u001b[1;33m\u001b[0m\u001b[0m\n\u001b[1;32m-> 1092\u001b[1;33m                 \u001b[0mvalues\u001b[0m \u001b[1;33m=\u001b[0m \u001b[0mobj\u001b[0m\u001b[1;33m.\u001b[0m\u001b[0mastype\u001b[0m\u001b[1;33m(\u001b[0m\u001b[0mobject\u001b[0m\u001b[1;33m)\u001b[0m\u001b[1;33m.\u001b[0m\u001b[0m_values\u001b[0m\u001b[1;33m\u001b[0m\u001b[1;33m\u001b[0m\u001b[0m\n\u001b[0m\u001b[0;32m   1093\u001b[0m                 \u001b[1;31m# error: Argument 2 to \"map_infer\" has incompatible type\u001b[0m\u001b[1;33m\u001b[0m\u001b[1;33m\u001b[0m\u001b[0m\n\u001b[0;32m   1094\u001b[0m                 \u001b[1;31m# \"Union[Callable[..., Any], str, List[Union[Callable[..., Any], str]],\u001b[0m\u001b[1;33m\u001b[0m\u001b[1;33m\u001b[0m\u001b[0m\n",
      "\u001b[1;32m~\\anaconda3\\lib\\site-packages\\pandas\\core\\generic.py\u001b[0m in \u001b[0;36mastype\u001b[1;34m(self, dtype, copy, errors)\u001b[0m\n\u001b[0;32m   5813\u001b[0m         \u001b[1;32melse\u001b[0m\u001b[1;33m:\u001b[0m\u001b[1;33m\u001b[0m\u001b[1;33m\u001b[0m\u001b[0m\n\u001b[0;32m   5814\u001b[0m             \u001b[1;31m# else, only a single dtype is given\u001b[0m\u001b[1;33m\u001b[0m\u001b[1;33m\u001b[0m\u001b[0m\n\u001b[1;32m-> 5815\u001b[1;33m             \u001b[0mnew_data\u001b[0m \u001b[1;33m=\u001b[0m \u001b[0mself\u001b[0m\u001b[1;33m.\u001b[0m\u001b[0m_mgr\u001b[0m\u001b[1;33m.\u001b[0m\u001b[0mastype\u001b[0m\u001b[1;33m(\u001b[0m\u001b[0mdtype\u001b[0m\u001b[1;33m=\u001b[0m\u001b[0mdtype\u001b[0m\u001b[1;33m,\u001b[0m \u001b[0mcopy\u001b[0m\u001b[1;33m=\u001b[0m\u001b[0mcopy\u001b[0m\u001b[1;33m,\u001b[0m \u001b[0merrors\u001b[0m\u001b[1;33m=\u001b[0m\u001b[0merrors\u001b[0m\u001b[1;33m)\u001b[0m\u001b[1;33m\u001b[0m\u001b[1;33m\u001b[0m\u001b[0m\n\u001b[0m\u001b[0;32m   5816\u001b[0m             \u001b[1;32mreturn\u001b[0m \u001b[0mself\u001b[0m\u001b[1;33m.\u001b[0m\u001b[0m_constructor\u001b[0m\u001b[1;33m(\u001b[0m\u001b[0mnew_data\u001b[0m\u001b[1;33m)\u001b[0m\u001b[1;33m.\u001b[0m\u001b[0m__finalize__\u001b[0m\u001b[1;33m(\u001b[0m\u001b[0mself\u001b[0m\u001b[1;33m,\u001b[0m \u001b[0mmethod\u001b[0m\u001b[1;33m=\u001b[0m\u001b[1;34m\"astype\"\u001b[0m\u001b[1;33m)\u001b[0m\u001b[1;33m\u001b[0m\u001b[1;33m\u001b[0m\u001b[0m\n\u001b[0;32m   5817\u001b[0m \u001b[1;33m\u001b[0m\u001b[0m\n",
      "\u001b[1;32m~\\anaconda3\\lib\\site-packages\\pandas\\core\\internals\\managers.py\u001b[0m in \u001b[0;36mastype\u001b[1;34m(self, dtype, copy, errors)\u001b[0m\n\u001b[0;32m    416\u001b[0m \u001b[1;33m\u001b[0m\u001b[0m\n\u001b[0;32m    417\u001b[0m     \u001b[1;32mdef\u001b[0m \u001b[0mastype\u001b[0m\u001b[1;33m(\u001b[0m\u001b[0mself\u001b[0m\u001b[1;33m:\u001b[0m \u001b[0mT\u001b[0m\u001b[1;33m,\u001b[0m \u001b[0mdtype\u001b[0m\u001b[1;33m,\u001b[0m \u001b[0mcopy\u001b[0m\u001b[1;33m:\u001b[0m \u001b[0mbool\u001b[0m \u001b[1;33m=\u001b[0m \u001b[1;32mFalse\u001b[0m\u001b[1;33m,\u001b[0m \u001b[0merrors\u001b[0m\u001b[1;33m:\u001b[0m \u001b[0mstr\u001b[0m \u001b[1;33m=\u001b[0m \u001b[1;34m\"raise\"\u001b[0m\u001b[1;33m)\u001b[0m \u001b[1;33m->\u001b[0m \u001b[0mT\u001b[0m\u001b[1;33m:\u001b[0m\u001b[1;33m\u001b[0m\u001b[1;33m\u001b[0m\u001b[0m\n\u001b[1;32m--> 418\u001b[1;33m         \u001b[1;32mreturn\u001b[0m \u001b[0mself\u001b[0m\u001b[1;33m.\u001b[0m\u001b[0mapply\u001b[0m\u001b[1;33m(\u001b[0m\u001b[1;34m\"astype\"\u001b[0m\u001b[1;33m,\u001b[0m \u001b[0mdtype\u001b[0m\u001b[1;33m=\u001b[0m\u001b[0mdtype\u001b[0m\u001b[1;33m,\u001b[0m \u001b[0mcopy\u001b[0m\u001b[1;33m=\u001b[0m\u001b[0mcopy\u001b[0m\u001b[1;33m,\u001b[0m \u001b[0merrors\u001b[0m\u001b[1;33m=\u001b[0m\u001b[0merrors\u001b[0m\u001b[1;33m)\u001b[0m\u001b[1;33m\u001b[0m\u001b[1;33m\u001b[0m\u001b[0m\n\u001b[0m\u001b[0;32m    419\u001b[0m \u001b[1;33m\u001b[0m\u001b[0m\n\u001b[0;32m    420\u001b[0m     def convert(\n",
      "\u001b[1;32m~\\anaconda3\\lib\\site-packages\\pandas\\core\\internals\\managers.py\u001b[0m in \u001b[0;36mapply\u001b[1;34m(self, f, align_keys, ignore_failures, **kwargs)\u001b[0m\n\u001b[0;32m    325\u001b[0m                     \u001b[0mapplied\u001b[0m \u001b[1;33m=\u001b[0m \u001b[0mb\u001b[0m\u001b[1;33m.\u001b[0m\u001b[0mapply\u001b[0m\u001b[1;33m(\u001b[0m\u001b[0mf\u001b[0m\u001b[1;33m,\u001b[0m \u001b[1;33m**\u001b[0m\u001b[0mkwargs\u001b[0m\u001b[1;33m)\u001b[0m\u001b[1;33m\u001b[0m\u001b[1;33m\u001b[0m\u001b[0m\n\u001b[0;32m    326\u001b[0m                 \u001b[1;32melse\u001b[0m\u001b[1;33m:\u001b[0m\u001b[1;33m\u001b[0m\u001b[1;33m\u001b[0m\u001b[0m\n\u001b[1;32m--> 327\u001b[1;33m                     \u001b[0mapplied\u001b[0m \u001b[1;33m=\u001b[0m \u001b[0mgetattr\u001b[0m\u001b[1;33m(\u001b[0m\u001b[0mb\u001b[0m\u001b[1;33m,\u001b[0m \u001b[0mf\u001b[0m\u001b[1;33m)\u001b[0m\u001b[1;33m(\u001b[0m\u001b[1;33m**\u001b[0m\u001b[0mkwargs\u001b[0m\u001b[1;33m)\u001b[0m\u001b[1;33m\u001b[0m\u001b[1;33m\u001b[0m\u001b[0m\n\u001b[0m\u001b[0;32m    328\u001b[0m             \u001b[1;32mexcept\u001b[0m \u001b[1;33m(\u001b[0m\u001b[0mTypeError\u001b[0m\u001b[1;33m,\u001b[0m \u001b[0mNotImplementedError\u001b[0m\u001b[1;33m)\u001b[0m\u001b[1;33m:\u001b[0m\u001b[1;33m\u001b[0m\u001b[1;33m\u001b[0m\u001b[0m\n\u001b[0;32m    329\u001b[0m                 \u001b[1;32mif\u001b[0m \u001b[1;32mnot\u001b[0m \u001b[0mignore_failures\u001b[0m\u001b[1;33m:\u001b[0m\u001b[1;33m\u001b[0m\u001b[1;33m\u001b[0m\u001b[0m\n",
      "\u001b[1;32m~\\anaconda3\\lib\\site-packages\\pandas\\core\\internals\\blocks.py\u001b[0m in \u001b[0;36mastype\u001b[1;34m(self, dtype, copy, errors)\u001b[0m\n\u001b[0;32m    589\u001b[0m         \u001b[0mvalues\u001b[0m \u001b[1;33m=\u001b[0m \u001b[0mself\u001b[0m\u001b[1;33m.\u001b[0m\u001b[0mvalues\u001b[0m\u001b[1;33m\u001b[0m\u001b[1;33m\u001b[0m\u001b[0m\n\u001b[0;32m    590\u001b[0m \u001b[1;33m\u001b[0m\u001b[0m\n\u001b[1;32m--> 591\u001b[1;33m         \u001b[0mnew_values\u001b[0m \u001b[1;33m=\u001b[0m \u001b[0mastype_array_safe\u001b[0m\u001b[1;33m(\u001b[0m\u001b[0mvalues\u001b[0m\u001b[1;33m,\u001b[0m \u001b[0mdtype\u001b[0m\u001b[1;33m,\u001b[0m \u001b[0mcopy\u001b[0m\u001b[1;33m=\u001b[0m\u001b[0mcopy\u001b[0m\u001b[1;33m,\u001b[0m \u001b[0merrors\u001b[0m\u001b[1;33m=\u001b[0m\u001b[0merrors\u001b[0m\u001b[1;33m)\u001b[0m\u001b[1;33m\u001b[0m\u001b[1;33m\u001b[0m\u001b[0m\n\u001b[0m\u001b[0;32m    592\u001b[0m \u001b[1;33m\u001b[0m\u001b[0m\n\u001b[0;32m    593\u001b[0m         \u001b[0mnew_values\u001b[0m \u001b[1;33m=\u001b[0m \u001b[0mmaybe_coerce_values\u001b[0m\u001b[1;33m(\u001b[0m\u001b[0mnew_values\u001b[0m\u001b[1;33m)\u001b[0m\u001b[1;33m\u001b[0m\u001b[1;33m\u001b[0m\u001b[0m\n",
      "\u001b[1;32m~\\anaconda3\\lib\\site-packages\\pandas\\core\\dtypes\\cast.py\u001b[0m in \u001b[0;36mastype_array_safe\u001b[1;34m(values, dtype, copy, errors)\u001b[0m\n\u001b[0;32m   1307\u001b[0m \u001b[1;33m\u001b[0m\u001b[0m\n\u001b[0;32m   1308\u001b[0m     \u001b[1;32mtry\u001b[0m\u001b[1;33m:\u001b[0m\u001b[1;33m\u001b[0m\u001b[1;33m\u001b[0m\u001b[0m\n\u001b[1;32m-> 1309\u001b[1;33m         \u001b[0mnew_values\u001b[0m \u001b[1;33m=\u001b[0m \u001b[0mastype_array\u001b[0m\u001b[1;33m(\u001b[0m\u001b[0mvalues\u001b[0m\u001b[1;33m,\u001b[0m \u001b[0mdtype\u001b[0m\u001b[1;33m,\u001b[0m \u001b[0mcopy\u001b[0m\u001b[1;33m=\u001b[0m\u001b[0mcopy\u001b[0m\u001b[1;33m)\u001b[0m\u001b[1;33m\u001b[0m\u001b[1;33m\u001b[0m\u001b[0m\n\u001b[0m\u001b[0;32m   1310\u001b[0m     \u001b[1;32mexcept\u001b[0m \u001b[1;33m(\u001b[0m\u001b[0mValueError\u001b[0m\u001b[1;33m,\u001b[0m \u001b[0mTypeError\u001b[0m\u001b[1;33m)\u001b[0m\u001b[1;33m:\u001b[0m\u001b[1;33m\u001b[0m\u001b[1;33m\u001b[0m\u001b[0m\n\u001b[0;32m   1311\u001b[0m         \u001b[1;31m# e.g. astype_nansafe can fail on object-dtype of strings\u001b[0m\u001b[1;33m\u001b[0m\u001b[1;33m\u001b[0m\u001b[0m\n",
      "\u001b[1;32m~\\anaconda3\\lib\\site-packages\\pandas\\core\\dtypes\\cast.py\u001b[0m in \u001b[0;36mastype_array\u001b[1;34m(values, dtype, copy)\u001b[0m\n\u001b[0;32m   1252\u001b[0m     \u001b[1;32mif\u001b[0m \u001b[1;32mnot\u001b[0m \u001b[0misinstance\u001b[0m\u001b[1;33m(\u001b[0m\u001b[0mvalues\u001b[0m\u001b[1;33m,\u001b[0m \u001b[0mnp\u001b[0m\u001b[1;33m.\u001b[0m\u001b[0mndarray\u001b[0m\u001b[1;33m)\u001b[0m\u001b[1;33m:\u001b[0m\u001b[1;33m\u001b[0m\u001b[1;33m\u001b[0m\u001b[0m\n\u001b[0;32m   1253\u001b[0m         \u001b[1;31m# i.e. ExtensionArray\u001b[0m\u001b[1;33m\u001b[0m\u001b[1;33m\u001b[0m\u001b[0m\n\u001b[1;32m-> 1254\u001b[1;33m         \u001b[0mvalues\u001b[0m \u001b[1;33m=\u001b[0m \u001b[0mvalues\u001b[0m\u001b[1;33m.\u001b[0m\u001b[0mastype\u001b[0m\u001b[1;33m(\u001b[0m\u001b[0mdtype\u001b[0m\u001b[1;33m,\u001b[0m \u001b[0mcopy\u001b[0m\u001b[1;33m=\u001b[0m\u001b[0mcopy\u001b[0m\u001b[1;33m)\u001b[0m\u001b[1;33m\u001b[0m\u001b[1;33m\u001b[0m\u001b[0m\n\u001b[0m\u001b[0;32m   1255\u001b[0m \u001b[1;33m\u001b[0m\u001b[0m\n\u001b[0;32m   1256\u001b[0m     \u001b[1;32melse\u001b[0m\u001b[1;33m:\u001b[0m\u001b[1;33m\u001b[0m\u001b[1;33m\u001b[0m\u001b[0m\n",
      "\u001b[1;32m~\\anaconda3\\lib\\site-packages\\pandas\\core\\arrays\\datetimes.py\u001b[0m in \u001b[0;36mastype\u001b[1;34m(self, dtype, copy)\u001b[0m\n\u001b[0;32m    644\u001b[0m         \u001b[1;32melif\u001b[0m \u001b[0mis_period_dtype\u001b[0m\u001b[1;33m(\u001b[0m\u001b[0mdtype\u001b[0m\u001b[1;33m)\u001b[0m\u001b[1;33m:\u001b[0m\u001b[1;33m\u001b[0m\u001b[1;33m\u001b[0m\u001b[0m\n\u001b[0;32m    645\u001b[0m             \u001b[1;32mreturn\u001b[0m \u001b[0mself\u001b[0m\u001b[1;33m.\u001b[0m\u001b[0mto_period\u001b[0m\u001b[1;33m(\u001b[0m\u001b[0mfreq\u001b[0m\u001b[1;33m=\u001b[0m\u001b[0mdtype\u001b[0m\u001b[1;33m.\u001b[0m\u001b[0mfreq\u001b[0m\u001b[1;33m)\u001b[0m\u001b[1;33m\u001b[0m\u001b[1;33m\u001b[0m\u001b[0m\n\u001b[1;32m--> 646\u001b[1;33m         \u001b[1;32mreturn\u001b[0m \u001b[0mdtl\u001b[0m\u001b[1;33m.\u001b[0m\u001b[0mDatetimeLikeArrayMixin\u001b[0m\u001b[1;33m.\u001b[0m\u001b[0mastype\u001b[0m\u001b[1;33m(\u001b[0m\u001b[0mself\u001b[0m\u001b[1;33m,\u001b[0m \u001b[0mdtype\u001b[0m\u001b[1;33m,\u001b[0m \u001b[0mcopy\u001b[0m\u001b[1;33m)\u001b[0m\u001b[1;33m\u001b[0m\u001b[1;33m\u001b[0m\u001b[0m\n\u001b[0m\u001b[0;32m    647\u001b[0m \u001b[1;33m\u001b[0m\u001b[0m\n\u001b[0;32m    648\u001b[0m     \u001b[1;31m# -----------------------------------------------------------------\u001b[0m\u001b[1;33m\u001b[0m\u001b[1;33m\u001b[0m\u001b[0m\n",
      "\u001b[1;32m~\\anaconda3\\lib\\site-packages\\pandas\\core\\arrays\\datetimelike.py\u001b[0m in \u001b[0;36mastype\u001b[1;34m(self, dtype, copy)\u001b[0m\n\u001b[0;32m    387\u001b[0m \u001b[1;33m\u001b[0m\u001b[0m\n\u001b[0;32m    388\u001b[0m         \u001b[1;32mif\u001b[0m \u001b[0mis_object_dtype\u001b[0m\u001b[1;33m(\u001b[0m\u001b[0mdtype\u001b[0m\u001b[1;33m)\u001b[0m\u001b[1;33m:\u001b[0m\u001b[1;33m\u001b[0m\u001b[1;33m\u001b[0m\u001b[0m\n\u001b[1;32m--> 389\u001b[1;33m             \u001b[1;32mreturn\u001b[0m \u001b[0mself\u001b[0m\u001b[1;33m.\u001b[0m\u001b[0m_box_values\u001b[0m\u001b[1;33m(\u001b[0m\u001b[0mself\u001b[0m\u001b[1;33m.\u001b[0m\u001b[0masi8\u001b[0m\u001b[1;33m.\u001b[0m\u001b[0mravel\u001b[0m\u001b[1;33m(\u001b[0m\u001b[1;33m)\u001b[0m\u001b[1;33m)\u001b[0m\u001b[1;33m.\u001b[0m\u001b[0mreshape\u001b[0m\u001b[1;33m(\u001b[0m\u001b[0mself\u001b[0m\u001b[1;33m.\u001b[0m\u001b[0mshape\u001b[0m\u001b[1;33m)\u001b[0m\u001b[1;33m\u001b[0m\u001b[1;33m\u001b[0m\u001b[0m\n\u001b[0m\u001b[0;32m    390\u001b[0m         \u001b[1;32melif\u001b[0m \u001b[0mis_string_dtype\u001b[0m\u001b[1;33m(\u001b[0m\u001b[0mdtype\u001b[0m\u001b[1;33m)\u001b[0m \u001b[1;32mand\u001b[0m \u001b[1;32mnot\u001b[0m \u001b[0mis_categorical_dtype\u001b[0m\u001b[1;33m(\u001b[0m\u001b[0mdtype\u001b[0m\u001b[1;33m)\u001b[0m\u001b[1;33m:\u001b[0m\u001b[1;33m\u001b[0m\u001b[1;33m\u001b[0m\u001b[0m\n\u001b[0;32m    391\u001b[0m             \u001b[1;32mif\u001b[0m \u001b[0mis_extension_array_dtype\u001b[0m\u001b[1;33m(\u001b[0m\u001b[0mdtype\u001b[0m\u001b[1;33m)\u001b[0m\u001b[1;33m:\u001b[0m\u001b[1;33m\u001b[0m\u001b[1;33m\u001b[0m\u001b[0m\n",
      "\u001b[1;32m~\\anaconda3\\lib\\site-packages\\pandas\\core\\arrays\\datetimelike.py\u001b[0m in \u001b[0;36m_box_values\u001b[1;34m(self, values)\u001b[0m\n\u001b[0;32m    266\u001b[0m         \u001b[0mapply\u001b[0m \u001b[0mbox\u001b[0m \u001b[0mfunc\u001b[0m \u001b[0mto\u001b[0m \u001b[0mpassed\u001b[0m \u001b[0mvalues\u001b[0m\u001b[1;33m\u001b[0m\u001b[1;33m\u001b[0m\u001b[0m\n\u001b[0;32m    267\u001b[0m         \"\"\"\n\u001b[1;32m--> 268\u001b[1;33m         \u001b[1;32mreturn\u001b[0m \u001b[0mlib\u001b[0m\u001b[1;33m.\u001b[0m\u001b[0mmap_infer\u001b[0m\u001b[1;33m(\u001b[0m\u001b[0mvalues\u001b[0m\u001b[1;33m,\u001b[0m \u001b[0mself\u001b[0m\u001b[1;33m.\u001b[0m\u001b[0m_box_func\u001b[0m\u001b[1;33m,\u001b[0m \u001b[0mconvert\u001b[0m\u001b[1;33m=\u001b[0m\u001b[1;32mFalse\u001b[0m\u001b[1;33m)\u001b[0m\u001b[1;33m\u001b[0m\u001b[1;33m\u001b[0m\u001b[0m\n\u001b[0m\u001b[0;32m    269\u001b[0m \u001b[1;33m\u001b[0m\u001b[0m\n\u001b[0;32m    270\u001b[0m     \u001b[1;32mdef\u001b[0m \u001b[0m__iter__\u001b[0m\u001b[1;33m(\u001b[0m\u001b[0mself\u001b[0m\u001b[1;33m)\u001b[0m\u001b[1;33m:\u001b[0m\u001b[1;33m\u001b[0m\u001b[1;33m\u001b[0m\u001b[0m\n",
      "\u001b[1;32m~\\anaconda3\\lib\\site-packages\\pandas\\_libs\\lib.pyx\u001b[0m in \u001b[0;36mpandas._libs.lib.map_infer\u001b[1;34m()\u001b[0m\n",
      "\u001b[1;32m~\\anaconda3\\lib\\site-packages\\pandas\\core\\arrays\\datetimes.py\u001b[0m in \u001b[0;36m_box_func\u001b[1;34m(self, x)\u001b[0m\n\u001b[0;32m    513\u001b[0m         \u001b[1;31m# Non-overlapping identity check (left operand type: \"Timestamp\",\u001b[0m\u001b[1;33m\u001b[0m\u001b[1;33m\u001b[0m\u001b[0m\n\u001b[0;32m    514\u001b[0m         \u001b[1;31m# right operand type: \"NaTType\")\u001b[0m\u001b[1;33m\u001b[0m\u001b[1;33m\u001b[0m\u001b[0m\n\u001b[1;32m--> 515\u001b[1;33m         \u001b[1;32mif\u001b[0m \u001b[0mts\u001b[0m \u001b[1;32mis\u001b[0m \u001b[1;32mnot\u001b[0m \u001b[0mNaT\u001b[0m\u001b[1;33m:\u001b[0m  \u001b[1;31m# type: ignore[comparison-overlap]\u001b[0m\u001b[1;33m\u001b[0m\u001b[1;33m\u001b[0m\u001b[0m\n\u001b[0m\u001b[0;32m    516\u001b[0m             \u001b[1;31m# GH#41586\u001b[0m\u001b[1;33m\u001b[0m\u001b[1;33m\u001b[0m\u001b[0m\n\u001b[0;32m    517\u001b[0m             \u001b[1;31m# do this instead of passing to the constructor to avoid FutureWarning\u001b[0m\u001b[1;33m\u001b[0m\u001b[1;33m\u001b[0m\u001b[0m\n",
      "\u001b[1;31mKeyboardInterrupt\u001b[0m: "
     ]
    }
   ],
   "source": [
    "df_result = extraction_data(\"C:/Users/pasin/RecSys_V2/Data/stock_market_trades.csv\")"
   ]
  },
  {
   "cell_type": "code",
   "execution_count": 6,
   "metadata": {
    "colab": {
     "base_uri": "https://localhost:8080/"
    },
    "id": "XB5ewxY5qtDl",
    "outputId": "9168ba1f-029b-44e7-cf55-24b3f7bdbe14"
   },
   "outputs": [
    {
     "name": "stdout",
     "output_type": "stream",
     "text": [
      "10729\n"
     ]
    }
   ],
   "source": [
    "#df_result = pd.read_csv(\"../Data/Result_data/resultData.csv\", index_col=0)\n",
    "tick2ind = {ticker:i for i, ticker in enumerate(df_result.ticker.unique())}\n",
    "ind2tick = {val:key for key, val in tick2ind.items()}\n",
    "user2ind = {user:i for i, user in enumerate(df_result[\"user\"].unique())}\n",
    "ind2user = {val:key for key, val in user2ind.items()}\n",
    "print(user2ind[\"1_95110\"])"
   ]
  },
  {
   "cell_type": "code",
   "execution_count": 27,
   "metadata": {
    "colab": {
     "base_uri": "https://localhost:8080/",
     "height": 206
    },
    "id": "z7QyomwpqtDm",
    "outputId": "7e8bc446-cc5b-4f0f-df6b-1bd560fc177a"
   },
   "outputs": [
    {
     "data": {
      "text/html": [
       "<div>\n",
       "<style scoped>\n",
       "    .dataframe tbody tr th:only-of-type {\n",
       "        vertical-align: middle;\n",
       "    }\n",
       "\n",
       "    .dataframe tbody tr th {\n",
       "        vertical-align: top;\n",
       "    }\n",
       "\n",
       "    .dataframe thead th {\n",
       "        text-align: right;\n",
       "    }\n",
       "</style>\n",
       "<table border=\"1\" class=\"dataframe\">\n",
       "  <thead>\n",
       "    <tr style=\"text-align: right;\">\n",
       "      <th></th>\n",
       "      <th>datetime</th>\n",
       "      <th>ticker</th>\n",
       "      <th>amount</th>\n",
       "      <th>price</th>\n",
       "      <th>user</th>\n",
       "      <th>cf</th>\n",
       "      <th>volume</th>\n",
       "      <th>ticker_id</th>\n",
       "      <th>user_id</th>\n",
       "      <th>year</th>\n",
       "    </tr>\n",
       "  </thead>\n",
       "  <tbody>\n",
       "    <tr>\n",
       "      <th>0</th>\n",
       "      <td>2015-09-16 10:00:00</td>\n",
       "      <td>LKOH</td>\n",
       "      <td>5</td>\n",
       "      <td>2485.10</td>\n",
       "      <td>1_48198</td>\n",
       "      <td>-12425.5</td>\n",
       "      <td>12425.5</td>\n",
       "      <td>4</td>\n",
       "      <td>8851</td>\n",
       "      <td>2015</td>\n",
       "    </tr>\n",
       "    <tr>\n",
       "      <th>1</th>\n",
       "      <td>2015-09-16 10:00:00</td>\n",
       "      <td>SBER</td>\n",
       "      <td>100</td>\n",
       "      <td>75.12</td>\n",
       "      <td>1_48199</td>\n",
       "      <td>-7512.0</td>\n",
       "      <td>7512.0</td>\n",
       "      <td>23</td>\n",
       "      <td>8951</td>\n",
       "      <td>2015</td>\n",
       "    </tr>\n",
       "    <tr>\n",
       "      <th>2</th>\n",
       "      <td>2015-09-16 10:00:00</td>\n",
       "      <td>SBER</td>\n",
       "      <td>10</td>\n",
       "      <td>75.25</td>\n",
       "      <td>1_49493</td>\n",
       "      <td>-752.5</td>\n",
       "      <td>752.5</td>\n",
       "      <td>23</td>\n",
       "      <td>3355</td>\n",
       "      <td>2015</td>\n",
       "    </tr>\n",
       "    <tr>\n",
       "      <th>3</th>\n",
       "      <td>2015-09-16 10:00:00</td>\n",
       "      <td>LKOH</td>\n",
       "      <td>38</td>\n",
       "      <td>2485.10</td>\n",
       "      <td>1_48198</td>\n",
       "      <td>-94433.8</td>\n",
       "      <td>94433.8</td>\n",
       "      <td>4</td>\n",
       "      <td>8851</td>\n",
       "      <td>2015</td>\n",
       "    </tr>\n",
       "    <tr>\n",
       "      <th>4</th>\n",
       "      <td>2015-09-16 10:00:00</td>\n",
       "      <td>SBER</td>\n",
       "      <td>-200</td>\n",
       "      <td>75.23</td>\n",
       "      <td>1_48670</td>\n",
       "      <td>15046.0</td>\n",
       "      <td>15046.0</td>\n",
       "      <td>23</td>\n",
       "      <td>7243</td>\n",
       "      <td>2015</td>\n",
       "    </tr>\n",
       "  </tbody>\n",
       "</table>\n",
       "</div>"
      ],
      "text/plain": [
       "             datetime ticker  amount    price     user       cf   volume  \\\n",
       "0 2015-09-16 10:00:00   LKOH       5  2485.10  1_48198 -12425.5  12425.5   \n",
       "1 2015-09-16 10:00:00   SBER     100    75.12  1_48199  -7512.0   7512.0   \n",
       "2 2015-09-16 10:00:00   SBER      10    75.25  1_49493   -752.5    752.5   \n",
       "3 2015-09-16 10:00:00   LKOH      38  2485.10  1_48198 -94433.8  94433.8   \n",
       "4 2015-09-16 10:00:00   SBER    -200    75.23  1_48670  15046.0  15046.0   \n",
       "\n",
       "   ticker_id  user_id  year  \n",
       "0          4     8851  2015  \n",
       "1         23     8951  2015  \n",
       "2         23     3355  2015  \n",
       "3          4     8851  2015  \n",
       "4         23     7243  2015  "
      ]
     },
     "execution_count": 27,
     "metadata": {},
     "output_type": "execute_result"
    }
   ],
   "source": [
    "df_result.head(5)"
   ]
  },
  {
   "cell_type": "markdown",
   "metadata": {
    "id": "IsHFrcY2qtDn"
   },
   "source": [
    "## train-test-split"
   ]
  },
  {
   "cell_type": "markdown",
   "metadata": {
    "id": "__aiU8nSqtDn"
   },
   "source": [
    "### Создаем словарь (Дата сделки: сделка)"
   ]
  },
  {
   "cell_type": "code",
   "execution_count": 8,
   "metadata": {
    "id": "jyrAPakrqtDn"
   },
   "outputs": [],
   "source": [
    "def date_deals(df, data):    \n",
    "    \n",
    "    \"\"\"\n",
    "    Функция получает на вход столбец датафрейма с датами сделок\n",
    "    \n",
    "    На выходе: словарь с ключами - Дата сделки, а значения - сами сделки\n",
    "    \"\"\"\n",
    "    \n",
    "    date_deal = {}\n",
    "    dates=set(data.values)\n",
    "    \n",
    "    for d in dates:\n",
    "        deals = df[(data==d)]\n",
    "        if len(deals)==1:\n",
    "            continue\n",
    "        else:\n",
    "            date_deal[d] = deals    \n",
    "            \n",
    "    return date_deal"
   ]
  },
  {
   "cell_type": "markdown",
   "metadata": {
    "id": "kYUOp5G-qtDo"
   },
   "source": [
    "# Train_test_split"
   ]
  },
  {
   "cell_type": "code",
   "execution_count": 9,
   "metadata": {
    "id": "LPFF355MqtDo"
   },
   "outputs": [],
   "source": [
    "def train_test_split(df, train_size=0.7, test_size=0.3):\n",
    "    \n",
    "    train = pd.DataFrame()\n",
    "    test = pd.DataFrame()\n",
    "    dict_date = date_deals(df, df[\"year\"])\n",
    "    \n",
    "    for key in dict_date.keys():\n",
    "        deals_count = len(dict_date[key])\n",
    "        to_train = round(deals_count*train_size)\n",
    "        to_test = round(deals_count*test_size)\n",
    "            \n",
    "        train = pd.concat([train, dict_date[key][:to_train]])\n",
    "        test = pd.concat([test, dict_date[key][-to_test:]])\n",
    "    return (train, test)"
   ]
  },
  {
   "cell_type": "code",
   "execution_count": 10,
   "metadata": {
    "colab": {
     "base_uri": "https://localhost:8080/"
    },
    "id": "uYXTZ9OhqtDo",
    "outputId": "f445fe2b-8f60-48e5-82ba-3c6d99a78254"
   },
   "outputs": [
    {
     "name": "stdout",
     "output_type": "stream",
     "text": [
      "Wall time: 2.89 s\n"
     ]
    }
   ],
   "source": [
    "%%time\n",
    "train, test = train_test_split(df_result, train_size=0.7, test_size=0.3)"
   ]
  },
  {
   "cell_type": "markdown",
   "metadata": {
    "id": "HAUoveLFqtDp"
   },
   "source": [
    "# Сбор матриц"
   ]
  },
  {
   "cell_type": "code",
   "execution_count": 11,
   "metadata": {
    "id": "z3nTsI6zqtDp"
   },
   "outputs": [],
   "source": [
    "def get_csr_matrix(df, user_col, ticker_col, add_col, csr_method):\n",
    "    n_rows = df[user_col].nunique()\n",
    "    n_cols = df[ticker_col].nunique()\n",
    "\n",
    "    row = df[user_col] #user\n",
    "    col = df[ticker_col] #ticker\n",
    "    data = df[add_col].astype(float) #deals\n",
    "    \n",
    "    return csr_method((data, (row, col)))"
   ]
  },
  {
   "cell_type": "code",
   "execution_count": 12,
   "metadata": {
    "id": "yxuBGDZfqtDq"
   },
   "outputs": [],
   "source": [
    "csr_train = get_csr_matrix(train, \"user_id\", \"ticker_id\", \"volume\", csr_matrix)\n",
    "csr_test = get_csr_matrix(test, \"user_id\", \"ticker_id\", \"volume\", csr_matrix)"
   ]
  },
  {
   "cell_type": "markdown",
   "metadata": {
    "id": "GcTrDn8fqtDq"
   },
   "source": [
    "# Обучение"
   ]
  },
  {
   "cell_type": "markdown",
   "metadata": {
    "id": "0NcmyPyVqtDq"
   },
   "source": [
    "Параметр K влияет на максимальную выдачу топа, поэтому N для таких моделей желательно указывать меньше K"
   ]
  },
  {
   "cell_type": "code",
   "execution_count": 13,
   "metadata": {
    "id": "bgIRjb-tqtDq"
   },
   "outputs": [],
   "source": [
    "def recommend_tick(user, model, train_matrix, N):\n",
    "    user_id = user2ind[user]\n",
    "\n",
    "    recs = model.recommend(user_id, train_matrix[user_id], N=N, filter_already_liked_items=True)\n",
    "    \n",
    "    res = [ind2tick[ticker_ids] for ticker_ids in recs[0]]\n",
    "    return res"
   ]
  },
  {
   "cell_type": "code",
   "execution_count": 14,
   "metadata": {
    "id": "chOCZC0nqtDq"
   },
   "outputs": [],
   "source": [
    "def find_similar(user, model, train_matrix, N):\n",
    "    user_id = user2ind[user]\n",
    "\n",
    "    recs = model.recommend(user_id, train_matrix[user_id], N=N, filter_already_liked_items=True)\n",
    "    \n",
    "    res = recs[1]\n",
    "    return res"
   ]
  },
  {
   "cell_type": "code",
   "execution_count": 15,
   "metadata": {
    "id": "vHTCmkD1qtDq"
   },
   "outputs": [],
   "source": [
    "def get_recommenders(model, csr_matrix_train, df_test, \n",
    "                     k=20, factors=40, regularization=0.1, iterations=20,\n",
    "                     top_N = 10):\n",
    "    \n",
    "    if model == CosineRecommender or model == TFIDFRecommender:\n",
    "        fitting_model = model(K=k)\n",
    "    elif model == AlternatingLeastSquares or model == LogisticMatrixFactorization or model == BayesianPersonalizedRanking:\n",
    "        fitting_model = model(factors=factors, regularization=regularization, iterations=iterations)\n",
    "    \n",
    "    fitting_model.fit(csr_matrix_train)\n",
    "\n",
    "    df_reccomeds = pd.DataFrame({'user': df_test['user'].unique()})\n",
    "    \n",
    "    df_reccomeds['ticker'] = df_reccomeds['user'].apply(lambda x: \n",
    "                                                            recommend_tick(x, \n",
    "                                                                           fitting_model, \n",
    "                                                                           csr_matrix_train, \n",
    "                                                                           top_N))\n",
    "    df_reccomeds['similar'] = df_reccomeds['user'].apply(lambda x: find_similar(x, \n",
    "                                                                                fitting_model, \n",
    "                                                                                csr_matrix_train, \n",
    "                                                                                top_N))\n",
    "    \n",
    "    df_reccomeds = df_reccomeds.explode([\"similar\", \"ticker\"])\n",
    "    df_reccomeds[\"rank\"] = -(df_reccomeds.groupby('user')[\"similar\"].rank()-11)\n",
    "        \n",
    "    return df_reccomeds"
   ]
  },
  {
   "cell_type": "markdown",
   "metadata": {
    "id": "0dZ5KA2vqtDr"
   },
   "source": [
    "# Метрики"
   ]
  },
  {
   "cell_type": "code",
   "execution_count": 43,
   "metadata": {
    "id": "cnv8JgZNqtDr"
   },
   "outputs": [],
   "source": [
    "def MRR(test_data, predict_data):\n",
    "\n",
    "    '''\n",
    "    RR - обратный ранг: 1 / индеск первого вхождения рекомендации в тест\n",
    "\n",
    "    На вход подается:\n",
    "        - test_data - тестовый набор данных\n",
    "        - predict_data - предсказания\n",
    "\n",
    "    k берется таким, для которого мы рассчитывали рекомендации (длина рекомендаций)\n",
    "\n",
    "    На выходе:\n",
    "        Метрика MRR@k по всем пользователям\n",
    "    '''\n",
    "\n",
    "    sum_rr = 0\n",
    "    # находим порядковый номер первого вхождения правильной рекомендации в тест\n",
    "    for user in test_data.index.unique():\n",
    "        rank = []\n",
    "        if user in predict_data.index.unique() and not type(predict_data.ticker[user])==float:\n",
    "            rank = [1 + list(predict_data['ticker'][user]).index(x) for x in \\\n",
    "                    set(predict_data['ticker'][user]).intersection(set(test_data['ticker'][user]))]\n",
    "            \n",
    "            # находим обратный ранк, если попадания нет, то зануляем\n",
    "            if len(rank) == 0:\n",
    "                rr = 0\n",
    "            else:\n",
    "                rr = 1 / min(rank)\n",
    "\n",
    "            sum_rr += rr\n",
    "    \n",
    "    # находим среднее по пользователям\n",
    "    return sum_rr / len(test_data.index.unique())"
   ]
  },
  {
   "cell_type": "code",
   "execution_count": 18,
   "metadata": {
    "id": "LRorjAYCqtDt"
   },
   "outputs": [],
   "source": [
    "def mean_average_precision(test_data, predict_data):\n",
    "\n",
    "    '''\n",
    "    Mean Average Precision - средняя точность по пользователям\n",
    "\n",
    "    На вход:\n",
    "        - test_data - тестовый набор данных\n",
    "        - predict_data - предсказания\n",
    "\n",
    "    k берется таким, для которого мы рассчитывали рекомендации (длина рекомендаций)\n",
    "\n",
    "    На выходе:\n",
    "        Метрика MAP@k по всем пользователям\n",
    "    '''\n",
    "\n",
    "    sum_ap = 0\n",
    "\n",
    "    # итерируемся по пользователям\n",
    "    for user in test_data.index.unique():\n",
    "        \n",
    "        if user in predict_data.index and not type(predict_data.ticker[user])==float:\n",
    "            num_hits = 0\n",
    "            score = 0\n",
    "            \n",
    "            for i, p in enumerate(predict_data['ticker'][user]):\n",
    "\n",
    "                if p in test_data['ticker'][user] and p not in predict_data['ticker'][user][:i]:\n",
    "                    num_hits += 1\n",
    "                    score += num_hits / (i + 1)\n",
    "\n",
    "            sum_ap += score / min(len(test_data['ticker'][user]), len(predict_data['ticker'][user]))\n",
    "\n",
    "\n",
    "    # находим среднее по пользователям\n",
    "    return sum_ap / len(test_data.index.unique())"
   ]
  },
  {
   "cell_type": "code",
   "execution_count": 19,
   "metadata": {
    "id": "lTUA9Y24qtDt"
   },
   "outputs": [],
   "source": [
    "def mean_average_recall(test_data, predict_data):\n",
    "\n",
    "    '''\n",
    "     На вход подается:\n",
    "         - test_data - тестовый набор данных\n",
    "         - predict_data - предсказания\n",
    "\n",
    "     k берется таким, для которого мы рассчитывали рекомендации (длина рекомендаций)\n",
    "\n",
    "     На выходе:\n",
    "         Метрика MAR@k по всем пользователям\n",
    "    '''\n",
    "\n",
    "    sum_recall = 0\n",
    "\n",
    "    # вычисляем метрику по каждому пользователю\n",
    "    for user in test_data.index.unique():\n",
    "        if user in predict_data.index and not type(predict_data.ticker[user])==float:\n",
    "\n",
    "            TP = len(set(predict_data['ticker'][user]).intersection(set(test_data['ticker'][user])))\n",
    "            TP_FN = len(test_data['ticker'][user])\n",
    "\n",
    "            sum_recall += TP / TP_FN\n",
    "\n",
    "    # находим среднее по пользователям\n",
    "    return sum_recall / len(test_data.index.unique())"
   ]
  },
  {
   "cell_type": "code",
   "execution_count": 44,
   "metadata": {
    "id": "tnqCmlKkqtDt"
   },
   "outputs": [],
   "source": [
    "def NDCG(test_data, predict_data):\n",
    "    \n",
    "    '''\n",
    "    NDCG - метрика, равная сумме выражений вида 1/log2(k_true+1), деленная на 1/log2(k_all+1) по всем пользователям,\n",
    "        где k_true - ранг правильно предсказанных акций, k_all - все ранги\n",
    "    \n",
    "    \n",
    "    На вход подается: \n",
    "        - test_data - тестовый набор данных \n",
    "        - predict_data - предсказания модели\n",
    "    \n",
    "    k берется равным длине рассчитанных рекомендаций \n",
    "    \n",
    "    На выходе: \n",
    "        Метрика NDCG по всем пользователям\n",
    "    '''\n",
    "    \n",
    "    dcg = 0\n",
    "    idcg = 0\n",
    "    \n",
    "    for user in test_data.index.unique():\n",
    "        if user in predict_data.index and not type(predict_data.ticker[user])==float:\n",
    "            \n",
    "            # определяем ранги правильно предсказанных акций\n",
    "            rec_ranks = [1 + list(predict_data['ticker'][user]).index(x) for x in \\\n",
    "                    set(predict_data['ticker'][user]).intersection(set(test_data['ticker'][user]))]\n",
    "            \n",
    "            dcg += sum([ 1 / log2(r+1) for r in rec_ranks]) # сумма по правильно предсказанным акциям \n",
    "            idcg += sum([ 1 / log2(r+1) for r in range(1, 11)]) # максимально возможная сумма\n",
    "                \n",
    "    ndcg = dcg/idcg\n",
    "    \n",
    "    return ndcg / (test_data.index.nunique())"
   ]
  },
  {
   "cell_type": "code",
   "execution_count": 21,
   "metadata": {
    "id": "imu_cRBDqtDt"
   },
   "outputs": [],
   "source": [
    "def calculate_metrics(test_data, predict_data, metrics=[]):\n",
    "    \n",
    "    '''\n",
    "    На вход подается:\n",
    "        test_data - тестовый набор данных\n",
    "        predict_data - рекомендации для пользователя\n",
    "        metrics - список нужных метрик \n",
    "    \n",
    "    На выходе:\n",
    "        Вычисленная таблица с результатами \n",
    "    '''\n",
    "    \n",
    "    if len(metrics) == 0:\n",
    "        raise ValueError('metrics are empty')\n",
    "        \n",
    "    results = []\n",
    "    for metric in metrics:\n",
    "        results.append(metric(test_data, predict_data))\n",
    "    \n",
    "    return results"
   ]
  },
  {
   "cell_type": "code",
   "execution_count": 37,
   "metadata": {},
   "outputs": [
    {
     "name": "stdout",
     "output_type": "stream",
     "text": [
      "2023-03-15 08:46:39.208210\n"
     ]
    },
    {
     "data": {
      "application/vnd.jupyter.widget-view+json": {
       "model_id": "6f3117a6b0614cb1984d463daf7d9804",
       "version_major": 2,
       "version_minor": 0
      },
      "text/plain": [
       "  0%|          | 0/161 [00:00<?, ?it/s]"
      ]
     },
     "metadata": {},
     "output_type": "display_data"
    },
    {
     "ename": "ValueError",
     "evalue": "not enough values to unpack (expected 1, got 0)",
     "output_type": "error",
     "traceback": [
      "\u001b[1;31m---------------------------------------------------------------------------\u001b[0m",
      "\u001b[1;31mValueError\u001b[0m                                Traceback (most recent call last)",
      "\u001b[1;32m~\\AppData\\Local\\Temp/ipykernel_17092/780395811.py\u001b[0m in \u001b[0;36m<module>\u001b[1;34m\u001b[0m\n\u001b[0;32m      6\u001b[0m \u001b[1;31m#print(MRR(test, recs), datetime.datetime.now()-t)\u001b[0m\u001b[1;33m\u001b[0m\u001b[1;33m\u001b[0m\u001b[0m\n\u001b[0;32m      7\u001b[0m \u001b[0mt\u001b[0m \u001b[1;33m=\u001b[0m \u001b[0mdatetime\u001b[0m\u001b[1;33m.\u001b[0m\u001b[0mdatetime\u001b[0m\u001b[1;33m.\u001b[0m\u001b[0mnow\u001b[0m\u001b[1;33m(\u001b[0m\u001b[1;33m)\u001b[0m\u001b[1;33m\u001b[0m\u001b[1;33m\u001b[0m\u001b[0m\n\u001b[1;32m----> 8\u001b[1;33m \u001b[0mprint\u001b[0m\u001b[1;33m(\u001b[0m\u001b[0mMRR_num\u001b[0m\u001b[1;33m(\u001b[0m\u001b[0mtest\u001b[0m\u001b[1;33m,\u001b[0m \u001b[0mrecs\u001b[0m\u001b[1;33m)\u001b[0m\u001b[1;33m,\u001b[0m \u001b[0mdatetime\u001b[0m\u001b[1;33m.\u001b[0m\u001b[0mdatetime\u001b[0m\u001b[1;33m.\u001b[0m\u001b[0mnow\u001b[0m\u001b[1;33m(\u001b[0m\u001b[1;33m)\u001b[0m\u001b[1;33m-\u001b[0m\u001b[0mt\u001b[0m\u001b[1;33m)\u001b[0m\u001b[1;33m\u001b[0m\u001b[1;33m\u001b[0m\u001b[0m\n\u001b[0m",
      "\u001b[1;32m~\\AppData\\Local\\Temp/ipykernel_17092/2891594190.py\u001b[0m in \u001b[0;36mMRR_num\u001b[1;34m(test_data, predict_data)\u001b[0m\n\u001b[0;32m     24\u001b[0m             \u001b[0mtest_items\u001b[0m \u001b[1;33m=\u001b[0m \u001b[0mnp\u001b[0m\u001b[1;33m.\u001b[0m\u001b[0marray\u001b[0m\u001b[1;33m(\u001b[0m\u001b[0mtest_data\u001b[0m\u001b[1;33m[\u001b[0m\u001b[1;34m'ticker'\u001b[0m\u001b[1;33m]\u001b[0m\u001b[1;33m[\u001b[0m\u001b[0muser\u001b[0m\u001b[1;33m]\u001b[0m\u001b[1;33m)\u001b[0m\u001b[1;33m\u001b[0m\u001b[1;33m\u001b[0m\u001b[0m\n\u001b[0;32m     25\u001b[0m \u001b[1;33m\u001b[0m\u001b[0m\n\u001b[1;32m---> 26\u001b[1;33m             \u001b[0mrank\u001b[0m\u001b[1;33m,\u001b[0m  \u001b[1;33m=\u001b[0m \u001b[1;33m[\u001b[0m\u001b[0mnp\u001b[0m\u001b[1;33m.\u001b[0m\u001b[0mwhere\u001b[0m\u001b[1;33m(\u001b[0m\u001b[0mpred_items\u001b[0m\u001b[1;33m==\u001b[0m\u001b[0mx\u001b[0m\u001b[1;33m)\u001b[0m \u001b[1;32mfor\u001b[0m \u001b[0mx\u001b[0m \u001b[1;32min\u001b[0m \u001b[0mnp\u001b[0m\u001b[1;33m.\u001b[0m\u001b[0mintersect1d\u001b[0m\u001b[1;33m(\u001b[0m\u001b[0mpred_items\u001b[0m\u001b[1;33m,\u001b[0m \u001b[0mtest_items\u001b[0m\u001b[1;33m)\u001b[0m\u001b[1;33m]\u001b[0m\u001b[1;33m\u001b[0m\u001b[1;33m\u001b[0m\u001b[0m\n\u001b[0m\u001b[0;32m     27\u001b[0m             \u001b[0mrank\u001b[0m \u001b[1;33m+=\u001b[0m \u001b[1;36m1\u001b[0m\u001b[1;33m\u001b[0m\u001b[1;33m\u001b[0m\u001b[0m\n\u001b[0;32m     28\u001b[0m                     \u001b[1;31m#set(predict_data['ticker'][user]).intersection(set(test_data['ticker'][user]))]\u001b[0m\u001b[1;33m\u001b[0m\u001b[1;33m\u001b[0m\u001b[0m\n",
      "\u001b[1;31mValueError\u001b[0m: not enough values to unpack (expected 1, got 0)"
     ]
    }
   ],
   "source": [
    "t = d.datetime.now()\n",
    "print(t)\n",
    "test.set_index(test.user.apply(lambda x: user2ind[x]), inplace = True)\n",
    "recs = get_recommenders(CosineRecommender, csr_train, test)\n",
    "recs.set_index(recs.user.apply(lambda x: user2ind[x]), inplace=True)\n",
    "t = d.datetime.now()\n",
    "print(MRR_num(test, recs), d.datetime.now()-t)"
   ]
  },
  {
   "cell_type": "code",
   "execution_count": 24,
   "metadata": {
    "id": "5XwWR_3ZnJy1"
   },
   "outputs": [],
   "source": [
    "models = {\"cosine\": CosineRecommender,\n",
    "          \"tfidf\": TFIDFRecommender, \n",
    "          \"als\": AlternatingLeastSquares,\n",
    "          \"lmf\": LogisticMatrixFactorization,\n",
    "          \"bpr\": BayesianPersonalizedRanking}\n",
    "\n",
    "metrics = {\"MRR\": MRR, \"NDCG\": NDCG, \"MAP\": mean_average_precision}\n",
    "metrics = [MRR, NDCG, mean_average_precision]\n",
    "\n",
    "hyperparameters = {\"K\": [20], # количество соседей для подбора айтемов для рекомендаций\n",
    "                   \"fact\": [35, 45], # количество скрытых факторов\n",
    "                   \"regul\": [3.5, 4, 4,5], # параметр регуляризации\n",
    "                   \"iter\": [20, 35] # количество итераций для подбора матриц\n",
    "                   }\n"
   ]
  },
  {
   "cell_type": "code",
   "execution_count": 23,
   "metadata": {
    "id": "govQkhsamnu4"
   },
   "outputs": [],
   "source": [
    "def comparing_models(compare_models, train, test, models, metrics, hyperparameters):\n",
    "    \n",
    "    '''\n",
    "    На вход подается: \n",
    "        compare_models - датафрейм для сравнения метрик моделей с различными гиперпараметрами\n",
    "        train - набор данных для обучения модели\n",
    "        test - тестовый набор данных\n",
    "        models - словарь обучаемых моделей с их алиасами\n",
    "        metrics - список метрик \n",
    "        metrics - словарь со списками значений по каждому гиперпараметру для сравнения модели\n",
    "        \n",
    "    На выходе: \n",
    "        Датафрейм с заполненными данными по каждой модели    \n",
    "    '''\n",
    "    \n",
    "    t = d.datetime.now()\n",
    "    \n",
    "    # корректировка датафреймов \n",
    "    test.set_index(test.user.apply(lambda x: user2ind[x]), inplace = True)\n",
    "\n",
    "    for model_name, model in models.items():\n",
    "        \n",
    "        if model == CosineRecommender or model == TFIDFRecommender:\n",
    "            for k in hyperparameters[\"K\"]:\n",
    "                # создаем эксперимент для логирования метрик в comet ml\n",
    "                experiment = Experiment(\n",
    "                    api_key=\"5KHdGGECPvjMaU1x9uobLnGyb\",\n",
    "                    project_name=\"RecSysTop\",\n",
    "                    workspace=\"pashinskaya03\",\n",
    "                )\n",
    "                parameters = {'K': k}\n",
    "                experiment.log_parameters(parameters) # логирование гиперпараметров\n",
    "                \n",
    "                # создаем строку для добавления в датафрейм\n",
    "                row = [model_name]\n",
    "                row += [k, None, None, None]\n",
    "                \n",
    "                fitting_model = model(K=k)\n",
    "\n",
    "                recs = get_recommenders(model, train, test) \n",
    "                recs.set_index(recs.user.apply(lambda x: user2ind[x]), inplace=True)\n",
    "                \n",
    "                metrics = [MRR(test, recs), NDCG(test, recs), mean_average_precision(test, recs)] \n",
    "                \n",
    "                row += metrics\n",
    "                metrics = {'MRR': metrics[0], 'NDCG': metrics[1], \"MAP\": metrics[2]}\n",
    "                experiment.log_metrics(metrics, step=1) # логирование метрик\n",
    "\n",
    "                print(row, d.datetime.now() - t) \n",
    "                t = d.datetime.now()\n",
    "\n",
    "                \n",
    "                compare_models.loc[compare_models.shape[0]] = row # заполнение датафрейма \n",
    "                \n",
    "                \n",
    "                experiment.end()\n",
    "\n",
    "        if model == AlternatingLeastSquares or model == LogisticMatrixFactorization or model == BayesianPersonalizedRanking:\n",
    "            for f in hyperparameters[\"fact\"]:\n",
    "                for r in hyperparameters[\"regul\"]:\n",
    "                    for i in hyperparameters[\"iter\"]:\n",
    "                        \n",
    "                        experiment = Experiment(\n",
    "                            api_key=\"5KHdGGECPvjMaU1x9uobLnGyb\",\n",
    "                            project_name=\"RecSysTop\",\n",
    "                            workspace=\"pashinskaya03\",\n",
    "                        )\n",
    "                        parameters = {'factors': f, \"regularisation\": r, \"iteration\": i}\n",
    "                        experiment.log_parameters(parameters) # логирование гиперпараметров\n",
    "                        \n",
    "                        # создаем строку для добавления в датафрейм\n",
    "                        row = [model_name]\n",
    "                        row += [None, f, r, i]\n",
    "\n",
    "                        fitting_model = model(factors=f, regularization=r, iterations=i)\n",
    "\n",
    "                        recs = get_recommenders(model, train, test)\n",
    "                        recs.set_index(recs.user.apply(lambda x: user2ind[x]), inplace=True)\n",
    "\n",
    "                        metrics = [MRR(test, recs), NDCG(test, recs), mean_average_precision(test, recs)]\n",
    "\n",
    "                        row += metrics\n",
    "                        metrics = {'MRR': metrics[0], 'NDCG': metrics[1], \"MAP\": metrics[2]}\n",
    "                        experiment.log_metrics(metrics, step=1) # логирование метрик\n",
    "\n",
    "                        print(row, d.datetime.now() - t) \n",
    "                        t = d.datetime.now()\n",
    "\n",
    "\n",
    "                        compare_models.loc[compare_models.shape[0]] = row # заполнение датафрейма\n",
    "\n",
    "\n",
    "                        experiment.end()\n",
    "    \n",
    "    return compare_models"
   ]
  },
  {
   "cell_type": "code",
   "execution_count": null,
   "metadata": {
    "scrolled": true
   },
   "outputs": [
    {
     "name": "stderr",
     "output_type": "stream",
     "text": [
      "COMET WARNING: As you are running in a Jupyter environment, you will need to call `experiment.end()` when finished to ensure all metrics and code are logged before exiting.\n",
      "COMET INFO: Experiment is live on comet.com https://www.comet.com/pashinskaya03/recsystop/591e3651f48c4695b324d37bd344c422\n",
      "\n"
     ]
    },
    {
     "data": {
      "application/vnd.jupyter.widget-view+json": {
       "model_id": "9d66df5f516845f19123e18bed9322ea",
       "version_major": 2,
       "version_minor": 0
      },
      "text/plain": [
       "  0%|          | 0/161 [00:00<?, ?it/s]"
      ]
     },
     "metadata": {},
     "output_type": "display_data"
    },
    {
     "name": "stderr",
     "output_type": "stream",
     "text": [
      "COMET INFO: ---------------------------------------------------------------------------------------\n",
      "COMET INFO: Comet.ml Experiment Summary\n",
      "COMET INFO: ---------------------------------------------------------------------------------------\n",
      "COMET INFO:   Data:\n",
      "COMET INFO:     display_summary_level : 1\n",
      "COMET INFO:     url                   : https://www.comet.com/pashinskaya03/recsystop/591e3651f48c4695b324d37bd344c422\n",
      "COMET INFO:   Metrics:\n",
      "COMET INFO:     MAP  : 0.0012654888122804733\n",
      "COMET INFO:     MRR  : 0.1172351511828901\n",
      "COMET INFO:     NDCG : 2.38178876873865e-06\n",
      "COMET INFO:   Parameters:\n",
      "COMET INFO:     K : 20\n",
      "COMET INFO:   Uploads:\n",
      "COMET INFO:     conda-environment-definition : 1\n",
      "COMET INFO:     conda-info                   : 1\n",
      "COMET INFO:     conda-specification          : 1\n",
      "COMET INFO:     environment details          : 1\n",
      "COMET INFO:     filename                     : 1\n",
      "COMET INFO:     git metadata                 : 1\n",
      "COMET INFO:     git-patch (uncompressed)     : 1 (600.61 KB)\n",
      "COMET INFO:     installed packages           : 1\n",
      "COMET INFO:     notebook                     : 1\n",
      "COMET INFO:     source_code                  : 1\n",
      "COMET INFO: \n"
     ]
    },
    {
     "name": "stdout",
     "output_type": "stream",
     "text": [
      "['cosine', 20, None, None, None, 0.1172351511828901, 2.38178876873865e-06, 0.0012654888122804733] 0:38:14.743296\n"
     ]
    },
    {
     "name": "stderr",
     "output_type": "stream",
     "text": [
      "COMET INFO: Uploading metrics, params, and assets to Comet before program termination (may take several seconds)\n",
      "COMET INFO: The Python SDK has 3600 seconds to finish uploading collected data\n",
      "COMET WARNING: As you are running in a Jupyter environment, you will need to call `experiment.end()` when finished to ensure all metrics and code are logged before exiting.\n",
      "COMET INFO: Experiment is live on comet.com https://www.comet.com/pashinskaya03/recsystop/a9fc1599340f4014964f9b93a2e445d8\n",
      "\n"
     ]
    },
    {
     "data": {
      "application/vnd.jupyter.widget-view+json": {
       "model_id": "fe1e6b81aef943f7811c44a6ab437374",
       "version_major": 2,
       "version_minor": 0
      },
      "text/plain": [
       "  0%|          | 0/161 [00:00<?, ?it/s]"
      ]
     },
     "metadata": {},
     "output_type": "display_data"
    },
    {
     "name": "stderr",
     "output_type": "stream",
     "text": [
      "COMET INFO: ---------------------------------------------------------------------------------------\n",
      "COMET INFO: Comet.ml Experiment Summary\n",
      "COMET INFO: ---------------------------------------------------------------------------------------\n",
      "COMET INFO:   Data:\n",
      "COMET INFO:     display_summary_level : 1\n",
      "COMET INFO:     url                   : https://www.comet.com/pashinskaya03/recsystop/a9fc1599340f4014964f9b93a2e445d8\n",
      "COMET INFO:   Metrics:\n",
      "COMET INFO:     MAP  : 0.0014511719435616904\n",
      "COMET INFO:     MRR  : 0.12908217285006188\n",
      "COMET INFO:     NDCG : 2.6164479586205306e-06\n",
      "COMET INFO:   Parameters:\n",
      "COMET INFO:     K : 20\n",
      "COMET INFO:   Uploads:\n",
      "COMET INFO:     conda-environment-definition : 1\n",
      "COMET INFO:     conda-info                   : 1\n",
      "COMET INFO:     conda-specification          : 1\n",
      "COMET INFO:     environment details          : 1\n",
      "COMET INFO:     filename                     : 1\n",
      "COMET INFO:     git metadata                 : 1\n",
      "COMET INFO:     git-patch (uncompressed)     : 1 (600.87 KB)\n",
      "COMET INFO:     installed packages           : 1\n",
      "COMET INFO:     notebook                     : 1\n",
      "COMET INFO:     source_code                  : 1\n",
      "COMET INFO: \n"
     ]
    },
    {
     "name": "stdout",
     "output_type": "stream",
     "text": [
      "['tfidf', 20, None, None, None, 0.12908217285006188, 2.6164479586205306e-06, 0.0014511719435616904] 0:36:57.930661\n"
     ]
    },
    {
     "name": "stderr",
     "output_type": "stream",
     "text": [
      "COMET INFO: Uploading 1 metrics, params and output messages\n",
      "COMET WARNING: As you are running in a Jupyter environment, you will need to call `experiment.end()` when finished to ensure all metrics and code are logged before exiting.\n",
      "COMET INFO: Experiment is live on comet.com https://www.comet.com/pashinskaya03/recsystop/be337d5f13eb47e6a50320ddedda68da\n",
      "\n"
     ]
    },
    {
     "data": {
      "application/vnd.jupyter.widget-view+json": {
       "model_id": "d1b94ede2f5c42e6b4563d51938e0a60",
       "version_major": 2,
       "version_minor": 0
      },
      "text/plain": [
       "  0%|          | 0/20 [00:00<?, ?it/s]"
      ]
     },
     "metadata": {},
     "output_type": "display_data"
    },
    {
     "name": "stderr",
     "output_type": "stream",
     "text": [
      "COMET INFO: ---------------------------------------------------------------------------------------\n",
      "COMET INFO: Comet.ml Experiment Summary\n",
      "COMET INFO: ---------------------------------------------------------------------------------------\n",
      "COMET INFO:   Data:\n",
      "COMET INFO:     display_summary_level : 1\n",
      "COMET INFO:     url                   : https://www.comet.com/pashinskaya03/recsystop/be337d5f13eb47e6a50320ddedda68da\n",
      "COMET INFO:   Metrics:\n",
      "COMET INFO:     MAP  : 0.0013461367212424186\n",
      "COMET INFO:     MRR  : 0.15208011980647906\n",
      "COMET INFO:     NDCG : 1.979666315842978e-06\n",
      "COMET INFO:   Parameters:\n",
      "COMET INFO:     factors        : 35\n",
      "COMET INFO:     iteration      : 20\n",
      "COMET INFO:     regularisation : 3.5\n",
      "COMET INFO:   Uploads:\n",
      "COMET INFO:     conda-environment-definition : 1\n",
      "COMET INFO:     conda-info                   : 1\n",
      "COMET INFO:     conda-specification          : 1\n",
      "COMET INFO:     environment details          : 1\n",
      "COMET INFO:     filename                     : 1\n",
      "COMET INFO:     git metadata                 : 1\n",
      "COMET INFO:     git-patch (uncompressed)     : 1 (603.56 KB)\n",
      "COMET INFO:     installed packages           : 1\n",
      "COMET INFO:     notebook                     : 1\n",
      "COMET INFO:     source_code                  : 1\n",
      "COMET INFO: \n"
     ]
    },
    {
     "name": "stdout",
     "output_type": "stream",
     "text": [
      "['als', None, 35, 3.5, 20, 0.15208011980647906, 1.979666315842978e-06, 0.0013461367212424186] 0:42:10.382645\n"
     ]
    },
    {
     "name": "stderr",
     "output_type": "stream",
     "text": [
      "COMET INFO: Uploading 1 metrics, params and output messages\n",
      "COMET WARNING: As you are running in a Jupyter environment, you will need to call `experiment.end()` when finished to ensure all metrics and code are logged before exiting.\n",
      "COMET INFO: Experiment is live on comet.com https://www.comet.com/pashinskaya03/recsystop/73373e0cacff439b94ed4bfd4fdbfdfa\n",
      "\n"
     ]
    },
    {
     "data": {
      "application/vnd.jupyter.widget-view+json": {
       "model_id": "94268baf6ea64ca881d170f7ff0c3b17",
       "version_major": 2,
       "version_minor": 0
      },
      "text/plain": [
       "  0%|          | 0/20 [00:00<?, ?it/s]"
      ]
     },
     "metadata": {},
     "output_type": "display_data"
    },
    {
     "name": "stderr",
     "output_type": "stream",
     "text": [
      "COMET INFO: ---------------------------------------------------------------------------------------\n",
      "COMET INFO: Comet.ml Experiment Summary\n",
      "COMET INFO: ---------------------------------------------------------------------------------------\n",
      "COMET INFO:   Data:\n",
      "COMET INFO:     display_summary_level : 1\n",
      "COMET INFO:     url                   : https://www.comet.com/pashinskaya03/recsystop/73373e0cacff439b94ed4bfd4fdbfdfa\n",
      "COMET INFO:   Metrics:\n",
      "COMET INFO:     MAP  : 0.0011939207299068093\n",
      "COMET INFO:     MRR  : 0.09391179914140632\n",
      "COMET INFO:     NDCG : 1.669912581209146e-06\n",
      "COMET INFO:   Parameters:\n",
      "COMET INFO:     factors        : 35\n",
      "COMET INFO:     iteration      : 35\n",
      "COMET INFO:     regularisation : 3.5\n",
      "COMET INFO:   Uploads:\n",
      "COMET INFO:     conda-environment-definition : 1\n",
      "COMET INFO:     conda-info                   : 1\n",
      "COMET INFO:     conda-specification          : 1\n",
      "COMET INFO:     environment details          : 1\n",
      "COMET INFO:     filename                     : 1\n",
      "COMET INFO:     git metadata                 : 1\n",
      "COMET INFO:     git-patch (uncompressed)     : 1 (605.49 KB)\n",
      "COMET INFO:     installed packages           : 1\n",
      "COMET INFO:     notebook                     : 1\n",
      "COMET INFO:     source_code                  : 1\n",
      "COMET INFO: \n"
     ]
    },
    {
     "name": "stdout",
     "output_type": "stream",
     "text": [
      "['als', None, 35, 3.5, 35, 0.09391179914140632, 1.669912581209146e-06, 0.0011939207299068093] 0:43:10.997326\n"
     ]
    },
    {
     "name": "stderr",
     "output_type": "stream",
     "text": [
      "COMET INFO: Uploading 1 metrics, params and output messages\n",
      "COMET WARNING: As you are running in a Jupyter environment, you will need to call `experiment.end()` when finished to ensure all metrics and code are logged before exiting.\n",
      "COMET INFO: Experiment is live on comet.com https://www.comet.com/pashinskaya03/recsystop/6b3cd43dce2b42518cd07be5588c4811\n",
      "\n"
     ]
    },
    {
     "data": {
      "application/vnd.jupyter.widget-view+json": {
       "model_id": "9e20e7c370c548ddabb0541773e7a8c9",
       "version_major": 2,
       "version_minor": 0
      },
      "text/plain": [
       "  0%|          | 0/20 [00:00<?, ?it/s]"
      ]
     },
     "metadata": {},
     "output_type": "display_data"
    },
    {
     "name": "stderr",
     "output_type": "stream",
     "text": [
      "COMET INFO: ---------------------------------------------------------------------------------------\n",
      "COMET INFO: Comet.ml Experiment Summary\n",
      "COMET INFO: ---------------------------------------------------------------------------------------\n",
      "COMET INFO:   Data:\n",
      "COMET INFO:     display_summary_level : 1\n",
      "COMET INFO:     url                   : https://www.comet.com/pashinskaya03/recsystop/6b3cd43dce2b42518cd07be5588c4811\n",
      "COMET INFO:   Metrics:\n",
      "COMET INFO:     MAP  : 0.0013284603876674908\n",
      "COMET INFO:     MRR  : 0.12535053254206008\n",
      "COMET INFO:     NDCG : 1.9446428752620938e-06\n",
      "COMET INFO:   Parameters:\n",
      "COMET INFO:     factors        : 35\n",
      "COMET INFO:     iteration      : 20\n",
      "COMET INFO:     regularisation : 4\n",
      "COMET INFO:   Uploads:\n",
      "COMET INFO:     conda-environment-definition : 1\n",
      "COMET INFO:     conda-info                   : 1\n",
      "COMET INFO:     conda-specification          : 1\n",
      "COMET INFO:     environment details          : 1\n",
      "COMET INFO:     filename                     : 1\n",
      "COMET INFO:     git metadata                 : 1\n",
      "COMET INFO:     git-patch (uncompressed)     : 1 (608.15 KB)\n",
      "COMET INFO:     installed packages           : 1\n",
      "COMET INFO:     notebook                     : 1\n",
      "COMET INFO:     source_code                  : 1\n",
      "COMET INFO: \n"
     ]
    },
    {
     "name": "stdout",
     "output_type": "stream",
     "text": [
      "['als', None, 35, 4, 20, 0.12535053254206008, 1.9446428752620938e-06, 0.0013284603876674908] 0:44:10.122634\n"
     ]
    },
    {
     "name": "stderr",
     "output_type": "stream",
     "text": [
      "COMET INFO: Uploading 1 metrics, params and output messages\n",
      "COMET WARNING: As you are running in a Jupyter environment, you will need to call `experiment.end()` when finished to ensure all metrics and code are logged before exiting.\n",
      "COMET INFO: Experiment is live on comet.com https://www.comet.com/pashinskaya03/recsystop/1786b62f164945198f0976dda8bd2b07\n",
      "\n"
     ]
    },
    {
     "data": {
      "application/vnd.jupyter.widget-view+json": {
       "model_id": "609e63e7a2aa47b0a7655f55359dcaa5",
       "version_major": 2,
       "version_minor": 0
      },
      "text/plain": [
       "  0%|          | 0/20 [00:00<?, ?it/s]"
      ]
     },
     "metadata": {},
     "output_type": "display_data"
    },
    {
     "name": "stderr",
     "output_type": "stream",
     "text": [
      "COMET INFO: ---------------------------------------------------------------------------------------\n",
      "COMET INFO: Comet.ml Experiment Summary\n",
      "COMET INFO: ---------------------------------------------------------------------------------------\n",
      "COMET INFO:   Data:\n",
      "COMET INFO:     display_summary_level : 1\n",
      "COMET INFO:     url                   : https://www.comet.com/pashinskaya03/recsystop/1786b62f164945198f0976dda8bd2b07\n",
      "COMET INFO:   Metrics:\n",
      "COMET INFO:     MAP  : 0.0011875194876528282\n",
      "COMET INFO:     MRR  : 0.08309942987645538\n",
      "COMET INFO:     NDCG : 1.4706161944210925e-06\n",
      "COMET INFO:   Parameters:\n",
      "COMET INFO:     factors        : 35\n",
      "COMET INFO:     iteration      : 35\n",
      "COMET INFO:     regularisation : 4\n",
      "COMET INFO:   Uploads:\n",
      "COMET INFO:     conda-environment-definition : 1\n",
      "COMET INFO:     conda-info                   : 1\n",
      "COMET INFO:     conda-specification          : 1\n",
      "COMET INFO:     environment details          : 1\n",
      "COMET INFO:     filename                     : 1\n",
      "COMET INFO:     git metadata                 : 1\n",
      "COMET INFO:     git-patch (uncompressed)     : 1 (610.80 KB)\n",
      "COMET INFO:     installed packages           : 1\n",
      "COMET INFO:     notebook                     : 1\n",
      "COMET INFO:     source_code                  : 1\n",
      "COMET INFO: \n"
     ]
    },
    {
     "name": "stdout",
     "output_type": "stream",
     "text": [
      "['als', None, 35, 4, 35, 0.08309942987645538, 1.4706161944210925e-06, 0.0011875194876528282] 0:44:00.754096\n"
     ]
    },
    {
     "name": "stderr",
     "output_type": "stream",
     "text": [
      "COMET INFO: Uploading 1 metrics, params and output messages\n",
      "COMET WARNING: As you are running in a Jupyter environment, you will need to call `experiment.end()` when finished to ensure all metrics and code are logged before exiting.\n",
      "COMET INFO: Experiment is live on comet.com https://www.comet.com/pashinskaya03/recsystop/3cb6e3fd6e804747b2aabe8ffef9efaf\n",
      "\n"
     ]
    },
    {
     "data": {
      "application/vnd.jupyter.widget-view+json": {
       "model_id": "f2195454b44b4d4f975c32f3b031d99f",
       "version_major": 2,
       "version_minor": 0
      },
      "text/plain": [
       "  0%|          | 0/20 [00:00<?, ?it/s]"
      ]
     },
     "metadata": {},
     "output_type": "display_data"
    }
   ],
   "source": [
    "%%time\n",
    "compare_models = pd.DataFrame(columns = [\"model\", \"K\", \"fact\", \"regul\", \"iter\", \"MRR\", \"NDCG\", \"MAP\"])\n",
    "\n",
    "print(comparing_models(compare_models, csr_train, test, models, metrics, hyperparameters))"
   ]
  },
  {
   "cell_type": "code",
   "execution_count": 40,
   "metadata": {},
   "outputs": [],
   "source": [
    "compare_models = pd.DataFrame(columns = [\"model\", \"K\", \"fact\", \"regul\", \"iter\", \"MRR\", \"NDCG\", \"MAP\"])\n",
    "compare_models.loc[compare_models.shape[0]] = ['cosine', 11, None, None, None, 0.14038137207530618, 2.317798902386262e-06, 0.0012654888122804733]\n",
    "compare_models.loc[compare_models.shape[0]] = ['cosine', 20, None, None, None, 0.14038137207530618, 2.317798902386262e-06, 0.0012654888122804733]\n",
    "compare_models.loc[compare_models.shape[0]] = ['tfidf', 11, None, None, None, 0.16238360321796647, 2.5455822622126053e-06, 0.0014511719435616904]\n",
    "compare_models.loc[compare_models.shape[0]] = ['tfidf', 20, None, None, None, 0.16238360321796647, 2.5455822622126053e-06, 0.0014511719435616904]\n",
    "compare_models.loc[compare_models.shape[0]] = ['als', None, 20, 0.1, 20, 0.11076168846186688, 1.586627148421417e-06, 0.0009348607781432693]\n",
    "compare_models.loc[compare_models.shape[0]] = ['als', None, 30, 0.3, 20, 0.12700258217853203, 1.796719203293858e-06, 0.0013765374596566874]\n",
    "compare_models.loc[compare_models.shape[0]] = ['als', None, 35, 3.5, 20, 0.15208011980647906, 1.979666315842978e-06, 0.0013461367212424186]\n",
    "compare_models.loc[compare_models.shape[0]] = ['als', None, 35, 3.5, 35, 0.09391179914140632, 1.669912581209146e-06, 0.0011939207299068093]\n",
    "compare_models.loc[compare_models.shape[0]] = ['als', None, 35, 4, 20, 0.12535053254206008, 1.9446428752620938e-06, 0.0013284603876674908] \n",
    "compare_models.loc[compare_models.shape[0]] = ['als', None, 35, 4, 35, 0.08309942987645538, 1.4706161944210925e-06, 0.0011875194876528282]\n",
    "compare_models.loc[compare_models.shape[0]] = ['bpr', None, 30, 1.4, 30, 0.207914, 0.000002, 0.001871]\n",
    "compare_models.loc[compare_models.shape[0]] = ['bpr', None, 30, 2.0, 30, 0.208992, 0.000003, 0.001998]\n",
    "compare_models.loc[compare_models.shape[0]] = ['bpr', None, 30, 5.0, 30, 0.182863, 0.000002, 0.001471]\n",
    "compare_models.loc[compare_models.shape[0]] = ['bpr', None, 30, 3.0, 30, 0.224656, 0.000003, 0.002223]\n",
    "compare_models.loc[compare_models.shape[0]] = ['lmf', None, 30, 0.4, 30, 0.07570409793074644, 9.482405902021696e-07, 0.0006356543256910769]\n",
    "compare_models.loc[compare_models.shape[0]] = ['lmf', None, 40, 0.6, 25, 0.08475749358327059, 9.528559809009868e-07, 0.0009027997175193745]\n",
    "compare_models.loc[compare_models.shape[0]] = ['lmf', None, 20, 0.1, 20, 0.06885638193528075, 8.536649803308999e-07, 0.0006592614876487001]\n",
    "compare_models.loc[compare_models.shape[0]] = ['lmf', None, 20, 0.1, 20, 0.06885638193528075, 8.536649803308999e-07, 0.0006592614876487001]\n"
   ]
  },
  {
   "cell_type": "code",
   "execution_count": 41,
   "metadata": {},
   "outputs": [
    {
     "data": {
      "text/html": [
       "<div>\n",
       "<style scoped>\n",
       "    .dataframe tbody tr th:only-of-type {\n",
       "        vertical-align: middle;\n",
       "    }\n",
       "\n",
       "    .dataframe tbody tr th {\n",
       "        vertical-align: top;\n",
       "    }\n",
       "\n",
       "    .dataframe thead th {\n",
       "        text-align: right;\n",
       "    }\n",
       "</style>\n",
       "<table border=\"1\" class=\"dataframe\">\n",
       "  <thead>\n",
       "    <tr style=\"text-align: right;\">\n",
       "      <th></th>\n",
       "      <th>model</th>\n",
       "      <th>K</th>\n",
       "      <th>fact</th>\n",
       "      <th>regul</th>\n",
       "      <th>iter</th>\n",
       "      <th>MRR</th>\n",
       "      <th>NDCG</th>\n",
       "      <th>MAP</th>\n",
       "      <th>sum_metr</th>\n",
       "    </tr>\n",
       "  </thead>\n",
       "  <tbody>\n",
       "    <tr>\n",
       "      <th>0</th>\n",
       "      <td>bpr</td>\n",
       "      <td>None</td>\n",
       "      <td>30</td>\n",
       "      <td>3.0</td>\n",
       "      <td>30</td>\n",
       "      <td>0.224656</td>\n",
       "      <td>3.000000e-06</td>\n",
       "      <td>0.002223</td>\n",
       "      <td>0.226882</td>\n",
       "    </tr>\n",
       "    <tr>\n",
       "      <th>1</th>\n",
       "      <td>bpr</td>\n",
       "      <td>None</td>\n",
       "      <td>30</td>\n",
       "      <td>2.0</td>\n",
       "      <td>30</td>\n",
       "      <td>0.208992</td>\n",
       "      <td>3.000000e-06</td>\n",
       "      <td>0.001998</td>\n",
       "      <td>0.210993</td>\n",
       "    </tr>\n",
       "    <tr>\n",
       "      <th>2</th>\n",
       "      <td>bpr</td>\n",
       "      <td>None</td>\n",
       "      <td>30</td>\n",
       "      <td>1.4</td>\n",
       "      <td>30</td>\n",
       "      <td>0.207914</td>\n",
       "      <td>2.000000e-06</td>\n",
       "      <td>0.001871</td>\n",
       "      <td>0.209787</td>\n",
       "    </tr>\n",
       "    <tr>\n",
       "      <th>3</th>\n",
       "      <td>bpr</td>\n",
       "      <td>None</td>\n",
       "      <td>30</td>\n",
       "      <td>5.0</td>\n",
       "      <td>30</td>\n",
       "      <td>0.182863</td>\n",
       "      <td>2.000000e-06</td>\n",
       "      <td>0.001471</td>\n",
       "      <td>0.184336</td>\n",
       "    </tr>\n",
       "    <tr>\n",
       "      <th>4</th>\n",
       "      <td>tfidf</td>\n",
       "      <td>11</td>\n",
       "      <td>None</td>\n",
       "      <td>NaN</td>\n",
       "      <td>None</td>\n",
       "      <td>0.162384</td>\n",
       "      <td>2.545582e-06</td>\n",
       "      <td>0.001451</td>\n",
       "      <td>0.163837</td>\n",
       "    </tr>\n",
       "    <tr>\n",
       "      <th>5</th>\n",
       "      <td>tfidf</td>\n",
       "      <td>20</td>\n",
       "      <td>None</td>\n",
       "      <td>NaN</td>\n",
       "      <td>None</td>\n",
       "      <td>0.162384</td>\n",
       "      <td>2.545582e-06</td>\n",
       "      <td>0.001451</td>\n",
       "      <td>0.163837</td>\n",
       "    </tr>\n",
       "    <tr>\n",
       "      <th>6</th>\n",
       "      <td>als</td>\n",
       "      <td>None</td>\n",
       "      <td>35</td>\n",
       "      <td>3.5</td>\n",
       "      <td>20</td>\n",
       "      <td>0.152080</td>\n",
       "      <td>1.979666e-06</td>\n",
       "      <td>0.001346</td>\n",
       "      <td>0.153428</td>\n",
       "    </tr>\n",
       "    <tr>\n",
       "      <th>7</th>\n",
       "      <td>cosine</td>\n",
       "      <td>11</td>\n",
       "      <td>None</td>\n",
       "      <td>NaN</td>\n",
       "      <td>None</td>\n",
       "      <td>0.140381</td>\n",
       "      <td>2.317799e-06</td>\n",
       "      <td>0.001265</td>\n",
       "      <td>0.141649</td>\n",
       "    </tr>\n",
       "    <tr>\n",
       "      <th>8</th>\n",
       "      <td>cosine</td>\n",
       "      <td>20</td>\n",
       "      <td>None</td>\n",
       "      <td>NaN</td>\n",
       "      <td>None</td>\n",
       "      <td>0.140381</td>\n",
       "      <td>2.317799e-06</td>\n",
       "      <td>0.001265</td>\n",
       "      <td>0.141649</td>\n",
       "    </tr>\n",
       "    <tr>\n",
       "      <th>9</th>\n",
       "      <td>als</td>\n",
       "      <td>None</td>\n",
       "      <td>30</td>\n",
       "      <td>0.3</td>\n",
       "      <td>20</td>\n",
       "      <td>0.127003</td>\n",
       "      <td>1.796719e-06</td>\n",
       "      <td>0.001377</td>\n",
       "      <td>0.128381</td>\n",
       "    </tr>\n",
       "    <tr>\n",
       "      <th>10</th>\n",
       "      <td>als</td>\n",
       "      <td>None</td>\n",
       "      <td>35</td>\n",
       "      <td>4.0</td>\n",
       "      <td>20</td>\n",
       "      <td>0.125351</td>\n",
       "      <td>1.944643e-06</td>\n",
       "      <td>0.001328</td>\n",
       "      <td>0.126681</td>\n",
       "    </tr>\n",
       "    <tr>\n",
       "      <th>11</th>\n",
       "      <td>als</td>\n",
       "      <td>None</td>\n",
       "      <td>20</td>\n",
       "      <td>0.1</td>\n",
       "      <td>20</td>\n",
       "      <td>0.110762</td>\n",
       "      <td>1.586627e-06</td>\n",
       "      <td>0.000935</td>\n",
       "      <td>0.111698</td>\n",
       "    </tr>\n",
       "    <tr>\n",
       "      <th>12</th>\n",
       "      <td>als</td>\n",
       "      <td>None</td>\n",
       "      <td>35</td>\n",
       "      <td>3.5</td>\n",
       "      <td>35</td>\n",
       "      <td>0.093912</td>\n",
       "      <td>1.669913e-06</td>\n",
       "      <td>0.001194</td>\n",
       "      <td>0.095107</td>\n",
       "    </tr>\n",
       "    <tr>\n",
       "      <th>13</th>\n",
       "      <td>lmf</td>\n",
       "      <td>None</td>\n",
       "      <td>40</td>\n",
       "      <td>0.6</td>\n",
       "      <td>25</td>\n",
       "      <td>0.084757</td>\n",
       "      <td>9.528560e-07</td>\n",
       "      <td>0.000903</td>\n",
       "      <td>0.085661</td>\n",
       "    </tr>\n",
       "    <tr>\n",
       "      <th>14</th>\n",
       "      <td>als</td>\n",
       "      <td>None</td>\n",
       "      <td>35</td>\n",
       "      <td>4.0</td>\n",
       "      <td>35</td>\n",
       "      <td>0.083099</td>\n",
       "      <td>1.470616e-06</td>\n",
       "      <td>0.001188</td>\n",
       "      <td>0.084288</td>\n",
       "    </tr>\n",
       "    <tr>\n",
       "      <th>15</th>\n",
       "      <td>lmf</td>\n",
       "      <td>None</td>\n",
       "      <td>30</td>\n",
       "      <td>0.4</td>\n",
       "      <td>30</td>\n",
       "      <td>0.075704</td>\n",
       "      <td>9.482406e-07</td>\n",
       "      <td>0.000636</td>\n",
       "      <td>0.076341</td>\n",
       "    </tr>\n",
       "    <tr>\n",
       "      <th>16</th>\n",
       "      <td>lmf</td>\n",
       "      <td>None</td>\n",
       "      <td>20</td>\n",
       "      <td>0.1</td>\n",
       "      <td>20</td>\n",
       "      <td>0.068856</td>\n",
       "      <td>8.536650e-07</td>\n",
       "      <td>0.000659</td>\n",
       "      <td>0.069516</td>\n",
       "    </tr>\n",
       "    <tr>\n",
       "      <th>17</th>\n",
       "      <td>lmf</td>\n",
       "      <td>None</td>\n",
       "      <td>20</td>\n",
       "      <td>0.1</td>\n",
       "      <td>20</td>\n",
       "      <td>0.068856</td>\n",
       "      <td>8.536650e-07</td>\n",
       "      <td>0.000659</td>\n",
       "      <td>0.069516</td>\n",
       "    </tr>\n",
       "  </tbody>\n",
       "</table>\n",
       "</div>"
      ],
      "text/plain": [
       "     model     K  fact  regul  iter       MRR          NDCG       MAP  \\\n",
       "0      bpr  None    30    3.0    30  0.224656  3.000000e-06  0.002223   \n",
       "1      bpr  None    30    2.0    30  0.208992  3.000000e-06  0.001998   \n",
       "2      bpr  None    30    1.4    30  0.207914  2.000000e-06  0.001871   \n",
       "3      bpr  None    30    5.0    30  0.182863  2.000000e-06  0.001471   \n",
       "4    tfidf    11  None    NaN  None  0.162384  2.545582e-06  0.001451   \n",
       "5    tfidf    20  None    NaN  None  0.162384  2.545582e-06  0.001451   \n",
       "6      als  None    35    3.5    20  0.152080  1.979666e-06  0.001346   \n",
       "7   cosine    11  None    NaN  None  0.140381  2.317799e-06  0.001265   \n",
       "8   cosine    20  None    NaN  None  0.140381  2.317799e-06  0.001265   \n",
       "9      als  None    30    0.3    20  0.127003  1.796719e-06  0.001377   \n",
       "10     als  None    35    4.0    20  0.125351  1.944643e-06  0.001328   \n",
       "11     als  None    20    0.1    20  0.110762  1.586627e-06  0.000935   \n",
       "12     als  None    35    3.5    35  0.093912  1.669913e-06  0.001194   \n",
       "13     lmf  None    40    0.6    25  0.084757  9.528560e-07  0.000903   \n",
       "14     als  None    35    4.0    35  0.083099  1.470616e-06  0.001188   \n",
       "15     lmf  None    30    0.4    30  0.075704  9.482406e-07  0.000636   \n",
       "16     lmf  None    20    0.1    20  0.068856  8.536650e-07  0.000659   \n",
       "17     lmf  None    20    0.1    20  0.068856  8.536650e-07  0.000659   \n",
       "\n",
       "    sum_metr  \n",
       "0   0.226882  \n",
       "1   0.210993  \n",
       "2   0.209787  \n",
       "3   0.184336  \n",
       "4   0.163837  \n",
       "5   0.163837  \n",
       "6   0.153428  \n",
       "7   0.141649  \n",
       "8   0.141649  \n",
       "9   0.128381  \n",
       "10  0.126681  \n",
       "11  0.111698  \n",
       "12  0.095107  \n",
       "13  0.085661  \n",
       "14  0.084288  \n",
       "15  0.076341  \n",
       "16  0.069516  \n",
       "17  0.069516  "
      ]
     },
     "execution_count": 41,
     "metadata": {},
     "output_type": "execute_result"
    }
   ],
   "source": [
    "compare_models[\"sum_metr\"] = compare_models.MRR + compare_models.NDCG + compare_models.MAP\n",
    "compare_models.sort_values(by = \"sum_metr\", inplace = True, ignore_index = True, ascending = False)\n",
    "compare_models"
   ]
  },
  {
   "cell_type": "code",
   "execution_count": 42,
   "metadata": {},
   "outputs": [],
   "source": [
    "compare_models.to_csv(\"models.csv\")"
   ]
  },
  {
   "cell_type": "code",
   "execution_count": null,
   "metadata": {},
   "outputs": [
    {
     "name": "stderr",
     "output_type": "stream",
     "text": [
      "COMET WARNING: As you are running in a Jupyter environment, you will need to call `experiment.end()` when finished to ensure all metrics and code are logged before exiting.\n",
      "COMET INFO: Experiment is live on comet.com https://www.comet.com/pashinskaya03/recsystop/a6eb9ee3880647bfb7dfe6ba4ae168bd\n",
      "\n"
     ]
    },
    {
     "data": {
      "application/vnd.jupyter.widget-view+json": {
       "model_id": "9f5629743f364d53b135d8fb311c6838",
       "version_major": 2,
       "version_minor": 0
      },
      "text/plain": [
       "  0%|          | 0/161 [00:00<?, ?it/s]"
      ]
     },
     "metadata": {},
     "output_type": "display_data"
    },
    {
     "name": "stderr",
     "output_type": "stream",
     "text": [
      "COMET INFO: ---------------------------------------------------------------------------------------\n",
      "COMET INFO: Comet.ml Experiment Summary\n",
      "COMET INFO: ---------------------------------------------------------------------------------------\n",
      "COMET INFO:   Data:\n",
      "COMET INFO:     display_summary_level : 1\n",
      "COMET INFO:     url                   : https://www.comet.com/pashinskaya03/recsystop/a6eb9ee3880647bfb7dfe6ba4ae168bd\n",
      "COMET INFO:   Metrics:\n",
      "COMET INFO:     MAP  : 0.0012654888122804733\n",
      "COMET INFO:     MRR  : 0.14038137207530618\n",
      "COMET INFO:     NDCG : 2.317798902386262e-06\n",
      "COMET INFO:   Parameters:\n",
      "COMET INFO:     K : 11\n",
      "COMET INFO:   Uploads:\n",
      "COMET INFO:     conda-environment-definition : 1\n",
      "COMET INFO:     conda-info                   : 1\n",
      "COMET INFO:     conda-specification          : 1\n",
      "COMET INFO:     environment details          : 1\n",
      "COMET INFO:     filename                     : 1\n",
      "COMET INFO:     git metadata                 : 1\n",
      "COMET INFO:     git-patch (uncompressed)     : 1 (236.51 KB)\n",
      "COMET INFO:     installed packages           : 1\n",
      "COMET INFO:     notebook                     : 1\n",
      "COMET INFO:     source_code                  : 1\n",
      "COMET INFO: \n"
     ]
    },
    {
     "name": "stdout",
     "output_type": "stream",
     "text": [
      "['cosine', 11, None, None, None, 0.14038137207530618, 2.317798902386262e-06, 0.0012654888122804733] 0:41:47.052820\n"
     ]
    },
    {
     "name": "stderr",
     "output_type": "stream",
     "text": [
      "COMET INFO: Uploading 1 metrics, params and output messages\n",
      "COMET INFO: Waiting for completion of the file uploads (may take several seconds)\n",
      "COMET INFO: The Python SDK has 10800 seconds to finish uploading collected data\n",
      "COMET INFO: Still uploading 2 file(s), remaining 85.50 KB/443.56 KB\n",
      "COMET WARNING: As you are running in a Jupyter environment, you will need to call `experiment.end()` when finished to ensure all metrics and code are logged before exiting.\n",
      "COMET INFO: Experiment is live on comet.com https://www.comet.com/pashinskaya03/recsystop/94c5ef41a985431c9207f33ba1b28eef\n",
      "\n"
     ]
    },
    {
     "data": {
      "application/vnd.jupyter.widget-view+json": {
       "model_id": "c4dbf99991834bc4b9366cd4aa5827d4",
       "version_major": 2,
       "version_minor": 0
      },
      "text/plain": [
       "  0%|          | 0/161 [00:00<?, ?it/s]"
      ]
     },
     "metadata": {},
     "output_type": "display_data"
    },
    {
     "name": "stderr",
     "output_type": "stream",
     "text": [
      "COMET ERROR: Heartbeat processing error\n",
      "COMET INFO: ---------------------------------------------------------------------------------------\n",
      "COMET INFO: Comet.ml Experiment Summary\n",
      "COMET INFO: ---------------------------------------------------------------------------------------\n",
      "COMET INFO:   Data:\n",
      "COMET INFO:     display_summary_level : 1\n",
      "COMET INFO:     url                   : https://www.comet.com/pashinskaya03/recsystop/94c5ef41a985431c9207f33ba1b28eef\n",
      "COMET INFO:   Metrics:\n",
      "COMET INFO:     MAP  : 0.0012654888122804733\n",
      "COMET INFO:     MRR  : 0.14038137207530618\n",
      "COMET INFO:     NDCG : 2.317798902386262e-06\n",
      "COMET INFO:   Parameters:\n",
      "COMET INFO:     K : 20\n",
      "COMET INFO:   Uploads:\n",
      "COMET INFO:     conda-environment-definition : 1\n",
      "COMET INFO:     conda-info                   : 1\n",
      "COMET INFO:     conda-specification          : 1\n",
      "COMET INFO:     environment details          : 1\n",
      "COMET INFO:     filename                     : 1\n",
      "COMET INFO:     git metadata                 : 1\n",
      "COMET INFO:     git-patch (uncompressed)     : 1 (223.25 KB)\n",
      "COMET INFO:     installed packages           : 1\n",
      "COMET INFO:     notebook                     : 1\n",
      "COMET INFO:     source_code                  : 1\n",
      "COMET INFO: \n"
     ]
    },
    {
     "name": "stdout",
     "output_type": "stream",
     "text": [
      "['cosine', 20, None, None, None, 0.14038137207530618, 2.317798902386262e-06, 0.0012654888122804733] 0:38:24.772562\n"
     ]
    },
    {
     "name": "stderr",
     "output_type": "stream",
     "text": [
      "COMET INFO: Using 'C:\\\\Users\\\\pasin\\\\RecSys_V2\\\\.cometml-runs' path as offline directory. Pass 'offline_directory' parameter into constructor or set the 'COMET_OFFLINE_DIRECTORY' environment variable to manually choose where to store offline experiment archives.\n",
      "COMET WARNING: Could not send live data to Comet during experiment runtime. An offline experiment will be available for upload:\n",
      "    comet upload --force-reupload C:\\Users\\pasin\\RecSys_V2\\.cometml-runs\\94c5ef41a985431c9207f33ba1b28eef-mXZdWs.zip\n",
      "COMET WARNING: As you are running in a Jupyter environment, you will need to call `experiment.end()` when finished to ensure all metrics and code are logged before exiting.\n",
      "COMET INFO: Experiment is live on comet.com https://www.comet.com/pashinskaya03/recsystop/a5e0abe61c5d415d86fadf6750aa193c\n",
      "\n"
     ]
    },
    {
     "data": {
      "application/vnd.jupyter.widget-view+json": {
       "model_id": "9f95b431b69146f580c23a3ab773cbb6",
       "version_major": 2,
       "version_minor": 0
      },
      "text/plain": [
       "  0%|          | 0/161 [00:00<?, ?it/s]"
      ]
     },
     "metadata": {},
     "output_type": "display_data"
    },
    {
     "name": "stderr",
     "output_type": "stream",
     "text": [
      "COMET INFO: ---------------------------------------------------------------------------------------\n",
      "COMET INFO: Comet.ml Experiment Summary\n",
      "COMET INFO: ---------------------------------------------------------------------------------------\n",
      "COMET INFO:   Data:\n",
      "COMET INFO:     display_summary_level : 1\n",
      "COMET INFO:     url                   : https://www.comet.com/pashinskaya03/recsystop/a5e0abe61c5d415d86fadf6750aa193c\n",
      "COMET INFO:   Metrics:\n",
      "COMET INFO:     MAP  : 0.0014511719435616904\n",
      "COMET INFO:     MRR  : 0.16238360321796647\n",
      "COMET INFO:     NDCG : 2.5455822622126053e-06\n",
      "COMET INFO:   Parameters:\n",
      "COMET INFO:     K : 11\n",
      "COMET INFO:   Uploads:\n",
      "COMET INFO:     conda-environment-definition : 1\n",
      "COMET INFO:     conda-info                   : 1\n",
      "COMET INFO:     conda-specification          : 1\n",
      "COMET INFO:     environment details          : 1\n",
      "COMET INFO:     filename                     : 1\n",
      "COMET INFO:     git metadata                 : 1\n",
      "COMET INFO:     git-patch (uncompressed)     : 1 (226.21 KB)\n",
      "COMET INFO:     installed packages           : 1\n",
      "COMET INFO:     notebook                     : 1\n",
      "COMET INFO:     source_code                  : 1\n",
      "COMET INFO: \n"
     ]
    },
    {
     "name": "stdout",
     "output_type": "stream",
     "text": [
      "['tfidf', 11, None, None, None, 0.16238360321796647, 2.5455822622126053e-06, 0.0014511719435616904] 0:34:19.546077\n"
     ]
    },
    {
     "name": "stderr",
     "output_type": "stream",
     "text": [
      "COMET INFO: Uploading 1 metrics, params and output messages\n",
      "COMET INFO: Waiting for completion of the file uploads (may take several seconds)\n",
      "COMET INFO: The Python SDK has 10800 seconds to finish uploading collected data\n",
      "COMET INFO: Still uploading 2 file(s), remaining 18.95 KB/442.16 KB\n",
      "COMET WARNING: As you are running in a Jupyter environment, you will need to call `experiment.end()` when finished to ensure all metrics and code are logged before exiting.\n",
      "COMET INFO: Experiment is live on comet.com https://www.comet.com/pashinskaya03/recsystop/c1199d1de99a44f0ac038d1a6e2d1d6f\n",
      "\n"
     ]
    },
    {
     "data": {
      "application/vnd.jupyter.widget-view+json": {
       "model_id": "d992150382ee4b4eb02afbafa96a0a0f",
       "version_major": 2,
       "version_minor": 0
      },
      "text/plain": [
       "  0%|          | 0/161 [00:00<?, ?it/s]"
      ]
     },
     "metadata": {},
     "output_type": "display_data"
    },
    {
     "name": "stderr",
     "output_type": "stream",
     "text": [
      "COMET INFO: ---------------------------------------------------------------------------------------\n",
      "COMET INFO: Comet.ml Experiment Summary\n",
      "COMET INFO: ---------------------------------------------------------------------------------------\n",
      "COMET INFO:   Data:\n",
      "COMET INFO:     display_summary_level : 1\n",
      "COMET INFO:     url                   : https://www.comet.com/pashinskaya03/recsystop/c1199d1de99a44f0ac038d1a6e2d1d6f\n",
      "COMET INFO:   Metrics:\n",
      "COMET INFO:     MAP  : 0.0014511719435616904\n",
      "COMET INFO:     MRR  : 0.16238360321796647\n",
      "COMET INFO:     NDCG : 2.5455822622126053e-06\n",
      "COMET INFO:   Parameters:\n",
      "COMET INFO:     K : 20\n",
      "COMET INFO:   Uploads:\n",
      "COMET INFO:     conda-environment-definition : 1\n",
      "COMET INFO:     conda-info                   : 1\n",
      "COMET INFO:     conda-specification          : 1\n",
      "COMET INFO:     environment details          : 1\n",
      "COMET INFO:     filename                     : 1\n",
      "COMET INFO:     git metadata                 : 1\n",
      "COMET INFO:     git-patch (uncompressed)     : 1 (229.08 KB)\n",
      "COMET INFO:     installed packages           : 1\n",
      "COMET INFO:     notebook                     : 1\n",
      "COMET INFO:     source_code                  : 1\n",
      "COMET INFO: \n"
     ]
    },
    {
     "name": "stdout",
     "output_type": "stream",
     "text": [
      "['tfidf', 20, None, None, None, 0.16238360321796647, 2.5455822622126053e-06, 0.0014511719435616904] 0:42:10.878106\n"
     ]
    },
    {
     "name": "stderr",
     "output_type": "stream",
     "text": [
      "COMET INFO: Uploading 1 metrics, params and output messages\n",
      "COMET INFO: Waiting for completion of the file uploads (may take several seconds)\n",
      "COMET INFO: The Python SDK has 10800 seconds to finish uploading collected data\n",
      "COMET INFO: All files uploaded, waiting for confirmation they have been all received\n",
      "COMET WARNING: As you are running in a Jupyter environment, you will need to call `experiment.end()` when finished to ensure all metrics and code are logged before exiting.\n",
      "COMET INFO: Experiment is live on comet.com https://www.comet.com/pashinskaya03/recsystop/c639d5a1898643afa45f5083f6348cd4\n",
      "\n"
     ]
    },
    {
     "data": {
      "application/vnd.jupyter.widget-view+json": {
       "model_id": "b1ba7aaeceae4b0da3e3187340a4b8d8",
       "version_major": 2,
       "version_minor": 0
      },
      "text/plain": [
       "  0%|          | 0/20 [00:00<?, ?it/s]"
      ]
     },
     "metadata": {},
     "output_type": "display_data"
    },
    {
     "name": "stderr",
     "output_type": "stream",
     "text": [
      "COMET INFO: ---------------------------------------------------------------------------------------\n",
      "COMET INFO: Comet.ml Experiment Summary\n",
      "COMET INFO: ---------------------------------------------------------------------------------------\n",
      "COMET INFO:   Data:\n",
      "COMET INFO:     display_summary_level : 1\n",
      "COMET INFO:     url                   : https://www.comet.com/pashinskaya03/recsystop/c639d5a1898643afa45f5083f6348cd4\n",
      "COMET INFO:   Metrics:\n",
      "COMET INFO:     MAP  : 0.000983492796537548\n",
      "COMET INFO:     MRR  : 0.11411586196856963\n",
      "COMET INFO:     NDCG : 1.6390851190082995e-06\n",
      "COMET INFO:   Parameters:\n",
      "COMET INFO:     factors        : 35\n",
      "COMET INFO:     iteration      : 20\n",
      "COMET INFO:     regularisation : 3.5\n",
      "COMET INFO:   Uploads:\n",
      "COMET INFO:     conda-environment-definition : 1\n",
      "COMET INFO:     conda-info                   : 1\n",
      "COMET INFO:     conda-specification          : 1\n",
      "COMET INFO:     environment details          : 1\n",
      "COMET INFO:     filename                     : 1\n",
      "COMET INFO:     git metadata                 : 1\n",
      "COMET INFO:     git-patch (uncompressed)     : 1 (231.90 KB)\n",
      "COMET INFO:     installed packages           : 1\n",
      "COMET INFO:     notebook                     : 1\n",
      "COMET INFO:     source_code                  : 1\n",
      "COMET INFO: \n"
     ]
    },
    {
     "name": "stdout",
     "output_type": "stream",
     "text": [
      "['als', None, 35, 3.5, 20, 0.11411586196856963, 1.6390851190082995e-06, 0.000983492796537548] 0:46:36.011242\n"
     ]
    },
    {
     "name": "stderr",
     "output_type": "stream",
     "text": [
      "COMET INFO: Uploading 1 metrics, params and output messages\n",
      "COMET INFO: Waiting for completion of the file uploads (may take several seconds)\n",
      "COMET INFO: The Python SDK has 10800 seconds to finish uploading collected data\n",
      "COMET INFO: Still uploading 2 file(s), remaining 58.95 KB/442.72 KB\n",
      "COMET WARNING: As you are running in a Jupyter environment, you will need to call `experiment.end()` when finished to ensure all metrics and code are logged before exiting.\n",
      "COMET INFO: Experiment is live on comet.com https://www.comet.com/pashinskaya03/recsystop/1359a5251125496699ecd522d2e061a6\n",
      "\n"
     ]
    },
    {
     "data": {
      "application/vnd.jupyter.widget-view+json": {
       "model_id": "f27c06401f28481a93f79bcacfc69520",
       "version_major": 2,
       "version_minor": 0
      },
      "text/plain": [
       "  0%|          | 0/20 [00:00<?, ?it/s]"
      ]
     },
     "metadata": {},
     "output_type": "display_data"
    }
   ],
   "source": [
    "%%time\n",
    "compare_models = pd.DataFrame(columns = [\"model\", \"K\", \"fact\", \"regul\", \"iter\", \"MRR\", \"NDCG\", \"MAP\"])\n",
    "\n",
    "print(comparing_models(compare_models, csr_train, test, models, metrics, hyperparameters))"
   ]
  },
  {
   "cell_type": "code",
   "execution_count": 111,
   "metadata": {},
   "outputs": [
    {
     "name": "stderr",
     "output_type": "stream",
     "text": [
      "COMET WARNING: As you are running in a Jupyter environment, you will need to call `experiment.end()` when finished to ensure all metrics and code are logged before exiting.\n",
      "COMET INFO: Experiment is live on comet.com https://www.comet.com/pashinskaya03/recsys/b1a6d1e047d34d8d9e586418300bd3dc\n",
      "\n"
     ]
    },
    {
     "data": {
      "application/vnd.jupyter.widget-view+json": {
       "model_id": "1371e47ce4b64c168db34c5b7fab7c60",
       "version_major": 2,
       "version_minor": 0
      },
      "text/plain": [
       "  0%|          | 0/20 [00:00<?, ?it/s]"
      ]
     },
     "metadata": {},
     "output_type": "display_data"
    },
    {
     "name": "stderr",
     "output_type": "stream",
     "text": [
      "COMET INFO: ---------------------------------------------------------------------------------------\n",
      "COMET INFO: Comet.ml Experiment Summary\n",
      "COMET INFO: ---------------------------------------------------------------------------------------\n",
      "COMET INFO:   Data:\n",
      "COMET INFO:     display_summary_level : 1\n",
      "COMET INFO:     url                   : https://www.comet.com/pashinskaya03/recsys/b1a6d1e047d34d8d9e586418300bd3dc\n",
      "COMET INFO:   Metrics:\n",
      "COMET INFO:     MAP  : 0.002222542284334916\n",
      "COMET INFO:     MRR  : 0.22465573964288912\n",
      "COMET INFO:     NDCG : 2.716304120138775e-06\n",
      "COMET INFO:   Parameters:\n",
      "COMET INFO:     factors        : 30\n",
      "COMET INFO:     iteration      : 30\n",
      "COMET INFO:     regularisation : 3\n",
      "COMET INFO:   Uploads:\n",
      "COMET INFO:     conda-environment-definition : 1\n",
      "COMET INFO:     conda-info                   : 1\n",
      "COMET INFO:     conda-specification          : 1\n",
      "COMET INFO:     environment details          : 1\n",
      "COMET INFO:     filename                     : 1\n",
      "COMET INFO:     git metadata                 : 1\n",
      "COMET INFO:     git-patch (uncompressed)     : 1 (31.54 MB)\n",
      "COMET INFO:     installed packages           : 1\n",
      "COMET INFO:     notebook                     : 1\n",
      "COMET INFO:     source_code                  : 1\n",
      "COMET INFO: \n"
     ]
    },
    {
     "name": "stdout",
     "output_type": "stream",
     "text": [
      "['bpr', None, 30, 3, 30, 0.22465573964288912, 2.716304120138775e-06, 0.002222542284334916] 0:28:30.141102\n"
     ]
    },
    {
     "name": "stderr",
     "output_type": "stream",
     "text": [
      "COMET INFO: Uploading 1 metrics, params and output messages\n"
     ]
    },
    {
     "name": "stdout",
     "output_type": "stream",
     "text": [
      "  model     K fact  regul iter       MRR      NDCG       MAP\n",
      "6   bpr  None   30    1.4   30  0.207914  0.000002  0.001871\n",
      "5   bpr  None   30    2.0   30  0.208992  0.000003  0.001998\n",
      "4   bpr  None   30    5.0   30  0.182863  0.000002  0.001471\n",
      "3   bpr  None   30    5.0   30  0.197065  0.000002  0.001814\n",
      "2   bpr  None   30    5.0   30  0.186734  0.000003  0.001658\n",
      "1   bpr  None   30    5.0   30  0.202066  0.000002  0.001825\n",
      "0   bpr  None   30    3.0   30  0.224656  0.000003  0.002223\n",
      "Wall time: 28min 32s\n"
     ]
    }
   ],
   "source": [
    "%%time\n",
    "print(comparing_models(compare_models, csr_train, test, models, metrics, hyperparameters))"
   ]
  },
  {
   "cell_type": "code",
   "execution_count": 78,
   "metadata": {},
   "outputs": [
    {
     "name": "stderr",
     "output_type": "stream",
     "text": [
      "COMET WARNING: As you are running in a Jupyter environment, you will need to call `experiment.end()` when finished to ensure all metrics and code are logged before exiting.\n",
      "COMET INFO: Experiment is live on comet.com https://www.comet.com/pashinskaya03/recsys/89ab7914cdad4181a22f4a38b48652bd\n",
      "\n"
     ]
    },
    {
     "data": {
      "application/vnd.jupyter.widget-view+json": {
       "model_id": "9798cc0aaefb43bcaecb22da72892864",
       "version_major": 2,
       "version_minor": 0
      },
      "text/plain": [
       "  0%|          | 0/20 [00:00<?, ?it/s]"
      ]
     },
     "metadata": {},
     "output_type": "display_data"
    },
    {
     "name": "stderr",
     "output_type": "stream",
     "text": [
      "COMET INFO: ---------------------------------------------------------------------------------------\n",
      "COMET INFO: Comet.ml Experiment Summary\n",
      "COMET INFO: ---------------------------------------------------------------------------------------\n",
      "COMET INFO:   Data:\n",
      "COMET INFO:     display_summary_level : 1\n",
      "COMET INFO:     url                   : https://www.comet.com/pashinskaya03/recsys/89ab7914cdad4181a22f4a38b48652bd\n",
      "COMET INFO:   Metrics:\n",
      "COMET INFO:     MAP  : 0.0006356543256910769\n",
      "COMET INFO:     MRR  : 0.07570409793074644\n",
      "COMET INFO:     NDCG : 9.482405902021696e-07\n",
      "COMET INFO:   Parameters:\n",
      "COMET INFO:     factors        : 30\n",
      "COMET INFO:     iteration      : 30\n",
      "COMET INFO:     regularisation : 0.4\n",
      "COMET INFO:   Uploads:\n",
      "COMET INFO:     conda-environment-definition : 1\n",
      "COMET INFO:     conda-info                   : 1\n",
      "COMET INFO:     conda-specification          : 1\n",
      "COMET INFO:     environment details          : 1\n",
      "COMET INFO:     filename                     : 1\n",
      "COMET INFO:     git metadata                 : 1\n",
      "COMET INFO:     git-patch (uncompressed)     : 1 (31.54 MB)\n",
      "COMET INFO:     installed packages           : 1\n",
      "COMET INFO:     notebook                     : 1\n",
      "COMET INFO:     source_code                  : 1\n",
      "COMET INFO: \n"
     ]
    },
    {
     "name": "stdout",
     "output_type": "stream",
     "text": [
      "['lmf', None, 30, 0.4, 30, 0.07570409793074644, 9.482405902021696e-07, 0.0006356543256910769] 0:22:37.847846\n"
     ]
    },
    {
     "name": "stderr",
     "output_type": "stream",
     "text": [
      "COMET INFO: Uploading 1 metrics, params and output messages\n",
      "COMET WARNING: As you are running in a Jupyter environment, you will need to call `experiment.end()` when finished to ensure all metrics and code are logged before exiting.\n",
      "COMET INFO: Experiment is live on comet.com https://www.comet.com/pashinskaya03/recsys/22bc9a88fd644ea289595d5341a54435\n",
      "\n"
     ]
    },
    {
     "data": {
      "application/vnd.jupyter.widget-view+json": {
       "model_id": "2de70598619944e1a25db0805aff428e",
       "version_major": 2,
       "version_minor": 0
      },
      "text/plain": [
       "  0%|          | 0/20 [00:00<?, ?it/s]"
      ]
     },
     "metadata": {},
     "output_type": "display_data"
    },
    {
     "name": "stderr",
     "output_type": "stream",
     "text": [
      "COMET INFO: ---------------------------------------------------------------------------------------\n",
      "COMET INFO: Comet.ml Experiment Summary\n",
      "COMET INFO: ---------------------------------------------------------------------------------------\n",
      "COMET INFO:   Data:\n",
      "COMET INFO:     display_summary_level : 1\n",
      "COMET INFO:     url                   : https://www.comet.com/pashinskaya03/recsys/22bc9a88fd644ea289595d5341a54435\n",
      "COMET INFO:   Metrics:\n",
      "COMET INFO:     MAP  : 0.0009027997175193745\n",
      "COMET INFO:     MRR  : 0.08475749358327059\n",
      "COMET INFO:     NDCG : 9.528559809009868e-07\n",
      "COMET INFO:   Parameters:\n",
      "COMET INFO:     factors        : 40\n",
      "COMET INFO:     iteration      : 25\n",
      "COMET INFO:     regularisation : 0.6\n",
      "COMET INFO:   Uploads:\n",
      "COMET INFO:     conda-environment-definition : 1\n",
      "COMET INFO:     conda-info                   : 1\n",
      "COMET INFO:     conda-specification          : 1\n",
      "COMET INFO:     environment details          : 1\n",
      "COMET INFO:     filename                     : 1\n",
      "COMET INFO:     git metadata                 : 1\n",
      "COMET INFO:     git-patch (uncompressed)     : 1 (31.54 MB)\n",
      "COMET INFO:     installed packages           : 1\n",
      "COMET INFO:     notebook                     : 1\n",
      "COMET INFO:     source_code                  : 1\n",
      "COMET INFO: \n"
     ]
    },
    {
     "name": "stdout",
     "output_type": "stream",
     "text": [
      "['lmf', None, 40, 0.6, 25, 0.08475749358327059, 9.528559809009868e-07, 0.0009027997175193745] 0:22:31.973233\n"
     ]
    },
    {
     "name": "stderr",
     "output_type": "stream",
     "text": [
      "COMET INFO: Uploading 1 metrics, params and output messages\n"
     ]
    },
    {
     "name": "stdout",
     "output_type": "stream",
     "text": [
      "  model     K fact  regul iter       MRR          NDCG       MAP\n",
      "1   lmf  None   30    0.4   30  0.075704  9.482406e-07  0.000636\n",
      "0   lmf  None   40    0.6   25  0.084757  9.528560e-07  0.000903\n",
      "Wall time: 45min 12s\n"
     ]
    }
   ],
   "source": [
    "%%time\n",
    "compare_models = pd.DataFrame(columns = [\"model\", \"K\", \"fact\", \"regul\", \"iter\", \"MRR\", \"NDCG\", \"MAP\"])\n",
    "\n",
    "print(comparing_models(compare_models, csr_train, test, models, metrics, hyperparameters))"
   ]
  },
  {
   "cell_type": "code",
   "execution_count": 75,
   "metadata": {
    "colab": {
     "base_uri": "https://localhost:8080/",
     "height": 49,
     "referenced_widgets": [
      "08deb4ec940d405d9a438b05b2494938",
      "a9f1961c8c0a45699ba26a5540201a91",
      "6b69472b4e4f4446a4525d9a87bec3e4",
      "7f29f9cacc75422982d7aa7a9407a2c8",
      "91d16c1c1cb641309b3cb6bb1d99cdb7",
      "4eed15f3a9854e848adf30ed90441d3b",
      "a4d2fc04ea20468091218fa162c6a272",
      "43d43e0bfbe9420fb531e329301d2f21",
      "07886b5040ca466386bf0fae99dced50",
      "5096050d6a9c4bf380702bf61172e6a4",
      "9186d85e126e4f27bb8086f479d0f43c"
     ]
    },
    "id": "fVIjP2uUGUZk",
    "outputId": "7cf5f776-de55-49f4-a6e5-b676c2d232e1"
   },
   "outputs": [
    {
     "name": "stderr",
     "output_type": "stream",
     "text": [
      "COMET INFO: ---------------------------------------------------------------------------------------\n",
      "COMET INFO: Comet.ml Experiment Summary\n",
      "COMET INFO: ---------------------------------------------------------------------------------------\n",
      "COMET INFO:   Data:\n",
      "COMET INFO:     display_summary_level : 1\n",
      "COMET INFO:     url                   : https://www.comet.com/pashinskaya03/recsys/56e315b3796c463788f212bd40b7c857\n",
      "COMET INFO:   Parameters:\n",
      "COMET INFO:     factors        : 20\n",
      "COMET INFO:     iteration      : 20\n",
      "COMET INFO:     regularisation : 0.1\n",
      "COMET INFO:   Uploads:\n",
      "COMET INFO:     conda-environment-definition : 1\n",
      "COMET INFO:     conda-info                   : 1\n",
      "COMET INFO:     conda-specification          : 1\n",
      "COMET INFO:     environment details          : 1\n",
      "COMET INFO:     filename                     : 1\n",
      "COMET INFO:     git metadata                 : 1\n",
      "COMET INFO:     git-patch (uncompressed)     : 1 (31.54 MB)\n",
      "COMET INFO:     installed packages           : 1\n",
      "COMET INFO:     notebook                     : 1\n",
      "COMET INFO:     source_code                  : 1\n",
      "COMET INFO: \n",
      "COMET WARNING: As you are running in a Jupyter environment, you will need to call `experiment.end()` when finished to ensure all metrics and code are logged before exiting.\n",
      "COMET INFO: Experiment is live on comet.com https://www.comet.com/pashinskaya03/recsys/07fa77187aba49b5a4c1adaf016c401e\n",
      "\n"
     ]
    },
    {
     "data": {
      "application/vnd.jupyter.widget-view+json": {
       "model_id": "baf3214d10b94193bd663e20ed3f5608",
       "version_major": 2,
       "version_minor": 0
      },
      "text/plain": [
       "  0%|          | 0/20 [00:00<?, ?it/s]"
      ]
     },
     "metadata": {},
     "output_type": "display_data"
    },
    {
     "name": "stderr",
     "output_type": "stream",
     "text": [
      "COMET INFO: ---------------------------------------------------------------------------------------\n",
      "COMET INFO: Comet.ml Experiment Summary\n",
      "COMET INFO: ---------------------------------------------------------------------------------------\n",
      "COMET INFO:   Data:\n",
      "COMET INFO:     display_summary_level : 1\n",
      "COMET INFO:     url                   : https://www.comet.com/pashinskaya03/recsys/07fa77187aba49b5a4c1adaf016c401e\n",
      "COMET INFO:   Metrics:\n",
      "COMET INFO:     MAP  : 0.0009348607781432693\n",
      "COMET INFO:     MRR  : 0.11076168846186688\n",
      "COMET INFO:     NDCG : 1.586627148421417e-06\n",
      "COMET INFO:   Parameters:\n",
      "COMET INFO:     factors        : 20\n",
      "COMET INFO:     iteration      : 20\n",
      "COMET INFO:     regularisation : 0.1\n",
      "COMET INFO:   Uploads:\n",
      "COMET INFO:     conda-environment-definition : 1\n",
      "COMET INFO:     conda-info                   : 1\n",
      "COMET INFO:     conda-specification          : 1\n",
      "COMET INFO:     environment details          : 1\n",
      "COMET INFO:     filename                     : 1\n",
      "COMET INFO:     git metadata                 : 1\n",
      "COMET INFO:     git-patch (uncompressed)     : 1 (31.54 MB)\n",
      "COMET INFO:     installed packages           : 1\n",
      "COMET INFO:     notebook                     : 1\n",
      "COMET INFO:     source_code                  : 1\n",
      "COMET INFO: \n"
     ]
    },
    {
     "name": "stdout",
     "output_type": "stream",
     "text": [
      "['als', None, 20, 0.1, 20, 0.11076168846186688, 1.586627148421417e-06, 0.0009348607781432693] 0:23:00.382055\n"
     ]
    },
    {
     "name": "stderr",
     "output_type": "stream",
     "text": [
      "COMET INFO: Uploading 1 metrics, params and output messages\n",
      "COMET WARNING: As you are running in a Jupyter environment, you will need to call `experiment.end()` when finished to ensure all metrics and code are logged before exiting.\n",
      "COMET INFO: Experiment is live on comet.com https://www.comet.com/pashinskaya03/recsys/bf4cef5cf0624f1ba9e8801f462911d6\n",
      "\n"
     ]
    },
    {
     "data": {
      "application/vnd.jupyter.widget-view+json": {
       "model_id": "0d316f103db942f5a87f31c05a6f2e43",
       "version_major": 2,
       "version_minor": 0
      },
      "text/plain": [
       "  0%|          | 0/20 [00:00<?, ?it/s]"
      ]
     },
     "metadata": {},
     "output_type": "display_data"
    },
    {
     "name": "stderr",
     "output_type": "stream",
     "text": [
      "COMET INFO: ---------------------------------------------------------------------------------------\n",
      "COMET INFO: Comet.ml Experiment Summary\n",
      "COMET INFO: ---------------------------------------------------------------------------------------\n",
      "COMET INFO:   Data:\n",
      "COMET INFO:     display_summary_level : 1\n",
      "COMET INFO:     url                   : https://www.comet.com/pashinskaya03/recsys/bf4cef5cf0624f1ba9e8801f462911d6\n",
      "COMET INFO:   Metrics:\n",
      "COMET INFO:     MAP  : 0.0013765374596566874\n",
      "COMET INFO:     MRR  : 0.12700258217853203\n",
      "COMET INFO:     NDCG : 1.796719203293858e-06\n",
      "COMET INFO:   Parameters:\n",
      "COMET INFO:     factors        : 30\n",
      "COMET INFO:     iteration      : 20\n",
      "COMET INFO:     regularisation : 0.3\n",
      "COMET INFO:   Uploads:\n",
      "COMET INFO:     conda-environment-definition : 1\n",
      "COMET INFO:     conda-info                   : 1\n",
      "COMET INFO:     conda-specification          : 1\n",
      "COMET INFO:     environment details          : 1\n",
      "COMET INFO:     filename                     : 1\n",
      "COMET INFO:     git metadata                 : 1\n",
      "COMET INFO:     git-patch (uncompressed)     : 1 (31.54 MB)\n",
      "COMET INFO:     installed packages           : 1\n",
      "COMET INFO:     notebook                     : 1\n",
      "COMET INFO:     source_code                  : 1\n",
      "COMET INFO: \n"
     ]
    },
    {
     "name": "stdout",
     "output_type": "stream",
     "text": [
      "['als', None, 30, 0.3, 20, 0.12700258217853203, 1.796719203293858e-06, 0.0013765374596566874] 0:23:00.018667\n"
     ]
    },
    {
     "name": "stderr",
     "output_type": "stream",
     "text": [
      "COMET INFO: Uploading 1 metrics, params and output messages\n",
      "COMET WARNING: As you are running in a Jupyter environment, you will need to call `experiment.end()` when finished to ensure all metrics and code are logged before exiting.\n",
      "COMET INFO: Experiment is live on comet.com https://www.comet.com/pashinskaya03/recsys/f6050457ed0547cd8f197cc3c758574f\n",
      "\n"
     ]
    },
    {
     "data": {
      "application/vnd.jupyter.widget-view+json": {
       "model_id": "97a50f1c93064b31aba0ce69596b4592",
       "version_major": 2,
       "version_minor": 0
      },
      "text/plain": [
       "  0%|          | 0/20 [00:00<?, ?it/s]"
      ]
     },
     "metadata": {},
     "output_type": "display_data"
    },
    {
     "name": "stderr",
     "output_type": "stream",
     "text": [
      "COMET INFO: ---------------------------------------------------------------------------------------\n",
      "COMET INFO: Comet.ml Experiment Summary\n",
      "COMET INFO: ---------------------------------------------------------------------------------------\n",
      "COMET INFO:   Data:\n",
      "COMET INFO:     display_summary_level : 1\n",
      "COMET INFO:     url                   : https://www.comet.com/pashinskaya03/recsys/f6050457ed0547cd8f197cc3c758574f\n",
      "COMET INFO:   Metrics:\n",
      "COMET INFO:     MAP  : 0.0006592614876487001\n",
      "COMET INFO:     MRR  : 0.06885638193528075\n",
      "COMET INFO:     NDCG : 8.536649803308999e-07\n",
      "COMET INFO:   Parameters:\n",
      "COMET INFO:     factors        : 20\n",
      "COMET INFO:     iteration      : 20\n",
      "COMET INFO:     regularisation : 0.1\n",
      "COMET INFO:   Uploads:\n",
      "COMET INFO:     conda-environment-definition : 1\n",
      "COMET INFO:     conda-info                   : 1\n",
      "COMET INFO:     conda-specification          : 1\n",
      "COMET INFO:     environment details          : 1\n",
      "COMET INFO:     filename                     : 1\n",
      "COMET INFO:     git metadata                 : 1\n",
      "COMET INFO:     git-patch (uncompressed)     : 1 (31.54 MB)\n",
      "COMET INFO:     installed packages           : 1\n",
      "COMET INFO:     notebook                     : 1\n",
      "COMET INFO:     source_code                  : 1\n",
      "COMET INFO: \n"
     ]
    },
    {
     "name": "stdout",
     "output_type": "stream",
     "text": [
      "['lmf', None, 20, 0.1, 20, 0.06885638193528075, 8.536649803308999e-07, 0.0006592614876487001] 0:22:50.715397\n"
     ]
    },
    {
     "name": "stderr",
     "output_type": "stream",
     "text": [
      "COMET INFO: Uploading 1 metrics, params and output messages\n",
      "COMET INFO: Waiting for completion of the file uploads (may take several seconds)\n",
      "COMET INFO: The Python SDK has 10800 seconds to finish uploading collected data\n",
      "COMET INFO: All files uploaded, waiting for confirmation they have been all received\n",
      "COMET WARNING: As you are running in a Jupyter environment, you will need to call `experiment.end()` when finished to ensure all metrics and code are logged before exiting.\n",
      "COMET INFO: Experiment is live on comet.com https://www.comet.com/pashinskaya03/recsys/699b9f2fc62d43ca9d7ed00ea94d86b9\n",
      "\n"
     ]
    },
    {
     "data": {
      "application/vnd.jupyter.widget-view+json": {
       "model_id": "904b942d40a5434aabeea3525f43e2f2",
       "version_major": 2,
       "version_minor": 0
      },
      "text/plain": [
       "  0%|          | 0/20 [00:00<?, ?it/s]"
      ]
     },
     "metadata": {},
     "output_type": "display_data"
    },
    {
     "name": "stderr",
     "output_type": "stream",
     "text": [
      "COMET INFO: ---------------------------------------------------------------------------------------\n",
      "COMET INFO: Comet.ml Experiment Summary\n",
      "COMET INFO: ---------------------------------------------------------------------------------------\n",
      "COMET INFO:   Data:\n",
      "COMET INFO:     display_summary_level : 1\n",
      "COMET INFO:     url                   : https://www.comet.com/pashinskaya03/recsys/699b9f2fc62d43ca9d7ed00ea94d86b9\n",
      "COMET INFO:   Metrics:\n",
      "COMET INFO:     MAP  : 0.0006551548842510863\n",
      "COMET INFO:     MRR  : 0.07241797634018207\n",
      "COMET INFO:     NDCG : 9.015028189545119e-07\n",
      "COMET INFO:   Parameters:\n",
      "COMET INFO:     factors        : 30\n",
      "COMET INFO:     iteration      : 20\n",
      "COMET INFO:     regularisation : 0.3\n",
      "COMET INFO:   Uploads:\n",
      "COMET INFO:     conda-environment-definition : 1\n",
      "COMET INFO:     conda-info                   : 1\n",
      "COMET INFO:     conda-specification          : 1\n",
      "COMET INFO:     environment details          : 1\n",
      "COMET INFO:     filename                     : 1\n",
      "COMET INFO:     git metadata                 : 1\n",
      "COMET INFO:     git-patch (uncompressed)     : 1 (31.54 MB)\n",
      "COMET INFO:     installed packages           : 1\n",
      "COMET INFO:     notebook                     : 1\n",
      "COMET INFO:     source_code                  : 1\n",
      "COMET INFO: \n"
     ]
    },
    {
     "name": "stdout",
     "output_type": "stream",
     "text": [
      "['lmf', None, 30, 0.3, 20, 0.07241797634018207, 9.015028189545119e-07, 0.0006551548842510863] 0:22:48.762960\n"
     ]
    },
    {
     "name": "stderr",
     "output_type": "stream",
     "text": [
      "COMET INFO: Uploading 1 metrics, params and output messages\n",
      "COMET INFO: Waiting for completion of the file uploads (may take several seconds)\n",
      "COMET INFO: The Python SDK has 10800 seconds to finish uploading collected data\n",
      "COMET INFO: Still uploading 2 file(s), remaining 4.77 KB/3.58 MB\n",
      "COMET WARNING: As you are running in a Jupyter environment, you will need to call `experiment.end()` when finished to ensure all metrics and code are logged before exiting.\n",
      "COMET INFO: Experiment is live on comet.com https://www.comet.com/pashinskaya03/recsys/620a418da99e40af8075263c4cb0ac6c\n",
      "\n"
     ]
    },
    {
     "data": {
      "application/vnd.jupyter.widget-view+json": {
       "model_id": "16b81b7c8aa14322b0e0196086000fe4",
       "version_major": 2,
       "version_minor": 0
      },
      "text/plain": [
       "  0%|          | 0/20 [00:00<?, ?it/s]"
      ]
     },
     "metadata": {},
     "output_type": "display_data"
    },
    {
     "name": "stderr",
     "output_type": "stream",
     "text": [
      "COMET INFO: ---------------------------------------------------------------------------------------\n",
      "COMET INFO: Comet.ml Experiment Summary\n",
      "COMET INFO: ---------------------------------------------------------------------------------------\n",
      "COMET INFO:   Data:\n",
      "COMET INFO:     display_summary_level : 1\n",
      "COMET INFO:     url                   : https://www.comet.com/pashinskaya03/recsys/620a418da99e40af8075263c4cb0ac6c\n",
      "COMET INFO:   Metrics:\n",
      "COMET INFO:     MAP  : 0.0013582397151653699\n",
      "COMET INFO:     MRR  : 0.16637138355624553\n",
      "COMET INFO:     NDCG : 2.041238755234489e-06\n",
      "COMET INFO:   Parameters:\n",
      "COMET INFO:     factors        : 20\n",
      "COMET INFO:     iteration      : 20\n",
      "COMET INFO:     regularisation : 0.1\n",
      "COMET INFO:   Uploads:\n",
      "COMET INFO:     conda-environment-definition : 1\n",
      "COMET INFO:     conda-info                   : 1\n",
      "COMET INFO:     conda-specification          : 1\n",
      "COMET INFO:     environment details          : 1\n",
      "COMET INFO:     filename                     : 1\n",
      "COMET INFO:     git metadata                 : 1\n",
      "COMET INFO:     git-patch (uncompressed)     : 1 (31.54 MB)\n",
      "COMET INFO:     installed packages           : 1\n",
      "COMET INFO:     notebook                     : 1\n",
      "COMET INFO:     source_code                  : 1\n",
      "COMET INFO: \n"
     ]
    },
    {
     "name": "stdout",
     "output_type": "stream",
     "text": [
      "['bpr', None, 20, 0.1, 20, 0.16637138355624553, 2.041238755234489e-06, 0.0013582397151653699] 0:23:01.876371\n"
     ]
    },
    {
     "name": "stderr",
     "output_type": "stream",
     "text": [
      "COMET INFO: Uploading 1 metrics, params and output messages\n",
      "COMET INFO: Waiting for completion of the file uploads (may take several seconds)\n",
      "COMET INFO: The Python SDK has 10800 seconds to finish uploading collected data\n",
      "COMET INFO: All files uploaded, waiting for confirmation they have been all received\n",
      "COMET WARNING: As you are running in a Jupyter environment, you will need to call `experiment.end()` when finished to ensure all metrics and code are logged before exiting.\n",
      "COMET INFO: Experiment is live on comet.com https://www.comet.com/pashinskaya03/recsys/1aae2620aa8949d59d99100422cf2857\n",
      "\n"
     ]
    },
    {
     "data": {
      "application/vnd.jupyter.widget-view+json": {
       "model_id": "ebdfb6077bd343bdb7096a03732966de",
       "version_major": 2,
       "version_minor": 0
      },
      "text/plain": [
       "  0%|          | 0/20 [00:00<?, ?it/s]"
      ]
     },
     "metadata": {},
     "output_type": "display_data"
    },
    {
     "name": "stderr",
     "output_type": "stream",
     "text": [
      "COMET INFO: ---------------------------------------------------------------------------------------\n",
      "COMET INFO: Comet.ml Experiment Summary\n",
      "COMET INFO: ---------------------------------------------------------------------------------------\n",
      "COMET INFO:   Data:\n",
      "COMET INFO:     display_summary_level : 1\n",
      "COMET INFO:     url                   : https://www.comet.com/pashinskaya03/recsys/1aae2620aa8949d59d99100422cf2857\n",
      "COMET INFO:   Metrics:\n",
      "COMET INFO:     MAP  : 0.0014778519599158322\n",
      "COMET INFO:     MRR  : 0.18474533638527652\n",
      "COMET INFO:     NDCG : 2.1461082836801553e-06\n",
      "COMET INFO:   Parameters:\n",
      "COMET INFO:     factors        : 30\n",
      "COMET INFO:     iteration      : 20\n",
      "COMET INFO:     regularisation : 0.3\n",
      "COMET INFO:   Uploads:\n",
      "COMET INFO:     conda-environment-definition : 1\n",
      "COMET INFO:     conda-info                   : 1\n",
      "COMET INFO:     conda-specification          : 1\n",
      "COMET INFO:     environment details          : 1\n",
      "COMET INFO:     filename                     : 1\n",
      "COMET INFO:     git metadata                 : 1\n",
      "COMET INFO:     git-patch (uncompressed)     : 1 (31.54 MB)\n",
      "COMET INFO:     installed packages           : 1\n",
      "COMET INFO:     notebook                     : 1\n",
      "COMET INFO:     source_code                  : 1\n",
      "COMET INFO: \n"
     ]
    },
    {
     "name": "stdout",
     "output_type": "stream",
     "text": [
      "['bpr', None, 30, 0.3, 20, 0.18474533638527652, 2.1461082836801553e-06, 0.0014778519599158322] 0:22:53.665951\n"
     ]
    },
    {
     "name": "stderr",
     "output_type": "stream",
     "text": [
      "COMET INFO: Uploading 1 metrics, params and output messages\n",
      "COMET INFO: Waiting for completion of the file uploads (may take several seconds)\n",
      "COMET INFO: The Python SDK has 10800 seconds to finish uploading collected data\n",
      "COMET INFO: All files uploaded, waiting for confirmation they have been all received\n"
     ]
    },
    {
     "name": "stdout",
     "output_type": "stream",
     "text": [
      "  model     K fact  regul iter       MRR          NDCG       MAP\n",
      "5   als  None   20    0.1   20  0.110762  1.586627e-06  0.000935\n",
      "4   als  None   30    0.3   20  0.127003  1.796719e-06  0.001377\n",
      "3   lmf  None   20    0.1   20  0.068856  8.536650e-07  0.000659\n",
      "2   lmf  None   30    0.3   20  0.072418  9.015028e-07  0.000655\n",
      "1   bpr  None   20    0.1   20  0.166371  2.041239e-06  0.001358\n",
      "0   bpr  None   30    0.3   20  0.184745  2.146108e-06  0.001478\n",
      "Wall time: 2h 17min 37s\n"
     ]
    }
   ],
   "source": [
    "%%time\n",
    "compare_models = pd.DataFrame(columns = [\"model\", \"K\", \"fact\", \"regul\", \"iter\", \"MRR\", \"NDCG\", \"MAP\"])\n",
    "\n",
    "print(comparing_models(compare_models, csr_train, test, models, metrics, hyperparameters))"
   ]
  },
  {
   "cell_type": "code",
   "execution_count": 43,
   "metadata": {
    "colab": {
     "base_uri": "https://localhost:8080/",
     "height": 49,
     "referenced_widgets": [
      "01a79bf9c879474792ad01057a50c34f",
      "2785414fd09c4ae4b9995c1fc7efc0ae",
      "c78aefc7d10b472cb256e54d7f69a3d2",
      "c15f465a33c74aa59eff03d0948c6a15",
      "9927a14336854ad2818aa6acad98cf64",
      "57e5a947ee6d457ab4345de726512492",
      "5e2fce25ebdf4170b0cde5f0b7241741",
      "fcc565f8a6c6477192f7e04fed631a7f",
      "917d9e402fef463e8c89a53b3f285018",
      "8c33f0364c2141f5a3cf161be19f3f77",
      "3fedd1bb2d7b4322b64f0dd117faac67"
     ]
    },
    "id": "a8J2HwCRJH24",
    "outputId": "0c059916-6928-4522-88ff-9c188ed98b5c"
   },
   "outputs": [
    {
     "data": {
      "application/vnd.jupyter.widget-view+json": {
       "model_id": "b483101a465f47fca2b3cf575b300a3a",
       "version_major": 2,
       "version_minor": 0
      },
      "text/plain": [
       "  0%|          | 0/161 [00:00<?, ?it/s]"
      ]
     },
     "metadata": {},
     "output_type": "display_data"
    }
   ],
   "source": [
    "recs = get_recommenders(CosineRecommender, csr_train, test, k=15)"
   ]
  },
  {
   "cell_type": "markdown",
   "metadata": {
    "id": "K3ijJpryqtDu"
   },
   "source": [
    "# Мусорка"
   ]
  },
  {
   "attachments": {
    "image-2.png": {
     "image/png": "[encoded data removed]"
    },
    "image.png": {
     "image/png": "[encoded data removed]"
    }
   },
   "cell_type": "markdown",
   "metadata": {},
   "source": [
    "![image.png](attachment:image.png)\n",
    "![image-2.png](attachment:image-2.png)"
   ]
  },
  {
   "cell_type": "markdown",
   "metadata": {
    "id": "JOQJS-4y4WBc"
   },
   "source": [
    "![image.png](data:image/png;base64,iVBORw0KGgoAAAANSUhEUgAAAcYAAAEvCAYAAADfKWFjAAAgAElEQVR4nO3de1xUdf4/8Bfeh3YtL6SpKIyztmHfr4oWq7U4tt5+rWkaO3nJRCLXSl372gJZmuaKwNpmaa1rRJSJSqgrtpuXypFSRAVtt2izYUTJKyplKwMizO+PmTOcmTkzc2bmDAz0ej4ePMQ5Zz7ncy6c9/m8P59zDswk26UPZpsjIyPNK48qVWKxeWVkpHn2B5dcz3J0pTkycqW5WPjGqkhz5Oyt5ksu57lk3jrbuUxL3RvLcarJqkhz5Kpi+/8rshzLfO6W3Vj2bPPW844TvFsf9+tp2d5O6yWxPPG2kJzL1+Wc32qeLbme3vG8fyx1cDxWJb9HRHbQ3BVoKeQGRWE+OSef4lWeAob1BCs+SZ/fap5tF0wlgqtDMPUUgCXrochyZAZFT8HIi/VxHbDkBEWzmwCt1HKs6+pvcJKxfy59MNt+OdbvKHdhR9Q6MTDKYj3ZSf04nODcBUZLABL9OAYC64lLPI/kScxhPtcBwtU8DuvjKiD5u5yjK6W3mdQJ3EMwcrscie3muP0cvy+9jSUuRNxsD9+XI1wwyNjX7sjYP47HHIMikWchZrPZDCIiIgIAtGnuChAREQUTBkYiIiIRBkYiIiIRBkYiIiIRBkYiIiIRBkYiIiIRBkYiIiIRBkYiIiIRBsZWrDIvAWq1Ggl5lc1dFfJJCVLVaqjVqShp7qoQBQnhvGb5SUDuBeWXwcDoFeFEJfw0nrDsd5b1JyEXtpB0IRcJUjvxWKoPJz5LPVKP+bk6pLwLuUhwPA6CeV851jeNIdgzx/OA2q8L0JI06XNK0PHpXOXI/3NXWFwWjEYjjIfSoPWrLq61C1C5rc+xVKh1mdBmFMEYF2b9sASpaSWITom2/j8RecbFsPyvErkJMYhRG0SfNa2wuCwY45phwT95WqQdyoKup7/lRGOx0YjFSlRJyoVcJIxIgSbXiKxhgHDMqtPyYExpjiO2ZUnMNWLxMH9KKEGqOg6Zc/JgNHJ7BxO2GGWpRO6bmcCcPGTZgiIARGOxyxNIGHSpadAiE7uDtbVAP2kl2SnQz8kTndytx+yG3cHbamlFStKsQZEXIUGHgVGOC/uxW69FWrwvB7AWmj5K1UNIe8UhE0CmzkXa9liqmzReJXIT1Eg91pgOsv9dankSyxBKc0ohS6RahHIkvu+Zpb72KT7LZ/apK+f0llNqy8P6lKRZl2M3n7Kprcq8BKjTShrTZw6/262zp+2ekItKu32tQH9LTw00MMAgLkciPRyI1LC7Y8kyzXn9LNtOvI9kHAdoTF82X4q7BLs3AImj/Q+Ksv4GlShflwkgE3Eut63DcSueLvfcJbU+vqb3hb8NX77f3K/3aBGc3gfozOULeoXXT7l6Qa2Msp1Jv4RW3nzCK48sdRFeS7TyqMPLiiXe3ef0klu5dRdej+TTOwil3tXo+PJi6ZcZS9XB3fo0vqLJ/mXMnl5aLLUcV68XE15LNfuDS42v5VpV7HJbOr1T0aEcp/p7s40l3j0pPh6sn8g81vzk8ViSegenY91kHAfCN53W0xsSr6Hz9tgWzgdHHY4Xb441s9nH84eP3C5L4m/F6Z2hZrPH4+noSslXyknuU08v/Rb/fXmJLUZFia+mYrD7wSIYs3QI8/zFpjdnXmMfmF06zcI5zQZEx6dBq9+N/XZX7TJSxT11yDIaA74t9P/c77JFKn99xP3EYRj1oBY4aZDf0hXWVfg5lAbthjiHq9ZEzLOl5BOR53MqLRF5om0arvFyKMKwxSjKAFJGNF6d79ZID2jI/LgpkqvujqVoPJmhtd/Hx3YjU5uGJx2OXXfHga20FMv+8a2P0NL3a9vHxjwk6lMQ43VGRI+UN4F0cTkb4nwYxBME3TXH3kKKY1atpw7pjvvMk2GL7bureo7CeF9H2AxbbNmuPvx9cfCNbJb0UrTbARWJzTbQJiA2xEG9wfFDLcYLvw5bDGMuoNapkWn9yP8BCb4Igy6rCEiIQYw6xVrNNBQ5BmJP6wMAWg3CxSX7O4Cppw7pGbsRk7QbJSnRdmUHA6f1u5CLBCRivG0fRmOxMQ9Qi7ZdIPrFZBxLYXHzkJgUh7eO6bB4mKXfX/tgkWgfyzwOFBeNxbmJyNTtxv4LOi8GXWmRliqumyX4x/xzPyrjZNY5aP4GAUADjdS66w2oAGTuA+uAJIdPtQ/6WzfvMDDKMWw8EhGH3Z9XQhfn459YTw000MPwHQDRwVNZbgC044PuhAlA3glw2GIYjdZxk8dSodapgWYLjkboANhGBCfA/qTYTAMdKgz64N3HDoSWdZbdp+LRsZYTlxoBCo5uj6VojJ8DxH1cgsV9DNitT8S8LMe/RxnHQQBUlhvgMjBIcXE+qDDoAftLNc+C5m/QBYeLTdcqkZvgOCDJsg93B652kphKlcWaxkmKcR7wIbtj1/JHnfmmON1SgreS9NA+OMrLP9pwaLSBTW9Fj04ENsR5Nzhh2HgkSn3u1+CbMGgGQJTOtPyhpOjdf2fUg/b5F5/WRwnHUhG3AUh8OkhT6iIlaWrEbfCU2rUcx86EgRcK3XDt4liKjk+DdsM6JCxOATKe9JCdcT4OBIoOvrmQi+QkPbRO9WkcjOKcHrWcU+zOBxdysc7fY8XV36AS+6ePxvUo+2HjkYhMxInPh9btYr8+3p27KvOSPfytu+HH4Bu2GGUKi8uCMSIVal0M1EnCp5bUqVzRKUVIE6d5AGgzihxuAZFVG+hS07B7hCi9JUoZWU5wotmFNMucPBhTZLZbJFI0jsupzEtATJL9UavNKLLeE6ec6JQ8JKrjbNtNm1GEvAExWGebQyr9kog8o+gPUsb6KMJ6v6t9PYzepdet9xc2blm9dd2Vuj9S4LDdpO6nc6oLrNvMcY2sFzB6PVKyS6DzsjUp+1jqqcO8OSmWAO7UWpRxHCjBaZtokXbI6PV+CYvLQp5BbXc+8DYNKv9v0L/9A6CxW0D0N9R4/pJIuUuuj7tzVxh0TyciRWefts+boxf9rTtfGOtHqJECX8+l0kLMZrNZkZKI6KfNGjCg4AlKSkmaGnGBSOW2dk20f1oDplKJSBEl2SnQQ4vx9wfupFuZlyAj3UtSmmL/tBZMpRKRf2zp48CNym7sHmhlI7+bQhPsn9aGqVQiIiIRplKJiIhEGBiJiIhEGBiJiIhEGBiJiIhEGBiJiIhEGBiJiIhEGBibktsXCANyXlCrLOGlrsq+2DSo+fXcViL6KWBg9EjqbfECS2CR/SBi4f1gxjwXD/q1vBnAaDSiKMPXl5BZHUttNQHP+Q3lwR3MHevr/fv1iKg58ck3Hlkevqs3uHqjmBaaPk1dJ6WIXycU5JR62HdPHbKMOiVqJO1YKmKSNMgzZlmeMHIhFwkjYpAaEUSvASIit9hiJFKS9d14tsduWd9AHshXhBGRshgYZQjXiNKax1Ib+6cuGGAQv5xU6L9qxnSfLY2nywSQiTjJlJ6nvswSpKoTkHtMWB+H3y9ILM9d2jCg/XqWdUk9JvSXOv4uXifROju9o01IiztsGx/e5SaH8D7AputPJiK5GBjlsr4ot+TjTEC/G/udXvZZgtTFQLrRaO1HLEKaNhNxTXzCC4vLsiw/NxHCuwCN1p/GV83I6cvUI0VnwDxjEdK0eqTodmP8Icvvuz+3vjI4L8GaNjTa+k41Ti9zVog+BTFuBi5l6tZBc8iIvDlApi4OyLX+bmupWdLGRqPlc1cydTEwPG1dn0Np0Pr7cuML+7FbDySObnx0c2VeAuJOpqFItG+MAX7DPBHJx8DolUoYTiYiLQO24NAoGovtTm6u3x7eUojfSK7NSHd4EWsJ3krSIzFX/LR+y1vJ9f/cb38x0FOHLD9O/rZgb2wM5pk6h+A4Z15j/ebk+dyfp80oavxuTw00vhVjVYLUESnQa9PwpGN9JC+uiCgYMDDKEBahAfQGVFzYj90DxkMXobGc/L8zQK/VINw6n2N6zPHN2q1Rpq7p1zksLh1pQd9vZ32bvMSgobC4LBRlACkjhO1mn54moubFUaleMHy+G9CkA8PGI1G/GxVPN06zvUBVNPCiMi8BMf9slqo2mcTc5hhtWQGDHtA+GO551mbhOigKwuKyYIyz/F6Zl4CYEQnAoSyHVjkRNQe2GOXoo4EWmUhJgvXt19EYPycT6940AAM00unBC7lIbs4Wo7XOu/3pH3MrGuPnAJk6GQOMFB58U5IWh0wkYl5cMPbKeQ6KjsLuH4+WnXQnal3YYvSGdjxGWa/oo0cnQr8hExgwDwAQFjcPiUlxiFNnWmdORF5uIvRvNn698S3kVjo1MgFgTh6MKdHWe95S0BhO9YhRpwDQIs3b1kRPHdIzdiNGWAYs/WdZcWGKLSc6xYg8qEXr7LAchThttzl5MBq9fA+57S3mgjioA/BG+Mq8dZbtrU+xbtNGQuvaaX2s09haJAoOIWaz2dzclSAiIgoWTKUSERGJMDASERGJMDASERGJMDASERGJMDASERGJ8HYNIqImcLMBuFFnRl09cLMeqDcDwj0BISFA2xCgXVugfVugQ/sQtGOzpdnwdg0iogAy3TCjpi4EN256d6rt0C4EndqboeoQEqCakSsMjEREAVBTB1yvMeNmg3/ltGsD3NIpBJ3aK1Mv8oyBkYhIYddMZphuKFumqgPQWcXWY1NgFpuISCENZqDqOhQLij+a6m2/m25Yym5gUybgGBiJiBRgCYpmr/sS3ckvrsL+r67Z/n/jphlV180MjgHGwEhEpIAfqi2jTd1ZmnvWqzI3fXYFOZ9fsfvsZr1lWRQ4DIxERH66ZvLcUjxmvI5dxVXIL67yWF5+cRV+m3YS57+vwzHjdTz5t1PQl9q3HK+Z2GwMFN7HSETkh5o6932KP5rqoS+9hvX7LG8j/du+Spy7WocZ93fDz1VtJec/X1Vn17949uoNXDPV40dTve07phtAh3bgaNUA4KhUIiI/XPnR/S0Z+7+6hk2fX0Gx8brtsztua48/TrwDowZ2BmAJhifP12Co+ha778a+9DXu6NIeWxdqJMtu1wbo9nOOVFUaAyMRkY9MN8y4ZpI376bPL2P1rguYO+Z2/H707bbP9391DS99cBY/murRq0sH/OXxvrizVycAwN8+voQ7urTHxKFdXJbbWQU+BEBh7GMkAJa3yqvVaqQe8/47wk9CXmXgKhhsLuQiQa2GWp2A3AuWj2r1L1m3RSpK7OYRfu5CzISn8EZh43Zy3IbqoWMxY0kuDK1gcEVlXoJ1veKw8bTtU+QmCNtI+L3x564RD+GptHzn9a+vROGGhYgbcZd1O8XhpTwDasXL+zwTCx8fi8Hi7ZmQi0AelTV18gPSjPu7Y8AdnTD9vm62z/KLq/B/752xpU3PVd3AkxtO4ZtzNQCA6fd1cxsUva0DycPASOQXPQ6VWAZFfHU418O8tags3YNXZszAG6UuZqkyoHBTCh56fg+uuZil5SlBanahXRBzpfbCV9izYSHGTkpFiRAc6yuQOzcWM9LyUXLBWkpVCTYmpWLnBQCoRUnaWMQ8nor8zw1Ntt1uNsDrWzNe1vWx9RHmF1fhJYlRqj+a6vF/750BAMk+SEc3bvr/dB2yx8BIPotOMcJoNKIoQ9vcVWl6VytRhuEY92A48gtLUIuvUPjP2zHuweEAgFrxsH1tGoqMRhi/PYGshHAABhSX2rdjEnMt2/LrfcuhBVC7qxiGJluZwOoY2hG1776HPS4HY2qRdsi6/gVZmNkfQFkmUndUAAAqtjyLlE9qgf46pO08AaPRCOPXB5C3YgRuBYDSTKRsMACh0XjmvQP4+ltLWUajEcYsHcICtF436rzvhRJSpK6CouBc1Q0cE/VJBqIu5BoDY0tiTc2lrM3EjKFqqIc+hfzCfDw1VA313Q/hjePWq+n6ShSufQpjhzam555aW4hK0cm69mQ+Up96CDF3W1J8M953XlztyVy8pIvBXWo11OrBGPvUGyj8CWVL3ar+ARXoiFFxiRi4oxhflZVgd5dEPKrtCMCACqntdPMH1Fp3UefQjpLF1lZbZ+hzK6TnaHlm/n4ewrEH67Z85XHejn20WL4qER0BlBwpxTVUoPCfJQAAXcpy6P6ns3XGcETPSMS4nsBXB3JhABD9/KtYdH84OnpuZCmizsM9i654CooA8PNObXHnHZ0CXheSxsDYAuW+morCKgBVe7BwxkLLlXj1V3hleyFqUYn8ubGY8eoeGIQr9CoD9rw6A7H/Z03Plb6Bh8YvROaer1BZDQC1qHXs0ynbiBnjU7DxWKU1BXYNhj2vYMb0V1AiJyf2U6EZiOEowe7N+3FtfDSiQzs7z6NPQYxaDfVdI/HUpgp0fnANFo2zny9TZ7mIGTwpFfrQgXjmL4kY2ESrEHDDJyJxCGB4IxeFco6dPhoMB4Aff0AtKmEoBAAtogdKXSpcw3f/qQAwEJN+FQ7Aod82gH2Mnm7mlyIOipb+xu6S8y3X9ZaVRvWnLuQaA2NLpE3DgS+zMBMA+ici78s8JALA2Uu4VpqLVz6pBfonYlOxkJ5ag4mhQO2urdBX1kK/+RUYAGhf3IUT1rRT3hzxAmpR+H4qStARE1+zpqa+PYDlWgBlb2D3v5t+lYPNtUuXLL+0G4gRkwuRmVUG3ciB6Hz77QBqgZsuvqhNw67XJiLc5TkvHIlv5WHRsNbSXgSAcOienYmO1Rvx1q4KhcuuxQ8/AkBndGziTVbvZfbSMShm/j4Sf5zYE8891NNuvuW63rbbOAJVF3KPgbEF0j44CuGhnS2ptt+MR3Ro47Qr3xSjAkB0/EwMtw5m69hnOEbca/m9pv4aLp0FAC3GPzgQnSVP0NdQcboWQC3y/zASd/1CDfUvRuIlfeDWqaWprbYM8ejUtiMGRmuB0HEYfqcwtRCGC6KZtWko+vYENs3RAPoUvLTDuQ2TmGuEcX8atKEVyExufa3yjsN1mNcH0L/+FvZ7WLdaw1coBIDet6MzOuLWPgCgx1f/kfpiGDT/0xFAIfYft+wTS9+39WIxgLy50U0qKP5c1RY/muqxq/h723zLdb1to1D3f3XN7iZ/pepCnjEwtjLdIgZa+meyN1rSrQBqy/Zj9xEA6IxbQ4FObQGgDAaD5URyrTQXuZ+IS+mIW38OAOGY+VeHwQxGIxYPa7r1CW4a9AkDwiZnwfjlYkS7y3y17Yzhv5+HcQD0y9ZJpxT76bDo9+HAd5lIzVO6ZdXM2g6EboEW+G4P9hS6nu3av3Px0vKNqEVHzBw3HB0xENrfWVKkG1e+hPyT1g1XW4HCtanIvwAMvEeHjgD2PL8QG/8dfGN53QVF8a0Z4qAIAH/OP4+cg1cky6TAYmBsbf53POZZR/XNsA6+uWtMCvTVgGb+49B2DoN28kR0RAUyHx9s6deakILcMnEhnaGNfwYaVGDjU9YWo+3eMOs9eihBqvWzmCRLU1KfFNMk944Fgx+u+7CGXcbhyTnhQPVGvOIi8A383TPQAihZlSmvP64FCXvoScwMlZqiR8oIoY/Vcixq4tZg3v2W3OjAxxZD1wVAWS4Wjrfex3jXSMx41YAaAB2HJ2L5bzoC1Xq8NGmw7d7JzACvT4iM2wd9CYo/muqxetcFnP++DvnHvscuGc9WlVMXko+BsbVpOxDPbMvD8snRCLOehDr3H46ZGbuQtyAaHQF0HvcyNqVordM7I3pGGva+ZZ946jhkETZtWoyJw8JazehIJV0772KEZeitCAdgKJcKnB0RPS0R0XAT+HpOwpOzOroNni1Wx+HQ/T7czQydobl/Iha/tRd5q8Y13mbRZRzS9u/CmjnjoLE2qDr3H4dF76VD1xNA23Do1hdgU8pEDO/fubGs/xmHxLhoeNdbJ19bD8HIl6D4zbkaPLrGgE2fXwZguW1jae5Zj2/l8FQX8g4fCUdE5IMfqs2oqZOe5mv6VCA8Pu6O29rj1Vn9bPc/utKpPXBrKKOjUvh2DSIiH7RvC8nAeMx43a+gCFgeH7f/qx8xcdhtHoOiUBdSDgMjEZEPOrQPAWqcE26bPrMMmPE1KApm3N9N9m0bHdqztagk9jESEfmgXRugQzvngCTcmH/++zqcs75X0dugCEB+UGwXgnY8kyuKfYxERD6Seu3UuaobmLqmDD/WWF4q3KtLe6+Dojf42inlMTASEflB6kXF35yrwZN/O4Ufaxpv0A9EUOSLigODgZGIyA81dZYRqo7OVd3A+n2V+NFUj7ljbpc1iMZbt4aGoFN7xYv9yWNgJCLy0zWTGaYbTbtMVQegs4qtxUBgly0RkZ86q0IkB+IESod2IQyKAcTASESkgFtDgXZNcD9hu7aWZVHgMJVKRKSQBjPwQzVw42ZgTqsd2oXg1lCgDRuLAcXASESksED0ObJPsekwMBIRBUBNHXC9xvlWDm+1awPc0omjT5sSAyMRUQCZbphRUxfidXq1Q7sQdGpv5s37zYCBUYZvv/22uatARAHyi1/8okmWc7MBuFFnRl09cLMeqDcDwtk3JMTy6qh2bS0PBO/Qno95a04MjDLU1NQ0dxWIKEA6dVL+xntq2XhNQkREJMLASEREJMLASEREJMLASEREJMLASEREJMLASEREJMLASEREJMLASEREJMLASEREJMLASEREJMLAqLSL2zA3KgpRc7fhcnPXxRslGYiKysCJ5q6HG5d3zEVUVJT1Zy62XfTiyyUZbvbJZWybG4WMEhffvbgNcyW3jeV7jXXysP2sx4bTcoRjxvozd4fyR45P264kQ/Qd6e3juVyHbSS5D04gQ7ScqNUSW9FjXbzcF0RuMDAq6jK2vbQEBc1dDV9EJ6G0NAmDm7seLlzeMRexL6iRU1qK0tJSFKwEloySefK7uA1zH8t2OfnE6lgscbnTTiBjlPQ+PbE6FkuwAgXWOuUkZGO6yxOyi2Pj4jbMHbUEWFmA0tJSlJYWYMyeWEWDo0/briQDUY8ZsWK/5Tul78cj+zH7wOe53MvYNjcWSzQ5tnVbgSWItQt8J5ARNR1G2/rnID5ruv36y6iLd/uCyD0GRqVc3Ia5Ue5OsOS7E8h6oQCxKxNsgbv75D9hRWw21nsIIJd3zEWUi8AmtFSmZ7n4ckkGoqKmQzKkXtyG9VlA/JxH0N360eDnchCPbOyVbFm9KHlsnNi4BAWxK/CnyUIp3fHI8hXACy961yJ2yZdtdxnbNmQDCXPxSA/rR9FJyEkowJKNQqiRUW5JFpYUxGLFTNsceGT5CsRmrbet2+Ud65GNeMy1rf9gJL0fj4IXsqxBTUZdvNwXRJ4wMCqhJMN28o2NjQ3YYuzTVs4pN0/THdNRdmktu1SqJS01d8cJj2mwE6ujvE/ReetiGYyIxZgR3UUfdsfIcbEo2HPAZcra0qIpQPz7pchJcJxqaalkx65Awf4VcNprJRmIeiwbsSsLULBSYp/2eATrS0uRFO1YT6n6b8OLLwAr3ndczmWUGYDYcSMhXjP06A81ClB21sWKecOnbfcdygqA+Afs8weDH4gHsvZajhEZ5V4+bQRix2BkD9EsPUZiTGwB9h2yLPm7sgIgYax9piJ6rCioyaiLN/uCSAYGRsXEI6e0FOvnqANS+onVUXZpq9LSHKhfaEy5WaajMd20fwUgmu6UjpJMa9kreGE6yuY0lhdbsAQvioLtidVRmJ4V31in99VYMspNX52vzpahAGr07yExraAM37n4WvfJ61HqeMK0GYyk0lKUrn/EPigJopNQWlqK9ZMlp0oSWn8JdsuzplAT5uKR3rKLAgAYTyuQTvVl21mDXn/J+hpRdlFeud+VFQCa/pLbt6DsO9guDPr3kay68fRleXWRIL0viORhYFRCwPvnTmBvFhD/vngZlhP7+sndG1NJ769vTDf1eAR/WhlrS0ldPm0E7E5k3fHI+lKUPuem1gk5jUGlxyOYm4DGVoZtmaI6RSchJwHI3tDCBh75SWipT3dI5wGwphPjkSO5nbujvwbOLTe2dnzmdl8QycTA2BKU7EW2y6tmWK/enad3HzEGsdaUlPD7dBejC6W4upIHgMuH9qEA8RjrcEU++IF4t6241khomZaW5gCPiVPYJ5DxWLbDBY09y/YSt8Rb8ACuIOB6XxDJx8DYYrhIW8md3uMRrC/NQTyA7MeU6hO0BFq7fks3oz9bv8FIELXST6yejmxxq1tKdBJK349HwQux1m34IrDcsp/IH/b7gsgb7Zq7AiSXpT9lsMvg52q6uCVpSb8mARAGnywZlYH+PqeB45HTFLd49O6PWOyTXr/Y/nDdrm1OlvQ3MB1RDqNeCx6LQnZCTmMa25qKt7m4DXMBqPspkAj0Zdv16A81llgG/zgdT8IFmIxy+8cCe8pwGYOdUpqWbIQllbyk7DtAIump7tddZl2IlMUWY0vQuz9i3Y1SdDHdku50dfIYjKT9KxDrZgCDO937qSE1+OHyjrnKP9zAOkpTGMloXRIO7ClwHtHZVEoyJFvc35UVWAODdXCP+Mc6+jX+/ca+3ROrnUf7ukpT+8SnbdcH/WOB7E/t21onPs1uHEEqo9zu/dRAwT4cEG+jiwewr6BxNGuf/rGNo0sFJXuRbVt/GXXxuC+IvMPA2BJYB75kP+Z487T1KSG26aKTw8VteFF0n5llUIL9Dc+WkXsOw+nlEu4lE9/QbV2m8oMehLTYi6L7317EkgLx/W9NLDoBK2ILsOQl+1tevB30IfQxZgn9vg77zX++bLvueGROPJA1vbE/uiQD07PE9yTKKNdpG4lG6FqPue6T5yIe2Zi+uvH+yIzHskXrL6MuCu0LIgFTqS3E4OdKUdB/LmKjoho/FKXjbNNHRWGJdXL8+423KnSfvB4FcPg+4pFT6vuJY/BzpchBFKZHNfYripepJFv9besXixX7xWlcS2oYAVq+RI3wyPoCYG4sYqOELR6LFftLG0cGyxGdhNL3gajHomwPElB6G/q07VzUS7xunv5xUpsAACAASURBVMuV2EaxK1BgN0J3MJJKc4AoUco5IQel4qDtsS4K7QsiqxCz2Wxu7koEu5qamuauAhEFSKdOnZq7ChRkmEolIiISYWAkIiISYWAkIiISYWAkIiISYWAkIiISYWAkIiISYWAkIiISYWAkIiISYWAkIiISYWAkIiISYWAkIiIS4bNSiYiIRNhiJCIiEmFgJCIiEmFgJCIiEmFgJCIiEmFgJCIiEmFgJCIiEmFgJCIiEmFgJCIiEmFgJCIiEmFgJCIiEmFgVEwlchPUUKutPwm5qGzuKnnjWCrU6lSUNHc9nJQgVS3armlyaihnX8go91hq43S1GqnHJJaUlyCaJwG5FwJUFz95rqeEYFp/j3VxWE5QHsvUYphJAZfMW2dHmiMjHX5mbzVfau6qtWjF5pWRkebZH1xy8X8p1n2xqtjF/2WWe3SlOTJytnnreRf/N5vNlz6YbY6MXGkudvF/xeriJ8/1lBBM6y+jLsWr7P/eildFel5HIhcYGJVwdKU1GFr/EM9vNc+OjHT64yXvSJ7Aj650f8KTOGla9kfjZ57LlTqBW0+2ts+kApjle7bPFKmLv2TU00kwrb+Mulj/3lYedV5v+8+I5GEqVQElH2dafpkzHtEA0FOHeXMAQI/dnyuXULVPW6mRkFfp1XTHdJRdWssulWpJSyXklXhMg5Wkqb1P0clUYdA3blPBsPFIRCZ2S6T1AKCy3ABox2NUT9GHPUdhvLZxX3gutwIGPZA42m4ORI9OBDbstmyjCwYYoMX4+8NEc4Rh1INa6P+5H5WK1cVPMurpLJjWX0ZdeuqQZTRi8TDH9SbyDQOjgrSacKfP9IYKRcouSVMjJkmDPKMRRqMRRmMeNEkxtuBnmQ6kHbJOP5QGiKbjWCrUOkPjdGMR0pCCGDf9WfqkOBiebixPq09BsijYlqSpEbchsbFOuRqkjJDui/JeJQwnpbcpABjKXZzSDXpggAZhEtMs+0JGudaTvqaP5BwwXADwnQF6aKDpKTGL3oAKperiLxn1dBJM6y+nLhJKslOg16bhyWHS04ncYWD0m+WP21G4RqvgMkqwewOQmLtYdGUdjcVGI7LiwoALuVi3AUjMzYJOOFH11CE9Qwt90lsogfXq3e5EFgZdlhHGFPsrcTtz8hqvwq2tYFsrw7ZMUZ2GLUbeHCDzzRY28IhaDSFrErcBSHxaJxmUiTxhYGwJju1GpsurZliv3p2nh90/HlprSkr4Pc7F6EIprq7kAaDy893QIxHjHa7Io0cnum6JEAVYWFyWLaMCnUR3ApEMDIwBUmHQK1yii7SV3Ok9dcgy5iERQKZOqT5BS6C167fUZfpTIJFCovGkKGNC5A0GRr+FQTPA8ptUf6K7Vpd3XPenuJ8ubkla0q/CFXUi9EgZ4c/9XqL+RbufxXCToJXJsl1d9dFqIqSTZOEaLXDSIJnKtewLGeX21EADPQzfSc5huQDpo4HW1TbXahCuVF38JaOeToJp/eXUhUhhDIwKiB6daPlFGCVn7ROE06g9H/XRQOvy5OB6uiXd6erkEY3Fh9Jcn9w8CIvQQCoYV+YlKPZwg3CNVrRNrY7tRqZECteuXvrd2C+u14X92K1v3Beeyw2HRgtkfmx/yVDycaZo5LHlhG0/6rgS+/+ph/bBUQhTrC5+klFPZ8G0/jLqcixVMvtRYdC7Dv5E7jT3/SKtQ+Bv8He+Ydn+/i7LdNE9Y9Z7u4R7yqTuF7O7KVri3jHH+9w83kQteT+ZX2ttXhnp6d45R9btYqun65vK3ZZrvTfVti4ub3B3d0+eQnXxk+d6Sgim9fdYF8flSHyHyAsMjIpxCI4BeOqN5cQjWobDTc+O0x1PCk7fF5/EfAiMts/cLNN/1hOnu3V22tZy9oX7cs1ms+jBDa7XzX6bSj3QQaG6+Ml9PV3cDB9M6++xLo4Xp3y4BvkuxGw2m5u71UpERBQs2MdIREQkwsBIREQkwsBIREQkwsBIREQkwsBIREQkwsBIREQkwsBIREQkwsBIREQkwsBIREQkwsBIREQkwsBIREQkwsBIREQkwsBIREQkwsBIREQkwsBIREQkwsBIREQkwsBIREQkwsBIREQkwsBIREQkwsBIREQkwsBIREQkwsBIREQkwsBIREQkwsBIREQkwsBIREQk0q4pF2Y2m5tycURERF4LaGBkICQiopYmIIGRAZGIiFoqRQOjp4DIgElERMFOkcDoKuAxUBIRUUvjd2CUCm6On7kLgAyOREQUTPwKjO4CoKvf3X1GRETU3HwOjK6ColRA9BQkiYiIgoVPgdFTUPT0r6tyiIiImptifYzif4XfGxoabP9ncCQiopbA68Dorr/QbDajoaHBLiAK/3ecz115REREzUWxwTdmsxn19fW2YFhZWel35Zpajx49mrsKRETUzPx+iLhUKrWurs7fYomIiJqFVy1Gd7djNDQ0oL6+HvX19QyMRETUYiny2inxYJu6ujrU1tYqUSwREVGT8yswikecCoNs6urq2GIkIqIWy6fA6OomfiGdyhYjERG1VLIDo6fnnQotxoaGBty8eVORyhERETU1xfsYxfctEhERtTQ+B0Z3j4Wrr6/3r1ZERETNRJHBN8Lv4s+JiIhaIkVSqQLxo+CIiIhaIr8fIu4oEEHx+PHjOHPmDM6cOYPq6mqEhoaib9++6Nu3L4YMGaL48qSYTKYmWU5rc/ToUY/z3HPPPU1QEyLl8Lhu3RQPjEqprq7Gvn37sG/fPlRXVztNP378OAAgNDQUY8aMwZgxYxAaGtrU1SQZwu8Mdzmt4puKJqwJkXJ4XLdeQRkYv/nmG6xdu1YyIDqqrq7Gzp07sW/fPsyfPx933nlnQOumUqkCWn5r1KlTJ7fTuU2pJeJx3Xr53cf4/c3riqZPDx48iPT0dFlBUay6uhrp6ek4ePCgYnWhwKjc8RTUfylp7moQWRUhXTUVW8/af3oxdypUq4rcfK8Eb/R8CvnnA1o5agZ+BcYnyt/E7079Ram64JtvvsHbb7/tVxlvv/02vvnmG4VqRPJdxNYZzicXJ8VvIOYpYM206CapVSBdzJ0KlUqFqbkXlStvxlYoU1rwKlqlgkqlQvqR5q4JYDlutVi29Fk82tt+Sg/ds1j2stbN/o2G7q/AwiFvgJd5rYvPqdSEU29gZ9VR7PvFEkUqUl1djbVr1ypS1tq1a5GRkRGQPsdLn6zAL4sNtv+/MO5dLBrkZSEXPsbj723Eh8L/I5JxVRfl9XKO5s7CuHLhfxpseHwJ4noquZxSvJKRjpXiLziWcXYrpiYBr216FBF3A+UAcCQdqk+0MD0fY1/h8/l46revYNE/jJh4h+NGuYitMyKwY1I5tugC+V7MploOtQRFqyIQj2yUOx6rAIAYJBuyMVUTgfQIE5LvdZ4jbPJfkXdKjbgnw1H01kSEBbzG1BR8ajHONq7Dzqqj+OTOlzAoNEKRirgaZCMID3fd0e1IGLijtMqCDPyyGNjw+Lu4mvQuro4bjZV7ZuGVL7woxBqsMHS1pYykZLxQno6uuaW2WSzByv1yLEFxNPYkWeb5z1BgznsrkHdByeVEYZG1fHEZj38iegl170fx7N3xiFClQ48hKH9PBdXI48h+3PlEU7J5IfY8tAa6oV5sryDWQ7cFJpOJAdZLMc+bYDJJB5omdXYrXn0ZWPaHR+FyD/Z+FM8uBZa95rolHz1tDcbtWojc4gDVk5qc14FRCIqf/nKZYkERAPbu3et2+vTp0/HEE0/I7tBWPjD+BzlfGDFh6NzGVtmgmdgTAaw8/DEuySzlaMFGfHjrTKz+jXBtGYVF40YD5dusQa0UG4sN7pdz4WOsLQdeGDcTwoDw238zFxtuNWBOQalyy3EShdgI4MMrlXafWk50WuDlZTjevxwm0xantBTO5+OtDGDRXF5VU3Aoei8eO6dkI95DgI55PBuTtscj21Xq946JeDIJeGV9PipdzEIti2RgzK7cj9ll65w+n21ch79fPaJ4UDx+/Lis+wTvu+8+JCcny2o9VldX227pUMTFC/gSakwcKDqtf7HRksr84TxOyyqkEqergAmaQbjd9lkpXtnzMQADTl8EcOEcvoDG/XIunseHGI1YUWr10ifrMecHAFXncEmp5TgSAvKd9ulYS5/Rqzg+ZRmGlEVAJTGQAecqsAeLMNyptfg10lUqqFQRiN8O7JwVAZVKZf1Jh93Qh7NbMdU2TSXZHyf0+zmXUSR/OZ4cSbdbhlNf2ZF0S5kO9XWaz2F6xKydTotyXB9xf5dkX521bvL7PS3bJf3IRWydIdpu4kEnR9Kd96mwjuJ6ztiKi3bbxv479uviqj9a2E9S+1Aow35/SfXNCtvG5bbHRZR/CUyapHXdWhT01mLyFOB4uettGj1yEbCrArxJo3WQDIyDQyOw42qRXXAUguL+u5Zj8C2RilbizJkzsuft27cvkpOTMWLECEXL9ejyBfwTfdHP2ro6mjsLXfcAe8aNBlCO0xfcftuqEqd/AAZ1twajLzaia0Y6MC4ZLwD44nKlNehFuF3OpcvlwK13oJ+1zLy/zcIvDcOxZ6jGGtSUWY5FKV7JmIWuGbPQ1ZqatevrPLsVr36ZjXLTFjx793FEPG6C6cAQxL9nH2oqz3wJPBQO50uau5BsMsFkKkf2FGDSu+UwmUzWn2TEiJYzVROPIQdMtun6u+MRIT4hHklHxKwh0JtMEmXEyFuOHPcmW7+nxzKXMy2DVlOOZ63LKH93EpaNFJ3QJdan/N1JdiVczJ3qsD56DJkVYQt6Mc87lHt2K6aOXIZJ73rff7psZATK/2BdjiEbk17Wej84Zns8Il6LQLmwf5buRHxS4/4RUs8mQzYmSRZQhHSVFsfF++aA6y3sStEqFbRfZtvqYTJk4/hIx+BYjvLtwJAIOdupByLuBnaWlbuepVc4xuFLfMcRqq2C5OCbwbdEQh/1MrSlS22fiYOi0k+38TaAhYaGIjExEXfddRdycnJctjYVDYwCcd+dLgz4YqMPhVQi72/PYQ5m4j9J7+J2lOKVPT4s54uN6LrnY7ww7l1cHQRc+qQwAMux9DMuEpXX1TAT//n9aEtrtPej2LIJAC5C/6X1K/cmw+SQnqo4tQfA/5O1daQUvRePnUv12CIqN+bxbEzS7ID+7KOi1O0y6I8kI6a5+68wCdmGxoDbI8L+CU1S62OvCNmzdmLZgS2ioB2D+HcnYdlOPS7qLP1iPXRboC9TQbsqAtlfWso0+dDnOend8sY+v94R8O15Usug39TYXxfRfxLwpdsv2LmY+yqWTclGuT99tme34tWXJyHbIOo37P0onl0aD+0nRUi+17o1z5bjOODden5ZjouIcdPC3IOKcwCcBpZRS+NyVKpjcAxES1Hg7T2Lgvvuuw8AXN7i4Wu5krr3xIPYgnHvWQa82D/sqbHl5V4Y+t0KzNnznC2YiQ3qHgb0uAMTsNHtcm6/GAEUb8QvDwsBT+TWO9BPoeVI1T9u0kzkv1eIgguj7UfAogce3bTF5ZqHR44DvnY5WZ6XtVC97PjhJEwWfr03GaYDgGqkytaSW3YgCAZ5OBHSeJ67I5aJ1sVmymS7/8Y8r8cylRbxU1yNrmwZyst2Anc/6zm16dFOxGtUiHf8eKnod1+C/90RHuo2DuG9vC2UgpHb2zWE4AhA0T5FR77eVnHw4EFs3rxZ8XIl9eiJuwG0GTreLogc/eZjICIZ8p6KGIZ+XQBgJmaKg9UXxViJ0dgzCAB6YRAAuFtOjzswAcCgX40WBcVKFBgMmKCZi9uVWo4Uawp2vqwLAdGa973b1gfj8+CbpXrnW0Ac3ZsMkynZ8vuRdKhGqoCgC47i1Jz7U63nwG65D+/4u+XQl0UgYlWE520UpCL6TwJ2emqVyTEJ2QaJAWD2S0PEFGBH+UXgXk9Lk3Ehc64Ce3A3nmRrsVXwOCp18C2RAWspCvr27evV/NXV1Xj77bfx9ttvu20Veluue7/E9EFqfFi8vvGWiC82Yly5BhtioxzmbeyXc7yV457YmZjww0Y8Z7vlwTIoZoItQEVh5lCN++X0HI35EcDKPRshPMrYMvhmNOZbR6Eqshwn1gE8EUNlXgiI9ArHOLyCQpdD2q3BYqdeclh8zG+WAd72e92rlegDdL8cgW2gSIBuuI/oPwl4WW83qMR+8E0MtEth3y8pQbgP7zVdD0vL0cUN6X6tT+8ITMJOlAuDZY6kQzXS+74/T3pEDAHEoz8llmNJSR+31cVpu/XWYvIU+75NF0uTdRwAAM7qsWP7JEy+z3UALTnwCpA0HC3/sRUEBMmzUr0JYGfOnEFWVpas/kNlAyMQFpuE/7RbjV++NwtzAEjeVO9Jz9F473Hg8feeQ1drkJgwdDXe+01jO+r23yzBf7DC7XLu0b2LPbmzMC7jY+sno7EnqfH2DUWW4/iAAEAyNSvLHRPxZNJCxK3Ph87FjdBCSjBCJSTBlkEvDIyRSJMCAKZko9zar+UcXCx9Z479eG6XI0PRKhW04pSuUCc5LVorW9+gyro2S/UwHRgC1Wviepqgh2ge8TrpgK0zIhC/XdyfFoPkA8ugGhkBVZn8unjU+1G89u4ORNi2/TLoDdl4VeNmMIqTi9b6Nn6y05rutA0WujcZ5e8eb1zOlGyUH1iGiJGiYu5Nhn6pClohVTolG+UHhiDCtt164NFN5cCMCNH+tXBsfVv6qOORfeRRt63yiwd3YOeUyXjNZQu0BIUZwKJ/MCy2FiFmmSNpHF9ELPw0NDSgvr4edXV1qKmpwfXr11FVVYVu3bp5VZFnnnnG7S0bycnJuHz5MjZv3iyr71ClUuGNN97wqg49eri+IhTqxgcDe6egoAC/GPQLy3/O5+OpIQtx9z+MeMZ628a3X3yL2NjY5qsgBbcj6VCNhFcXLt6wjWDd5OImf9HoYXHwFB/XJX9RI+7rNXZPvuFx3bIp+qJif4wdO9bt9M2bN3tMnXpTHjWDOybir/9YhFd+ywcvU3CIeb4c2YhHhOTDwouQrokHxCN2HVTueApxGYuQx8fBtSpBExjHjBnjtjXmza0XKpUKY8aMUaJapLShz6Dor8DCzXzsMgWDHnh0kx7LXn5V4u0ar2LZUr2be0JLkPsUsOb4M+xbbGXc9jHevHkT77//Pj7//HP87Gc/w+OPP44hQ3y7w8mT0NBQLFiwAOnp6X6XtWDBAr60OIiFTf4rjM1dCWoZ7k2GjIdi+SkGySbnW4166LbA/aKj8cyFvwaqUtSM3AbGr7/+Gt9//z3Wrl2L8vJyfPjhh7jzzjsD1s9255134oknnvDr1VNPPPFEQF9WLOfRdWSvpqbG7XRuU2qJeFy3Xm4D48WLF6FWq6FSqdCvXz/ccsstqK2tDegAlPvuuw/du3fH66+/7tWBpVKpsGDBgoAGRfJNxTd8giS1PjyuWy+3gdFxoEubNk3TJXnnnXfiz3/+M/bt24e9e/e6DZAqlQpjx47FmDFjApo+5WhU33BkHrVGPK5bN7eBMTQ01C44NjQ0BLxC4mVPmjQJkyZNwvHjx3HmzBmcOXMG1dXVCA0NRd++fdG3b9+A9XkSEdFPk9vA2KNHD/zjH//AAw88gIqKCly/fh0dO3ZsqrrZDBkyhAGQiIiahNvAeNddd+HLL7/EwoULbaNSQ0NDFX+7BhERUbAImiffBAN3T74hIqKfhqC5wZ+IiCgYMDASERGJMDASERGJMDASERGJMDASERGJMDASERGJMDASERGJtDObzfjss8+wdetW1NXV4YEHHkBcXBxu3LiB7OxslJSUoHfv3njmmWfw448/4vPPP8djjz2GAwcO4NSpU3j00UfRtm1bp4L79evXDKtDRETknzaVlZU4ePAgXnzxRbz22mu4dOkSzpw5g48++gi9e/fGhg0bMHbsWOzbt8/2paNHj6KkpAS/+93v0KFDh2asPhERkbLa/fe//0WvXr1wxx13ALC85BcA9u7diyNHjmDnzp0AgAEDBmDo0KE4cuQIDh06hKeffhqhoaFN+mBxIiKiQGv3s5/9DOfOncP58+fRpUsXbNmyBVqtFp07d4ZOp8PYsWNx48YN1NXV4dKlS7j33nsxfPhwbN26FT169EDXrl2bex2IiIgU0yYsLAz33Xcf/vSnP2HBggW49dZb0adPHzz44IP49ttvMWfOHKSkpODbb7+1fUmj0WD06NHYuHEjqqqqsHbtWnz55ZfNuBpERETKCNhDxKOjowNWaSIiokDh7RpEREQiDIxEREQiDIxEREQiDIxEREQiDIxEREQiDIxEREQiDIxEREQiDIxeyMjIgFqthlqtxq9//WsYDAavy/jggw9sZajVahQVFdlNN5lMWLhwoW36lClTUFVVZTdPUVGRXRkZGRluy/BUV2G9PvjgA8npBoMBv/71ryXrQkTU2jAwypSRkYHDhw+juLgYRqMRCxYswOzZs70Kjh988AFef/117N27F0ajEZs3b8a0adNswdFkMuH5559Hr169YDQaYTQaMW3aNDzxxBO2gGQwGJCWlmYro7i4GIcPH7YLamvXrrUrY8GCBUhKSpIMakVFRdi1axcGDRokWWeTyYR169ZBo9F4s7mIiFosBkYZDAYDdu3aheTkZHTp0gUAMGHCBAwdOhTbt2+XVUZVVRU2b96MBQsW2IJMTEwM5s6di82bN8NkMuFf//oXzpw5gyeffNL2vQkTJqBv3744efIkAMvj+Hbs2GEro0uXLvjVr36FgwcPwmQyAQCSkpKQlJRkK2PIkCGorKy0lSGuU3p6OlasWOHyNWEffvghAGDWrFmy1pOIqKVjYJThypUrCAsLw4ABA2yfffjhh8jPz8e5c+dsAclTGWazGUOGDLF9VlRUhPXr1+PMmTOoqamR/J5KpUKvXr1w5swZ/1fEwVtvvYW+ffu6bC0aDAa8/vrrmDZtGlQqleLLJyIKRgyMMpw5cwZ9+/ZFp06dbP13Bw8exNKlS90GNbErV64gJCQE3bp1A2BJzaanp2PdunWorKzElStXbIH3448/tn1PCJ6nTp2SLLeqqgqHDx/Gfffd5zJ4HT9+3CmwGwwGFBYWYt68eejUqZPk97Zv346HHnoIMTExHtePiKi1YGD0QlFREQYOHIhp06ZhzZo1uOWWW7wu4+TJk/j1r3+NyMhIbN++3RYoAUtaNCMjA6+//rpt4MyHH36IiRMnSpZlMpmwfPlyAMDo0aNd1jk5ORnTpk2zpYGFfsPp06e77DssKirC4cOH7dK6REQ/Be2auwItQd++fZGcnAwA+Oqrr+xaZkJL0pNu3bqhsrIS6enpyM/PtwUpAAgLC7MFSI1Gg88++8w2TRiQM3LkSLvyhM/PnDmDt99+2648QVFREaZNm4b09HT87ne/s30u9BtOmDBBsq5C36O4T5WI6KeCgVGGbt26oXfv3nZ9bSaTCQcPHnSbwnQsIywszK7lBgAHDhzAr371K5cBSBiQI06D+hMUhXrn5+cjPz/f7jv5+flITk7G0qVLceLECUybNs2p3KFDh2LixIlYtWoV+x2JqHUyy9TQ0GD7qa+vN9+8edNcV1dnrq2tNVdXV5t/+OEH88WLF81Go9FcXFwst9gWIz093Tx58mTz1atXzWaz2Zybm2v3f8Hhw4fNkZGRktNyc3PN999/v/nbb7+1zSv+vyOhrMOHD9s+q66uNv/hD3+QLN/xe7m5ubLWTSjT3fyHDx92u0wiotaCLUaZkpKSkJGRgaFDhwIABg8e7LK15orQchs7diwAoHfv3njnnXfs+vkyMjKwfv162zKKi4vtlvGvf/3L1tIT6iJIT0/HhAkTsHnzZgBAcnKyLQXsa52JiH5qQsxms1nOjOLZzGaz7aehoQH19fWoq6tDTU0Nrl+/jqqqKkRHRwes0kRERIHCUalEREQiDIxEREQiDIxEREQiDIxEREQiigTGkJAQJYohIiJqdmwxEhERiTAwEhERiTAwEhERiQQkMLLPkYiIWiq/AqM4AIaEhNh+iIiIWiqfA6MQABkIiYioNWEqlYiISER2YHQX7BzTqG3acEwPERG1TD5FME9BkoiIqKXyu2knbimGhISgbdu2aNu2rd8VIyIiag6Kjkpt27Yt2rRpg3bt+P5jIiJqmWS/qFggzC7829DQYHtZ8Y0bN2AymfDf//4XP/74I65du4b//ve/uH79Ourq6lBfX4/6+nq35RIRETUnn5t2ISEhMJvNdgNvhNZix44dbUEwJCQEHTt2RF1dHW7evImGhgYADIRERBScFMt5CqnUdu3aoUOHDrh58yZ+9rOfoX379qirq0NdXR0aGhrsWpruMHASEVFz8DowCi1F8e/C7Rlmsxlt27ZF+/btoVKp0K5dO7Rv3x43b95EfX09zGazUyqWiIgomPjdYmzTpg0aGhrsUqlCirVNmzZo37496uvrba1FcXAkIiIKNj4FRnGrUfg/YAmSZrMZ7dq1Q5s2bdC2bVvbwBzAdfqUgZKIiIKF16NSxcRfNZvNtsAnjFQVWofigMggSEREwcyvwAg4374hTpe6Sp0yOBIRUbDyOzACzsERcE6bctANERG1BIoERsA5repqGhERUTBT9D5GALYRqURERC2RYi1GR2wlEhFRSxSwp31LtRoZLImIKNgFLDDW1NQEqmgiIqKA8ft9jERERK0JAyMREZEIAyMREZEIAyMREZEIAyMREZEIAyMREZEIAyMREZEIAyMREZEIAyMREZEIAyMREZEIAyMREZEIAyMREZEIAyMREZEIAyMREZGIX4Hx+5vXceL6Ke+/9/33mDp1KqKiohAVFYU//vGPMJlM/lRF0vbt223LiIqKwvbt2xVfBlFTWbVqFbZs2WL3WWFhIebPnx+Qvx+inyqfA+OJ66cw5N/PYeHpd3xe+LvvvovS0lL8+c9/hkqlsn3uGNBGjx6NsrIy23TH2HW0pgAABXVJREFUwOoq8E2ZMgWlpaUoLi7Gb3/7W5/r2ZKdPHkSMTExip08CwsLMXHiRFy9elWB2gUvpbebv7Zs2YLCwkKMHTvW7vPBgwcDANasWdMc1SJqlXwKjCeun8Kor1/CrW1D8fcByUrXyRbQhJ+nn34aL7zwAr7//nu7+YTAKvxMmTJF8bo4aqrA8FMJQORZYWEhXn31VaxevRpdu3a1m6ZSqbB8+XIUFhY6tSaJyDftvP2CEBQndbkHa/ol4LZ2twSiXnYGDRqErVu34sqVK7jtttsCvrzWZMCAASgqKmruarQ4wbLdTCYTcnJy8PDDD2PAgAGS83Tt2hXTp09HTk4Oxo4d6xQ8icg7ki1GV32H4qCY3X9+kwRFANi5cyf69u2LXr16NcnyiILFiRMncOTIETzyyCNu5xNSrHv37m2KahG1apKBcc2FDzHk388hu3K/7bPsyv0Y8u/nbEEx0MT9jEeOHMELL7xg1w8JALNmzQr4AB7Bli1boFKp8MADD2Dfvn3o3bs3VCoVVCqVUwpr1apVtmkqlQqFhYV204X+K6l5vFmOO1evXsXEiRNt3121apXddJPJhPnz52PLli129XXsU3Ms54EHHnBaluP6iMuQ6qsTlu1NqnjLli2YP38+PvnkE9tyYmJicPLkSbsyxespXkegMT1dWFhoV1/x/vG03cT1Ee8/8f4RyhfqJl62eH3dbTfB6dOnce+99yI8PNzt9unatSuGDx+OU6e8HwxHRPYkA+OyPo9iVpgWs8vWIbtyP7Ir92N22TrMCtM2SVAE7PsZFy1ahBEjRuDo0aMAgNtuuw1btmyxTT906BAqKiqwdOnSgAXHqVOnwmQy4dNPP8WYMWNw9uxZmEwmmEwmTJ061TbfqlWrcO7cOVy9ehUmkwlffPEFFi5caDv5Xr16Fc899xzWrFlj+77JZMLw4cO9Wo4nXbt2RX5+PkwmE5YuXepyvtmzZyMyMhImkwlnz57F6dOnsXPnTltd4+PjMX36dFsdPv30U7vvnzx5EjNnzrRbn169eiEpKQkmkwkDBgzARx99ZFfumjVrcPr0aWRnZ3uV9svMzMTf//5327Z9+OGHsXbtWq/2+b59+7Bq1Sp89NFHMJlMeOedd7Bq1SpbwJKz3bZs2YKcnBzbvrl69SoSExNl1wHwvN0Ep06dQq9evZwuCqVERkbi3LlzQTFYiKglczn4Jrv/fLzTfx5ml63D7LJ1eKf/vCYLio7uueceJCYm4rPPPpOcftttt2HRokU4fvw4zp0718S1a3Ty5EkcOnQI8+fPt53IBgwYgIcffhh6vd5uXsf/N5elS5faAq5KpUK/fv1s0/bu3Yt+/fph0qRJLr+/bds2PPzww7bADgCPPPIIysvLUVFRAcASbFavXo1Nmzbh7bffxt///nfJgSSejBkzBsuXL7dt28jISK++DwD/+7//a7ds8frKcfXqVeTk5OD555/3qy9PznYzmUxeH8+nT59mYCTyk9tRqfFho/BO/3l4p/88xIeNaqo6OTGZTDh//jwiIiJczlNRUYHu3bujW7duTVgzZ5cuXcKgQYPsUmwvv/yybXrXrl2RnZ2NwsJCj+m65ia3tfLyyy/bre+gQYNw6dIlu3kGDBiAGTNmYN68eVizZo3LgSTB7vLlyzCbzYocZ562m0ql8rpfvV+/frJal0TkmsfbNeLDRjVrUASAjz76CMePH8egQYMkp5eVleHNN9+ETqdr9lGrt99+O7744gu7NKnJZMLzzz9vm0ecrjt79iwKCwuDMjjKTc0JKWzxT1FRkV3wKywsRE5ODj799FOkpqba9b+1JN27d0dISAiuXLnid1lytps36VFv0q5E5Nr/BwYpFTVj1W4yAAAAAElFTkSuQmCC)"
   ]
  },
  {
   "cell_type": "code",
   "execution_count": null,
   "metadata": {
    "colab": {
     "base_uri": "https://localhost:8080/"
    },
    "id": "ArcFR_jC0Pld",
    "outputId": "aa43ea62-11f9-444e-e3b4-fc6ad1fd4bff"
   },
   "outputs": [
    {
     "data": {
      "text/plain": [
       "0.092244"
      ]
     },
     "execution_count": 41,
     "metadata": {},
     "output_type": "execute_result"
    }
   ],
   "source": [
    "0.000003*(test.index.nunique())"
   ]
  },
  {
   "cell_type": "code",
   "execution_count": null,
   "metadata": {
    "colab": {
     "base_uri": "https://localhost:8080/"
    },
    "id": "XMbCt52l1aEA",
    "outputId": "9d140c5c-1fe2-420a-a0be-13ffa9c60d03"
   },
   "outputs": [
    {
     "data": {
      "text/plain": [
       "30748"
      ]
     },
     "execution_count": 35,
     "metadata": {},
     "output_type": "execute_result"
    }
   ],
   "source": [
    "test.index.nunique()"
   ]
  },
  {
   "cell_type": "code",
   "execution_count": null,
   "metadata": {
    "colab": {
     "base_uri": "https://localhost:8080/",
     "height": 348,
     "referenced_widgets": [
      "44c0feea8bb64400a7bba2bbccef2d35",
      "1aab63c0a29946dd9a0abcf9809d3aac",
      "0fd6897ac9564864947e2fd55b456499",
      "156fddc49566498fb1e3d42515b2f9f3",
      "4d65f99d9eb140508461ceae5e5b8a5a",
      "8f92091b78294b5fa78c3c8e02744ccf",
      "b79c4aedab294dfc8b6f5d9ff10ab945",
      "7565e7300215423fbf27d1e93d786212",
      "9e9740a0a9c74285a68f63dd85e5973e",
      "983d67d40c394420b91a641c33ab41bd",
      "9a7a237682fe4355920fc1765ae7f5fb",
      "0370778735844f41bffb618ed71cf73f",
      "fb7900c34d644d01a36fd3c0f8c06a34",
      "f3f2bcdfde4341878a23d16a8ad8fe7a",
      "643eba4218144e7e8750ea4dcc2c3f0a",
      "87332c5c9c0a4bf2b05ed30ae0cbdc4b",
      "a16f33f90c9f4fae9ddb1932cdeacf7b",
      "0835b8099049402a80cf9569b4286d13",
      "eca3c96e2730455799c391a969233eee",
      "4bdb5425b146498eaf4750f83983b690",
      "243c3671255e4ec399052ee8f06e573e",
      "f07997571bf34117bf904268bca08daa"
     ]
    },
    "id": "hA6ScH-QqtDu",
    "outputId": "0c27c274-8cae-4bde-dcf0-bc288fb727ce"
   },
   "outputs": [
    {
     "data": {
      "application/vnd.jupyter.widget-view+json": {
       "model_id": "44c0feea8bb64400a7bba2bbccef2d35",
       "version_major": 2,
       "version_minor": 0
      },
      "text/plain": [
       "  0%|          | 0/161 [00:00<?, ?it/s]"
      ]
     },
     "metadata": {},
     "output_type": "display_data"
    },
    {
     "name": "stdout",
     "output_type": "stream",
     "text": [
      "0.11134873141833242\n",
      "0.07781367541783567\n"
     ]
    },
    {
     "data": {
      "application/vnd.jupyter.widget-view+json": {
       "model_id": "0370778735844f41bffb618ed71cf73f",
       "version_major": 2,
       "version_minor": 0
      },
      "text/plain": [
       "  0%|          | 0/20 [00:00<?, ?it/s]"
      ]
     },
     "metadata": {},
     "output_type": "display_data"
    },
    {
     "name": "stdout",
     "output_type": "stream",
     "text": [
      "0.07145442160646337\n",
      "0.048372951778578074\n",
      "CPU times: user 9min 6s, sys: 33 s, total: 9min 39s\n",
      "Wall time: 9min 18s\n"
     ]
    },
    {
     "data": {
      "text/html": [
       "\n",
       "  <div id=\"df-2e333be2-c3fa-4d94-acf2-2d32f8e16813\">\n",
       "    <div class=\"colab-df-container\">\n",
       "      <div>\n",
       "<style scoped>\n",
       "    .dataframe tbody tr th:only-of-type {\n",
       "        vertical-align: middle;\n",
       "    }\n",
       "\n",
       "    .dataframe tbody tr th {\n",
       "        vertical-align: top;\n",
       "    }\n",
       "\n",
       "    .dataframe thead th {\n",
       "        text-align: right;\n",
       "    }\n",
       "</style>\n",
       "<table border=\"1\" class=\"dataframe\">\n",
       "  <thead>\n",
       "    <tr style=\"text-align: right;\">\n",
       "      <th></th>\n",
       "      <th>model</th>\n",
       "      <th>MRR</th>\n",
       "      <th>NDCG</th>\n",
       "    </tr>\n",
       "  </thead>\n",
       "  <tbody>\n",
       "    <tr>\n",
       "      <th>3</th>\n",
       "      <td>cosine</td>\n",
       "      <td>0.071454</td>\n",
       "      <td>0.048373</td>\n",
       "    </tr>\n",
       "    <tr>\n",
       "      <th>2</th>\n",
       "      <td>cosine</td>\n",
       "      <td>0.071454</td>\n",
       "      <td>0.048373</td>\n",
       "    </tr>\n",
       "    <tr>\n",
       "      <th>1</th>\n",
       "      <td>ALS</td>\n",
       "      <td>0.071454</td>\n",
       "      <td>0.048373</td>\n",
       "    </tr>\n",
       "    <tr>\n",
       "      <th>0</th>\n",
       "      <td>ALS</td>\n",
       "      <td>0.000000</td>\n",
       "      <td>0.048373</td>\n",
       "    </tr>\n",
       "  </tbody>\n",
       "</table>\n",
       "</div>\n",
       "      <button class=\"colab-df-convert\" onclick=\"convertToInteractive('df-2e333be2-c3fa-4d94-acf2-2d32f8e16813')\"\n",
       "              title=\"Convert this dataframe to an interactive table.\"\n",
       "              style=\"display:none;\">\n",
       "        \n",
       "  <svg xmlns=\"http://www.w3.org/2000/svg\" height=\"24px\"viewBox=\"0 0 24 24\"\n",
       "       width=\"24px\">\n",
       "    <path d=\"M0 0h24v24H0V0z\" fill=\"none\"/>\n",
       "    <path d=\"M18.56 5.44l.94 2.06.94-2.06 2.06-.94-2.06-.94-.94-2.06-.94 2.06-2.06.94zm-11 1L8.5 8.5l.94-2.06 2.06-.94-2.06-.94L8.5 2.5l-.94 2.06-2.06.94zm10 10l.94 2.06.94-2.06 2.06-.94-2.06-.94-.94-2.06-.94 2.06-2.06.94z\"/><path d=\"M17.41 7.96l-1.37-1.37c-.4-.4-.92-.59-1.43-.59-.52 0-1.04.2-1.43.59L10.3 9.45l-7.72 7.72c-.78.78-.78 2.05 0 2.83L4 21.41c.39.39.9.59 1.41.59.51 0 1.02-.2 1.41-.59l7.78-7.78 2.81-2.81c.8-.78.8-2.07 0-2.86zM5.41 20L4 18.59l7.72-7.72 1.47 1.35L5.41 20z\"/>\n",
       "  </svg>\n",
       "      </button>\n",
       "      \n",
       "  <style>\n",
       "    .colab-df-container {\n",
       "      display:flex;\n",
       "      flex-wrap:wrap;\n",
       "      gap: 12px;\n",
       "    }\n",
       "\n",
       "    .colab-df-convert {\n",
       "      background-color: #E8F0FE;\n",
       "      border: none;\n",
       "      border-radius: 50%;\n",
       "      cursor: pointer;\n",
       "      display: none;\n",
       "      fill: #1967D2;\n",
       "      height: 32px;\n",
       "      padding: 0 0 0 0;\n",
       "      width: 32px;\n",
       "    }\n",
       "\n",
       "    .colab-df-convert:hover {\n",
       "      background-color: #E2EBFA;\n",
       "      box-shadow: 0px 1px 2px rgba(60, 64, 67, 0.3), 0px 1px 3px 1px rgba(60, 64, 67, 0.15);\n",
       "      fill: #174EA6;\n",
       "    }\n",
       "\n",
       "    [theme=dark] .colab-df-convert {\n",
       "      background-color: #3B4455;\n",
       "      fill: #D2E3FC;\n",
       "    }\n",
       "\n",
       "    [theme=dark] .colab-df-convert:hover {\n",
       "      background-color: #434B5C;\n",
       "      box-shadow: 0px 1px 3px 1px rgba(0, 0, 0, 0.15);\n",
       "      filter: drop-shadow(0px 1px 2px rgba(0, 0, 0, 0.3));\n",
       "      fill: #FFFFFF;\n",
       "    }\n",
       "  </style>\n",
       "\n",
       "      <script>\n",
       "        const buttonEl =\n",
       "          document.querySelector('#df-2e333be2-c3fa-4d94-acf2-2d32f8e16813 button.colab-df-convert');\n",
       "        buttonEl.style.display =\n",
       "          google.colab.kernel.accessAllowed ? 'block' : 'none';\n",
       "\n",
       "        async function convertToInteractive(key) {\n",
       "          const element = document.querySelector('#df-2e333be2-c3fa-4d94-acf2-2d32f8e16813');\n",
       "          const dataTable =\n",
       "            await google.colab.kernel.invokeFunction('convertToInteractive',\n",
       "                                                     [key], {});\n",
       "          if (!dataTable) return;\n",
       "\n",
       "          const docLinkHtml = 'Like what you see? Visit the ' +\n",
       "            '<a target=\"_blank\" href=https://colab.research.google.com/notebooks/data_table.ipynb>data table notebook</a>'\n",
       "            + ' to learn more about interactive tables.';\n",
       "          element.innerHTML = '';\n",
       "          dataTable['output_type'] = 'display_data';\n",
       "          await google.colab.output.renderOutput(dataTable, element);\n",
       "          const docLink = document.createElement('div');\n",
       "          docLink.innerHTML = docLinkHtml;\n",
       "          element.appendChild(docLink);\n",
       "        }\n",
       "      </script>\n",
       "    </div>\n",
       "  </div>\n",
       "  "
      ],
      "text/plain": [
       "    model       MRR      NDCG\n",
       "3  cosine  0.071454  0.048373\n",
       "2  cosine  0.071454  0.048373\n",
       "1     ALS  0.071454  0.048373\n",
       "0     ALS  0.000000  0.048373"
      ]
     },
     "execution_count": 42,
     "metadata": {},
     "output_type": "execute_result"
    }
   ],
   "source": [
    "%%time\n",
    "\n",
    "compare_models = pd.DataFrame(columns = [\"model\", \"MRR\", \"NDCG\"])\n",
    "\n",
    "\n",
    "for model_name, model in models.items():\n",
    "    rec_df = get_recommenders(model, csr_train, test)\n",
    "    compare_models.loc[-1] = [model_name]+[0]*(compare_models.shape[1]-1)\n",
    "    compare_models.index = compare_models.index + 1\n",
    "\n",
    "    for metric_name, metric in metrics.items():\n",
    "        m = metric(test, rec_df)\n",
    "        compare_models[metric_name] = m\n",
    "        print(m)\n",
    "compare_models"
   ]
  },
  {
   "cell_type": "code",
   "execution_count": null,
   "metadata": {
    "id": "635FBARuqtDu"
   },
   "outputs": [],
   "source": [
    "test.index = test['user'].apply(lambda x: user2ind[x])"
   ]
  },
  {
   "cell_type": "code",
   "execution_count": null,
   "metadata": {
    "id": "h9n1B7UkqtDv"
   },
   "outputs": [],
   "source": [
    "from sklearn.metrics import ndcg_score\n",
    "#ndcg = ndcg_score(test, df_reccom)"
   ]
  },
  {
   "cell_type": "code",
   "execution_count": null,
   "metadata": {
    "id": "iGOYPopKqtDv"
   },
   "outputs": [],
   "source": [
    "df_reccom = df_reccom.explode([\"ticker\", \"similar\"])\n",
    "df_reccom[\"rank\"] = range(df_reccom.shape[0])\n",
    "df_reccom[\"rank\"] = df_reccom[\"rank\"].apply(lambda x: x%10+1)"
   ]
  },
  {
   "cell_type": "code",
   "execution_count": null,
   "metadata": {
    "id": "WqrCTDKmqtDv"
   },
   "outputs": [],
   "source": [
    "MRR(test.reset_index().drop([\"index\"], 1), df_reccom)\n",
    "rank = [1 + list(predict_data['ticker'][user]).index(x) for x in \\\n",
    "        set(predict_data['ticker'][user]).intersection(set(test_data['ticker'][user]))]\n",
    "\n",
    "[1 + list(df_reccom['ticker'][36]).index(x) for x in \\\n",
    "                    set(df_reccom['ticker'][36]).intersection(set(test['ticker'][36]))]"
   ]
  },
  {
   "cell_type": "code",
   "execution_count": null,
   "metadata": {
    "id": "aNKh4WfaqtDv"
   },
   "outputs": [],
   "source": [
    "#(set(test['ticker'].filter(test.user_id == 4)))\n",
    "for i in range(0, 100):\n",
    "    s = set(df_reccom['ticker'][i]).intersection(test.loc[test.user_id == i][\"ticker\"])\n",
    "    if len(s)!=0:\n",
    "        print(i, s)"
   ]
  },
  {
   "cell_type": "code",
   "execution_count": null,
   "metadata": {
    "id": "5xwwfAf3qtDv"
   },
   "outputs": [],
   "source": [
    "set(df_reccom['ticker'][36]).intersection(set(test['ticker'][36]))"
   ]
  },
  {
   "cell_type": "code",
   "execution_count": null,
   "metadata": {
    "id": "476dRJCBqtDv"
   },
   "outputs": [],
   "source": [
    "set(test['ticker'][36])"
   ]
  },
  {
   "cell_type": "code",
   "execution_count": null,
   "metadata": {
    "id": "iT5yIxFlqtDv"
   },
   "outputs": [],
   "source": [
    "df_reccom"
   ]
  },
  {
   "cell_type": "code",
   "execution_count": null,
   "metadata": {
    "id": "j_LoR7xFqtDv"
   },
   "outputs": [],
   "source": [
    "test"
   ]
  },
  {
   "cell_type": "code",
   "execution_count": null,
   "metadata": {
    "id": "PwCEiPxJqtDv"
   },
   "outputs": [],
   "source": [
    "test = test.reset_index().drop([\"index\"], 1)\n",
    "test.index = test['user'].apply(lambda x: user2ind[x])\n",
    "test"
   ]
  },
  {
   "cell_type": "code",
   "execution_count": null,
   "metadata": {
    "id": "0tj74wkcqtDw"
   },
   "outputs": [],
   "source": [
    "df_reccom.index"
   ]
  },
  {
   "cell_type": "code",
   "execution_count": null,
   "metadata": {
    "id": "u9zL2GydqtDw"
   },
   "outputs": [],
   "source": [
    "rank = [1 + list(df_reccom['ticker'][df_reccom.user_id == 6]).index(x) for x in \\\n",
    "        set(df_reccom['ticker'][df_reccom.user_id == 6]).intersection(set(test['ticker'][df_reccom.user_id == 6]))]"
   ]
  },
  {
   "cell_type": "code",
   "execution_count": null,
   "metadata": {
    "id": "eY1JH2hxqtDw"
   },
   "outputs": [],
   "source": [
    "%%time\n",
    "print(NDCG(test, df_reccom))"
   ]
  },
  {
   "cell_type": "code",
   "execution_count": null,
   "metadata": {
    "id": "7Ch2QR0_qtDw"
   },
   "outputs": [],
   "source": [
    "k = [1, 2, 3]\n",
    "b = [4, 5, 6]\n",
    "c = [7, 8, 9]\n",
    "\n",
    "for (i, d, f) in zip(k, b, c):\n",
    "    print(i, d, f)"
   ]
  },
  {
   "cell_type": "code",
   "execution_count": null,
   "metadata": {
    "id": "pHQKcZyvqtDw"
   },
   "outputs": [],
   "source": []
  }
 ],
 "metadata": {
  "colab": {
   "provenance": []
  },
  "kernelspec": {
   "display_name": "Python 3 (ipykernel)",
   "language": "python",
   "name": "python3"
  },
  "language_info": {
   "codemirror_mode": {
    "name": "ipython",
    "version": 3
   },
   "file_extension": ".py",
   "mimetype": "text/x-python",
   "name": "python",
   "nbconvert_exporter": "python",
   "pygments_lexer": "ipython3",
   "version": "3.9.7"
  },
  "widgets": {
   "application/vnd.jupyter.widget-state+json": {
    "01a79bf9c879474792ad01057a50c34f": {
     "model_module": "@jupyter-widgets/controls",
     "model_module_version": "1.5.0",
     "model_name": "HBoxModel",
     "state": {
      "_dom_classes": [],
      "_model_module": "@jupyter-widgets/controls",
      "_model_module_version": "1.5.0",
      "_model_name": "HBoxModel",
      "_view_count": null,
      "_view_module": "@jupyter-widgets/controls",
      "_view_module_version": "1.5.0",
      "_view_name": "HBoxView",
      "box_style": "",
      "children": [
       "IPY_MODEL_2785414fd09c4ae4b9995c1fc7efc0ae",
       "IPY_MODEL_c78aefc7d10b472cb256e54d7f69a3d2",
       "IPY_MODEL_c15f465a33c74aa59eff03d0948c6a15"
      ],
      "layout": "IPY_MODEL_9927a14336854ad2818aa6acad98cf64"
     }
    },
    "0370778735844f41bffb618ed71cf73f": {
     "model_module": "@jupyter-widgets/controls",
     "model_module_version": "1.5.0",
     "model_name": "HBoxModel",
     "state": {
      "_dom_classes": [],
      "_model_module": "@jupyter-widgets/controls",
      "_model_module_version": "1.5.0",
      "_model_name": "HBoxModel",
      "_view_count": null,
      "_view_module": "@jupyter-widgets/controls",
      "_view_module_version": "1.5.0",
      "_view_name": "HBoxView",
      "box_style": "",
      "children": [
       "IPY_MODEL_fb7900c34d644d01a36fd3c0f8c06a34",
       "IPY_MODEL_f3f2bcdfde4341878a23d16a8ad8fe7a",
       "IPY_MODEL_643eba4218144e7e8750ea4dcc2c3f0a"
      ],
      "layout": "IPY_MODEL_87332c5c9c0a4bf2b05ed30ae0cbdc4b"
     }
    },
    "07886b5040ca466386bf0fae99dced50": {
     "model_module": "@jupyter-widgets/controls",
     "model_module_version": "1.5.0",
     "model_name": "ProgressStyleModel",
     "state": {
      "_model_module": "@jupyter-widgets/controls",
      "_model_module_version": "1.5.0",
      "_model_name": "ProgressStyleModel",
      "_view_count": null,
      "_view_module": "@jupyter-widgets/base",
      "_view_module_version": "1.2.0",
      "_view_name": "StyleView",
      "bar_color": null,
      "description_width": ""
     }
    },
    "0835b8099049402a80cf9569b4286d13": {
     "model_module": "@jupyter-widgets/controls",
     "model_module_version": "1.5.0",
     "model_name": "DescriptionStyleModel",
     "state": {
      "_model_module": "@jupyter-widgets/controls",
      "_model_module_version": "1.5.0",
      "_model_name": "DescriptionStyleModel",
      "_view_count": null,
      "_view_module": "@jupyter-widgets/base",
      "_view_module_version": "1.2.0",
      "_view_name": "StyleView",
      "description_width": ""
     }
    },
    "08deb4ec940d405d9a438b05b2494938": {
     "model_module": "@jupyter-widgets/controls",
     "model_module_version": "1.5.0",
     "model_name": "HBoxModel",
     "state": {
      "_dom_classes": [],
      "_model_module": "@jupyter-widgets/controls",
      "_model_module_version": "1.5.0",
      "_model_name": "HBoxModel",
      "_view_count": null,
      "_view_module": "@jupyter-widgets/controls",
      "_view_module_version": "1.5.0",
      "_view_name": "HBoxView",
      "box_style": "",
      "children": [
       "IPY_MODEL_a9f1961c8c0a45699ba26a5540201a91",
       "IPY_MODEL_6b69472b4e4f4446a4525d9a87bec3e4",
       "IPY_MODEL_7f29f9cacc75422982d7aa7a9407a2c8"
      ],
      "layout": "IPY_MODEL_91d16c1c1cb641309b3cb6bb1d99cdb7"
     }
    },
    "0fd6897ac9564864947e2fd55b456499": {
     "model_module": "@jupyter-widgets/controls",
     "model_module_version": "1.5.0",
     "model_name": "FloatProgressModel",
     "state": {
      "_dom_classes": [],
      "_model_module": "@jupyter-widgets/controls",
      "_model_module_version": "1.5.0",
      "_model_name": "FloatProgressModel",
      "_view_count": null,
      "_view_module": "@jupyter-widgets/controls",
      "_view_module_version": "1.5.0",
      "_view_name": "ProgressView",
      "bar_style": "success",
      "description": "",
      "description_tooltip": null,
      "layout": "IPY_MODEL_7565e7300215423fbf27d1e93d786212",
      "max": 161,
      "min": 0,
      "orientation": "horizontal",
      "style": "IPY_MODEL_9e9740a0a9c74285a68f63dd85e5973e",
      "value": 161
     }
    },
    "156fddc49566498fb1e3d42515b2f9f3": {
     "model_module": "@jupyter-widgets/controls",
     "model_module_version": "1.5.0",
     "model_name": "HTMLModel",
     "state": {
      "_dom_classes": [],
      "_model_module": "@jupyter-widgets/controls",
      "_model_module_version": "1.5.0",
      "_model_name": "HTMLModel",
      "_view_count": null,
      "_view_module": "@jupyter-widgets/controls",
      "_view_module_version": "1.5.0",
      "_view_name": "HTMLView",
      "description": "",
      "description_tooltip": null,
      "layout": "IPY_MODEL_983d67d40c394420b91a641c33ab41bd",
      "placeholder": "​",
      "style": "IPY_MODEL_9a7a237682fe4355920fc1765ae7f5fb",
      "value": " 161/161 [00:00&lt;00:00, 5129.19it/s]"
     }
    },
    "15dc5ef5497c449d926c1dca1b382fc5": {
     "model_module": "@jupyter-widgets/base",
     "model_module_version": "1.2.0",
     "model_name": "LayoutModel",
     "state": {
      "_model_module": "@jupyter-widgets/base",
      "_model_module_version": "1.2.0",
      "_model_name": "LayoutModel",
      "_view_count": null,
      "_view_module": "@jupyter-widgets/base",
      "_view_module_version": "1.2.0",
      "_view_name": "LayoutView",
      "align_content": null,
      "align_items": null,
      "align_self": null,
      "border": null,
      "bottom": null,
      "display": null,
      "flex": null,
      "flex_flow": null,
      "grid_area": null,
      "grid_auto_columns": null,
      "grid_auto_flow": null,
      "grid_auto_rows": null,
      "grid_column": null,
      "grid_gap": null,
      "grid_row": null,
      "grid_template_areas": null,
      "grid_template_columns": null,
      "grid_template_rows": null,
      "height": null,
      "justify_content": null,
      "justify_items": null,
      "left": null,
      "margin": null,
      "max_height": null,
      "max_width": null,
      "min_height": null,
      "min_width": null,
      "object_fit": null,
      "object_position": null,
      "order": null,
      "overflow": null,
      "overflow_x": null,
      "overflow_y": null,
      "padding": null,
      "right": null,
      "top": null,
      "visibility": null,
      "width": null
     }
    },
    "1948d18964dd45099cbacb5455e8898d": {
     "model_module": "@jupyter-widgets/base",
     "model_module_version": "1.2.0",
     "model_name": "LayoutModel",
     "state": {
      "_model_module": "@jupyter-widgets/base",
      "_model_module_version": "1.2.0",
      "_model_name": "LayoutModel",
      "_view_count": null,
      "_view_module": "@jupyter-widgets/base",
      "_view_module_version": "1.2.0",
      "_view_name": "LayoutView",
      "align_content": null,
      "align_items": null,
      "align_self": null,
      "border": null,
      "bottom": null,
      "display": null,
      "flex": null,
      "flex_flow": null,
      "grid_area": null,
      "grid_auto_columns": null,
      "grid_auto_flow": null,
      "grid_auto_rows": null,
      "grid_column": null,
      "grid_gap": null,
      "grid_row": null,
      "grid_template_areas": null,
      "grid_template_columns": null,
      "grid_template_rows": null,
      "height": null,
      "justify_content": null,
      "justify_items": null,
      "left": null,
      "margin": null,
      "max_height": null,
      "max_width": null,
      "min_height": null,
      "min_width": null,
      "object_fit": null,
      "object_position": null,
      "order": null,
      "overflow": null,
      "overflow_x": null,
      "overflow_y": null,
      "padding": null,
      "right": null,
      "top": null,
      "visibility": null,
      "width": null
     }
    },
    "1aab63c0a29946dd9a0abcf9809d3aac": {
     "model_module": "@jupyter-widgets/controls",
     "model_module_version": "1.5.0",
     "model_name": "HTMLModel",
     "state": {
      "_dom_classes": [],
      "_model_module": "@jupyter-widgets/controls",
      "_model_module_version": "1.5.0",
      "_model_name": "HTMLModel",
      "_view_count": null,
      "_view_module": "@jupyter-widgets/controls",
      "_view_module_version": "1.5.0",
      "_view_name": "HTMLView",
      "description": "",
      "description_tooltip": null,
      "layout": "IPY_MODEL_8f92091b78294b5fa78c3c8e02744ccf",
      "placeholder": "​",
      "style": "IPY_MODEL_b79c4aedab294dfc8b6f5d9ff10ab945",
      "value": "100%"
     }
    },
    "243c3671255e4ec399052ee8f06e573e": {
     "model_module": "@jupyter-widgets/base",
     "model_module_version": "1.2.0",
     "model_name": "LayoutModel",
     "state": {
      "_model_module": "@jupyter-widgets/base",
      "_model_module_version": "1.2.0",
      "_model_name": "LayoutModel",
      "_view_count": null,
      "_view_module": "@jupyter-widgets/base",
      "_view_module_version": "1.2.0",
      "_view_name": "LayoutView",
      "align_content": null,
      "align_items": null,
      "align_self": null,
      "border": null,
      "bottom": null,
      "display": null,
      "flex": null,
      "flex_flow": null,
      "grid_area": null,
      "grid_auto_columns": null,
      "grid_auto_flow": null,
      "grid_auto_rows": null,
      "grid_column": null,
      "grid_gap": null,
      "grid_row": null,
      "grid_template_areas": null,
      "grid_template_columns": null,
      "grid_template_rows": null,
      "height": null,
      "justify_content": null,
      "justify_items": null,
      "left": null,
      "margin": null,
      "max_height": null,
      "max_width": null,
      "min_height": null,
      "min_width": null,
      "object_fit": null,
      "object_position": null,
      "order": null,
      "overflow": null,
      "overflow_x": null,
      "overflow_y": null,
      "padding": null,
      "right": null,
      "top": null,
      "visibility": null,
      "width": null
     }
    },
    "2570342c7a684c21bb4b13b689549b51": {
     "model_module": "@jupyter-widgets/controls",
     "model_module_version": "1.5.0",
     "model_name": "FloatProgressModel",
     "state": {
      "_dom_classes": [],
      "_model_module": "@jupyter-widgets/controls",
      "_model_module_version": "1.5.0",
      "_model_name": "FloatProgressModel",
      "_view_count": null,
      "_view_module": "@jupyter-widgets/controls",
      "_view_module_version": "1.5.0",
      "_view_name": "ProgressView",
      "bar_style": "success",
      "description": "",
      "description_tooltip": null,
      "layout": "IPY_MODEL_1948d18964dd45099cbacb5455e8898d",
      "max": 161,
      "min": 0,
      "orientation": "horizontal",
      "style": "IPY_MODEL_eb052ddaf63c48ad9e5730e338a5dc99",
      "value": 161
     }
    },
    "2785414fd09c4ae4b9995c1fc7efc0ae": {
     "model_module": "@jupyter-widgets/controls",
     "model_module_version": "1.5.0",
     "model_name": "HTMLModel",
     "state": {
      "_dom_classes": [],
      "_model_module": "@jupyter-widgets/controls",
      "_model_module_version": "1.5.0",
      "_model_name": "HTMLModel",
      "_view_count": null,
      "_view_module": "@jupyter-widgets/controls",
      "_view_module_version": "1.5.0",
      "_view_name": "HTMLView",
      "description": "",
      "description_tooltip": null,
      "layout": "IPY_MODEL_57e5a947ee6d457ab4345de726512492",
      "placeholder": "​",
      "style": "IPY_MODEL_5e2fce25ebdf4170b0cde5f0b7241741",
      "value": "100%"
     }
    },
    "27d42576f440409782af1603037a19a7": {
     "model_module": "@jupyter-widgets/controls",
     "model_module_version": "1.5.0",
     "model_name": "DescriptionStyleModel",
     "state": {
      "_model_module": "@jupyter-widgets/controls",
      "_model_module_version": "1.5.0",
      "_model_name": "DescriptionStyleModel",
      "_view_count": null,
      "_view_module": "@jupyter-widgets/base",
      "_view_module_version": "1.2.0",
      "_view_name": "StyleView",
      "description_width": ""
     }
    },
    "29dcb203e1f544598d01070c3aa94315": {
     "model_module": "@jupyter-widgets/controls",
     "model_module_version": "1.5.0",
     "model_name": "HTMLModel",
     "state": {
      "_dom_classes": [],
      "_model_module": "@jupyter-widgets/controls",
      "_model_module_version": "1.5.0",
      "_model_name": "HTMLModel",
      "_view_count": null,
      "_view_module": "@jupyter-widgets/controls",
      "_view_module_version": "1.5.0",
      "_view_name": "HTMLView",
      "description": "",
      "description_tooltip": null,
      "layout": "IPY_MODEL_15dc5ef5497c449d926c1dca1b382fc5",
      "placeholder": "​",
      "style": "IPY_MODEL_804eb8eabfc94afab170a8d86680d996",
      "value": "100%"
     }
    },
    "3d2c94416ad54fe09b72b2634be724cf": {
     "model_module": "@jupyter-widgets/base",
     "model_module_version": "1.2.0",
     "model_name": "LayoutModel",
     "state": {
      "_model_module": "@jupyter-widgets/base",
      "_model_module_version": "1.2.0",
      "_model_name": "LayoutModel",
      "_view_count": null,
      "_view_module": "@jupyter-widgets/base",
      "_view_module_version": "1.2.0",
      "_view_name": "LayoutView",
      "align_content": null,
      "align_items": null,
      "align_self": null,
      "border": null,
      "bottom": null,
      "display": null,
      "flex": null,
      "flex_flow": null,
      "grid_area": null,
      "grid_auto_columns": null,
      "grid_auto_flow": null,
      "grid_auto_rows": null,
      "grid_column": null,
      "grid_gap": null,
      "grid_row": null,
      "grid_template_areas": null,
      "grid_template_columns": null,
      "grid_template_rows": null,
      "height": null,
      "justify_content": null,
      "justify_items": null,
      "left": null,
      "margin": null,
      "max_height": null,
      "max_width": null,
      "min_height": null,
      "min_width": null,
      "object_fit": null,
      "object_position": null,
      "order": null,
      "overflow": null,
      "overflow_x": null,
      "overflow_y": null,
      "padding": null,
      "right": null,
      "top": null,
      "visibility": null,
      "width": null
     }
    },
    "3fedd1bb2d7b4322b64f0dd117faac67": {
     "model_module": "@jupyter-widgets/controls",
     "model_module_version": "1.5.0",
     "model_name": "DescriptionStyleModel",
     "state": {
      "_model_module": "@jupyter-widgets/controls",
      "_model_module_version": "1.5.0",
      "_model_name": "DescriptionStyleModel",
      "_view_count": null,
      "_view_module": "@jupyter-widgets/base",
      "_view_module_version": "1.2.0",
      "_view_name": "StyleView",
      "description_width": ""
     }
    },
    "428a72d14a304d67b8b09ff7a3b20b19": {
     "model_module": "@jupyter-widgets/base",
     "model_module_version": "1.2.0",
     "model_name": "LayoutModel",
     "state": {
      "_model_module": "@jupyter-widgets/base",
      "_model_module_version": "1.2.0",
      "_model_name": "LayoutModel",
      "_view_count": null,
      "_view_module": "@jupyter-widgets/base",
      "_view_module_version": "1.2.0",
      "_view_name": "LayoutView",
      "align_content": null,
      "align_items": null,
      "align_self": null,
      "border": null,
      "bottom": null,
      "display": null,
      "flex": null,
      "flex_flow": null,
      "grid_area": null,
      "grid_auto_columns": null,
      "grid_auto_flow": null,
      "grid_auto_rows": null,
      "grid_column": null,
      "grid_gap": null,
      "grid_row": null,
      "grid_template_areas": null,
      "grid_template_columns": null,
      "grid_template_rows": null,
      "height": null,
      "justify_content": null,
      "justify_items": null,
      "left": null,
      "margin": null,
      "max_height": null,
      "max_width": null,
      "min_height": null,
      "min_width": null,
      "object_fit": null,
      "object_position": null,
      "order": null,
      "overflow": null,
      "overflow_x": null,
      "overflow_y": null,
      "padding": null,
      "right": null,
      "top": null,
      "visibility": null,
      "width": null
     }
    },
    "4390baa65d3541479e631bed21e2d5ec": {
     "model_module": "@jupyter-widgets/base",
     "model_module_version": "1.2.0",
     "model_name": "LayoutModel",
     "state": {
      "_model_module": "@jupyter-widgets/base",
      "_model_module_version": "1.2.0",
      "_model_name": "LayoutModel",
      "_view_count": null,
      "_view_module": "@jupyter-widgets/base",
      "_view_module_version": "1.2.0",
      "_view_name": "LayoutView",
      "align_content": null,
      "align_items": null,
      "align_self": null,
      "border": null,
      "bottom": null,
      "display": null,
      "flex": null,
      "flex_flow": null,
      "grid_area": null,
      "grid_auto_columns": null,
      "grid_auto_flow": null,
      "grid_auto_rows": null,
      "grid_column": null,
      "grid_gap": null,
      "grid_row": null,
      "grid_template_areas": null,
      "grid_template_columns": null,
      "grid_template_rows": null,
      "height": null,
      "justify_content": null,
      "justify_items": null,
      "left": null,
      "margin": null,
      "max_height": null,
      "max_width": null,
      "min_height": null,
      "min_width": null,
      "object_fit": null,
      "object_position": null,
      "order": null,
      "overflow": null,
      "overflow_x": null,
      "overflow_y": null,
      "padding": null,
      "right": null,
      "top": null,
      "visibility": null,
      "width": null
     }
    },
    "43d43e0bfbe9420fb531e329301d2f21": {
     "model_module": "@jupyter-widgets/base",
     "model_module_version": "1.2.0",
     "model_name": "LayoutModel",
     "state": {
      "_model_module": "@jupyter-widgets/base",
      "_model_module_version": "1.2.0",
      "_model_name": "LayoutModel",
      "_view_count": null,
      "_view_module": "@jupyter-widgets/base",
      "_view_module_version": "1.2.0",
      "_view_name": "LayoutView",
      "align_content": null,
      "align_items": null,
      "align_self": null,
      "border": null,
      "bottom": null,
      "display": null,
      "flex": null,
      "flex_flow": null,
      "grid_area": null,
      "grid_auto_columns": null,
      "grid_auto_flow": null,
      "grid_auto_rows": null,
      "grid_column": null,
      "grid_gap": null,
      "grid_row": null,
      "grid_template_areas": null,
      "grid_template_columns": null,
      "grid_template_rows": null,
      "height": null,
      "justify_content": null,
      "justify_items": null,
      "left": null,
      "margin": null,
      "max_height": null,
      "max_width": null,
      "min_height": null,
      "min_width": null,
      "object_fit": null,
      "object_position": null,
      "order": null,
      "overflow": null,
      "overflow_x": null,
      "overflow_y": null,
      "padding": null,
      "right": null,
      "top": null,
      "visibility": null,
      "width": null
     }
    },
    "44c0feea8bb64400a7bba2bbccef2d35": {
     "model_module": "@jupyter-widgets/controls",
     "model_module_version": "1.5.0",
     "model_name": "HBoxModel",
     "state": {
      "_dom_classes": [],
      "_model_module": "@jupyter-widgets/controls",
      "_model_module_version": "1.5.0",
      "_model_name": "HBoxModel",
      "_view_count": null,
      "_view_module": "@jupyter-widgets/controls",
      "_view_module_version": "1.5.0",
      "_view_name": "HBoxView",
      "box_style": "",
      "children": [
       "IPY_MODEL_1aab63c0a29946dd9a0abcf9809d3aac",
       "IPY_MODEL_0fd6897ac9564864947e2fd55b456499",
       "IPY_MODEL_156fddc49566498fb1e3d42515b2f9f3"
      ],
      "layout": "IPY_MODEL_4d65f99d9eb140508461ceae5e5b8a5a"
     }
    },
    "4bdb5425b146498eaf4750f83983b690": {
     "model_module": "@jupyter-widgets/controls",
     "model_module_version": "1.5.0",
     "model_name": "ProgressStyleModel",
     "state": {
      "_model_module": "@jupyter-widgets/controls",
      "_model_module_version": "1.5.0",
      "_model_name": "ProgressStyleModel",
      "_view_count": null,
      "_view_module": "@jupyter-widgets/base",
      "_view_module_version": "1.2.0",
      "_view_name": "StyleView",
      "bar_color": null,
      "description_width": ""
     }
    },
    "4d65f99d9eb140508461ceae5e5b8a5a": {
     "model_module": "@jupyter-widgets/base",
     "model_module_version": "1.2.0",
     "model_name": "LayoutModel",
     "state": {
      "_model_module": "@jupyter-widgets/base",
      "_model_module_version": "1.2.0",
      "_model_name": "LayoutModel",
      "_view_count": null,
      "_view_module": "@jupyter-widgets/base",
      "_view_module_version": "1.2.0",
      "_view_name": "LayoutView",
      "align_content": null,
      "align_items": null,
      "align_self": null,
      "border": null,
      "bottom": null,
      "display": null,
      "flex": null,
      "flex_flow": null,
      "grid_area": null,
      "grid_auto_columns": null,
      "grid_auto_flow": null,
      "grid_auto_rows": null,
      "grid_column": null,
      "grid_gap": null,
      "grid_row": null,
      "grid_template_areas": null,
      "grid_template_columns": null,
      "grid_template_rows": null,
      "height": null,
      "justify_content": null,
      "justify_items": null,
      "left": null,
      "margin": null,
      "max_height": null,
      "max_width": null,
      "min_height": null,
      "min_width": null,
      "object_fit": null,
      "object_position": null,
      "order": null,
      "overflow": null,
      "overflow_x": null,
      "overflow_y": null,
      "padding": null,
      "right": null,
      "top": null,
      "visibility": null,
      "width": null
     }
    },
    "4eed15f3a9854e848adf30ed90441d3b": {
     "model_module": "@jupyter-widgets/base",
     "model_module_version": "1.2.0",
     "model_name": "LayoutModel",
     "state": {
      "_model_module": "@jupyter-widgets/base",
      "_model_module_version": "1.2.0",
      "_model_name": "LayoutModel",
      "_view_count": null,
      "_view_module": "@jupyter-widgets/base",
      "_view_module_version": "1.2.0",
      "_view_name": "LayoutView",
      "align_content": null,
      "align_items": null,
      "align_self": null,
      "border": null,
      "bottom": null,
      "display": null,
      "flex": null,
      "flex_flow": null,
      "grid_area": null,
      "grid_auto_columns": null,
      "grid_auto_flow": null,
      "grid_auto_rows": null,
      "grid_column": null,
      "grid_gap": null,
      "grid_row": null,
      "grid_template_areas": null,
      "grid_template_columns": null,
      "grid_template_rows": null,
      "height": null,
      "justify_content": null,
      "justify_items": null,
      "left": null,
      "margin": null,
      "max_height": null,
      "max_width": null,
      "min_height": null,
      "min_width": null,
      "object_fit": null,
      "object_position": null,
      "order": null,
      "overflow": null,
      "overflow_x": null,
      "overflow_y": null,
      "padding": null,
      "right": null,
      "top": null,
      "visibility": null,
      "width": null
     }
    },
    "5096050d6a9c4bf380702bf61172e6a4": {
     "model_module": "@jupyter-widgets/base",
     "model_module_version": "1.2.0",
     "model_name": "LayoutModel",
     "state": {
      "_model_module": "@jupyter-widgets/base",
      "_model_module_version": "1.2.0",
      "_model_name": "LayoutModel",
      "_view_count": null,
      "_view_module": "@jupyter-widgets/base",
      "_view_module_version": "1.2.0",
      "_view_name": "LayoutView",
      "align_content": null,
      "align_items": null,
      "align_self": null,
      "border": null,
      "bottom": null,
      "display": null,
      "flex": null,
      "flex_flow": null,
      "grid_area": null,
      "grid_auto_columns": null,
      "grid_auto_flow": null,
      "grid_auto_rows": null,
      "grid_column": null,
      "grid_gap": null,
      "grid_row": null,
      "grid_template_areas": null,
      "grid_template_columns": null,
      "grid_template_rows": null,
      "height": null,
      "justify_content": null,
      "justify_items": null,
      "left": null,
      "margin": null,
      "max_height": null,
      "max_width": null,
      "min_height": null,
      "min_width": null,
      "object_fit": null,
      "object_position": null,
      "order": null,
      "overflow": null,
      "overflow_x": null,
      "overflow_y": null,
      "padding": null,
      "right": null,
      "top": null,
      "visibility": null,
      "width": null
     }
    },
    "50fcefe635b946e985e0dc5dc60c202f": {
     "model_module": "@jupyter-widgets/controls",
     "model_module_version": "1.5.0",
     "model_name": "HBoxModel",
     "state": {
      "_dom_classes": [],
      "_model_module": "@jupyter-widgets/controls",
      "_model_module_version": "1.5.0",
      "_model_name": "HBoxModel",
      "_view_count": null,
      "_view_module": "@jupyter-widgets/controls",
      "_view_module_version": "1.5.0",
      "_view_name": "HBoxView",
      "box_style": "",
      "children": [
       "IPY_MODEL_720ba20e1ddc4a53a500bd92eeac42ac",
       "IPY_MODEL_7d45632bed504f6e8c23afbde16eb901",
       "IPY_MODEL_ccf142dbf5724d119a8f5c88f3c2ba33"
      ],
      "layout": "IPY_MODEL_fab8b32d90994951b1b69699fedb1a2e"
     }
    },
    "569c474e27ed4a7eb02471dd4f62092c": {
     "model_module": "@jupyter-widgets/controls",
     "model_module_version": "1.5.0",
     "model_name": "DescriptionStyleModel",
     "state": {
      "_model_module": "@jupyter-widgets/controls",
      "_model_module_version": "1.5.0",
      "_model_name": "DescriptionStyleModel",
      "_view_count": null,
      "_view_module": "@jupyter-widgets/base",
      "_view_module_version": "1.2.0",
      "_view_name": "StyleView",
      "description_width": ""
     }
    },
    "57e5a947ee6d457ab4345de726512492": {
     "model_module": "@jupyter-widgets/base",
     "model_module_version": "1.2.0",
     "model_name": "LayoutModel",
     "state": {
      "_model_module": "@jupyter-widgets/base",
      "_model_module_version": "1.2.0",
      "_model_name": "LayoutModel",
      "_view_count": null,
      "_view_module": "@jupyter-widgets/base",
      "_view_module_version": "1.2.0",
      "_view_name": "LayoutView",
      "align_content": null,
      "align_items": null,
      "align_self": null,
      "border": null,
      "bottom": null,
      "display": null,
      "flex": null,
      "flex_flow": null,
      "grid_area": null,
      "grid_auto_columns": null,
      "grid_auto_flow": null,
      "grid_auto_rows": null,
      "grid_column": null,
      "grid_gap": null,
      "grid_row": null,
      "grid_template_areas": null,
      "grid_template_columns": null,
      "grid_template_rows": null,
      "height": null,
      "justify_content": null,
      "justify_items": null,
      "left": null,
      "margin": null,
      "max_height": null,
      "max_width": null,
      "min_height": null,
      "min_width": null,
      "object_fit": null,
      "object_position": null,
      "order": null,
      "overflow": null,
      "overflow_x": null,
      "overflow_y": null,
      "padding": null,
      "right": null,
      "top": null,
      "visibility": null,
      "width": null
     }
    },
    "5e2fce25ebdf4170b0cde5f0b7241741": {
     "model_module": "@jupyter-widgets/controls",
     "model_module_version": "1.5.0",
     "model_name": "DescriptionStyleModel",
     "state": {
      "_model_module": "@jupyter-widgets/controls",
      "_model_module_version": "1.5.0",
      "_model_name": "DescriptionStyleModel",
      "_view_count": null,
      "_view_module": "@jupyter-widgets/base",
      "_view_module_version": "1.2.0",
      "_view_name": "StyleView",
      "description_width": ""
     }
    },
    "643eba4218144e7e8750ea4dcc2c3f0a": {
     "model_module": "@jupyter-widgets/controls",
     "model_module_version": "1.5.0",
     "model_name": "HTMLModel",
     "state": {
      "_dom_classes": [],
      "_model_module": "@jupyter-widgets/controls",
      "_model_module_version": "1.5.0",
      "_model_name": "HTMLModel",
      "_view_count": null,
      "_view_module": "@jupyter-widgets/controls",
      "_view_module_version": "1.5.0",
      "_view_name": "HTMLView",
      "description": "",
      "description_tooltip": null,
      "layout": "IPY_MODEL_243c3671255e4ec399052ee8f06e573e",
      "placeholder": "​",
      "style": "IPY_MODEL_f07997571bf34117bf904268bca08daa",
      "value": " 20/20 [00:34&lt;00:00,  1.76s/it]"
     }
    },
    "66c12759f2ab4447a892d1e1309ada4d": {
     "model_module": "@jupyter-widgets/controls",
     "model_module_version": "1.5.0",
     "model_name": "HTMLModel",
     "state": {
      "_dom_classes": [],
      "_model_module": "@jupyter-widgets/controls",
      "_model_module_version": "1.5.0",
      "_model_name": "HTMLModel",
      "_view_count": null,
      "_view_module": "@jupyter-widgets/controls",
      "_view_module_version": "1.5.0",
      "_view_name": "HTMLView",
      "description": "",
      "description_tooltip": null,
      "layout": "IPY_MODEL_fe2ca3ea2b214c7b880a5103f2eedd11",
      "placeholder": "​",
      "style": "IPY_MODEL_8435241c760b4fd3b0043130a3dd9bf0",
      "value": " 161/161 [00:00&lt;00:00, 3086.25it/s]"
     }
    },
    "6b69472b4e4f4446a4525d9a87bec3e4": {
     "model_module": "@jupyter-widgets/controls",
     "model_module_version": "1.5.0",
     "model_name": "FloatProgressModel",
     "state": {
      "_dom_classes": [],
      "_model_module": "@jupyter-widgets/controls",
      "_model_module_version": "1.5.0",
      "_model_name": "FloatProgressModel",
      "_view_count": null,
      "_view_module": "@jupyter-widgets/controls",
      "_view_module_version": "1.5.0",
      "_view_name": "ProgressView",
      "bar_style": "success",
      "description": "",
      "description_tooltip": null,
      "layout": "IPY_MODEL_43d43e0bfbe9420fb531e329301d2f21",
      "max": 161,
      "min": 0,
      "orientation": "horizontal",
      "style": "IPY_MODEL_07886b5040ca466386bf0fae99dced50",
      "value": 161
     }
    },
    "720ba20e1ddc4a53a500bd92eeac42ac": {
     "model_module": "@jupyter-widgets/controls",
     "model_module_version": "1.5.0",
     "model_name": "HTMLModel",
     "state": {
      "_dom_classes": [],
      "_model_module": "@jupyter-widgets/controls",
      "_model_module_version": "1.5.0",
      "_model_name": "HTMLModel",
      "_view_count": null,
      "_view_module": "@jupyter-widgets/controls",
      "_view_module_version": "1.5.0",
      "_view_name": "HTMLView",
      "description": "",
      "description_tooltip": null,
      "layout": "IPY_MODEL_3d2c94416ad54fe09b72b2634be724cf",
      "placeholder": "​",
      "style": "IPY_MODEL_569c474e27ed4a7eb02471dd4f62092c",
      "value": "100%"
     }
    },
    "7565e7300215423fbf27d1e93d786212": {
     "model_module": "@jupyter-widgets/base",
     "model_module_version": "1.2.0",
     "model_name": "LayoutModel",
     "state": {
      "_model_module": "@jupyter-widgets/base",
      "_model_module_version": "1.2.0",
      "_model_name": "LayoutModel",
      "_view_count": null,
      "_view_module": "@jupyter-widgets/base",
      "_view_module_version": "1.2.0",
      "_view_name": "LayoutView",
      "align_content": null,
      "align_items": null,
      "align_self": null,
      "border": null,
      "bottom": null,
      "display": null,
      "flex": null,
      "flex_flow": null,
      "grid_area": null,
      "grid_auto_columns": null,
      "grid_auto_flow": null,
      "grid_auto_rows": null,
      "grid_column": null,
      "grid_gap": null,
      "grid_row": null,
      "grid_template_areas": null,
      "grid_template_columns": null,
      "grid_template_rows": null,
      "height": null,
      "justify_content": null,
      "justify_items": null,
      "left": null,
      "margin": null,
      "max_height": null,
      "max_width": null,
      "min_height": null,
      "min_width": null,
      "object_fit": null,
      "object_position": null,
      "order": null,
      "overflow": null,
      "overflow_x": null,
      "overflow_y": null,
      "padding": null,
      "right": null,
      "top": null,
      "visibility": null,
      "width": null
     }
    },
    "7d45632bed504f6e8c23afbde16eb901": {
     "model_module": "@jupyter-widgets/controls",
     "model_module_version": "1.5.0",
     "model_name": "FloatProgressModel",
     "state": {
      "_dom_classes": [],
      "_model_module": "@jupyter-widgets/controls",
      "_model_module_version": "1.5.0",
      "_model_name": "FloatProgressModel",
      "_view_count": null,
      "_view_module": "@jupyter-widgets/controls",
      "_view_module_version": "1.5.0",
      "_view_name": "ProgressView",
      "bar_style": "success",
      "description": "",
      "description_tooltip": null,
      "layout": "IPY_MODEL_9b22da18a873467f8bbfb94d124ac819",
      "max": 161,
      "min": 0,
      "orientation": "horizontal",
      "style": "IPY_MODEL_bf035b196b5548e5baf8d414bfa56a61",
      "value": 161
     }
    },
    "7f29f9cacc75422982d7aa7a9407a2c8": {
     "model_module": "@jupyter-widgets/controls",
     "model_module_version": "1.5.0",
     "model_name": "HTMLModel",
     "state": {
      "_dom_classes": [],
      "_model_module": "@jupyter-widgets/controls",
      "_model_module_version": "1.5.0",
      "_model_name": "HTMLModel",
      "_view_count": null,
      "_view_module": "@jupyter-widgets/controls",
      "_view_module_version": "1.5.0",
      "_view_name": "HTMLView",
      "description": "",
      "description_tooltip": null,
      "layout": "IPY_MODEL_5096050d6a9c4bf380702bf61172e6a4",
      "placeholder": "​",
      "style": "IPY_MODEL_9186d85e126e4f27bb8086f479d0f43c",
      "value": " 161/161 [00:00&lt;00:00, 3190.49it/s]"
     }
    },
    "804eb8eabfc94afab170a8d86680d996": {
     "model_module": "@jupyter-widgets/controls",
     "model_module_version": "1.5.0",
     "model_name": "DescriptionStyleModel",
     "state": {
      "_model_module": "@jupyter-widgets/controls",
      "_model_module_version": "1.5.0",
      "_model_name": "DescriptionStyleModel",
      "_view_count": null,
      "_view_module": "@jupyter-widgets/base",
      "_view_module_version": "1.2.0",
      "_view_name": "StyleView",
      "description_width": ""
     }
    },
    "8435241c760b4fd3b0043130a3dd9bf0": {
     "model_module": "@jupyter-widgets/controls",
     "model_module_version": "1.5.0",
     "model_name": "DescriptionStyleModel",
     "state": {
      "_model_module": "@jupyter-widgets/controls",
      "_model_module_version": "1.5.0",
      "_model_name": "DescriptionStyleModel",
      "_view_count": null,
      "_view_module": "@jupyter-widgets/base",
      "_view_module_version": "1.2.0",
      "_view_name": "StyleView",
      "description_width": ""
     }
    },
    "87332c5c9c0a4bf2b05ed30ae0cbdc4b": {
     "model_module": "@jupyter-widgets/base",
     "model_module_version": "1.2.0",
     "model_name": "LayoutModel",
     "state": {
      "_model_module": "@jupyter-widgets/base",
      "_model_module_version": "1.2.0",
      "_model_name": "LayoutModel",
      "_view_count": null,
      "_view_module": "@jupyter-widgets/base",
      "_view_module_version": "1.2.0",
      "_view_name": "LayoutView",
      "align_content": null,
      "align_items": null,
      "align_self": null,
      "border": null,
      "bottom": null,
      "display": null,
      "flex": null,
      "flex_flow": null,
      "grid_area": null,
      "grid_auto_columns": null,
      "grid_auto_flow": null,
      "grid_auto_rows": null,
      "grid_column": null,
      "grid_gap": null,
      "grid_row": null,
      "grid_template_areas": null,
      "grid_template_columns": null,
      "grid_template_rows": null,
      "height": null,
      "justify_content": null,
      "justify_items": null,
      "left": null,
      "margin": null,
      "max_height": null,
      "max_width": null,
      "min_height": null,
      "min_width": null,
      "object_fit": null,
      "object_position": null,
      "order": null,
      "overflow": null,
      "overflow_x": null,
      "overflow_y": null,
      "padding": null,
      "right": null,
      "top": null,
      "visibility": null,
      "width": null
     }
    },
    "8c208e3951044f279cec5735b54fec7b": {
     "model_module": "@jupyter-widgets/controls",
     "model_module_version": "1.5.0",
     "model_name": "HBoxModel",
     "state": {
      "_dom_classes": [],
      "_model_module": "@jupyter-widgets/controls",
      "_model_module_version": "1.5.0",
      "_model_name": "HBoxModel",
      "_view_count": null,
      "_view_module": "@jupyter-widgets/controls",
      "_view_module_version": "1.5.0",
      "_view_name": "HBoxView",
      "box_style": "",
      "children": [
       "IPY_MODEL_29dcb203e1f544598d01070c3aa94315",
       "IPY_MODEL_2570342c7a684c21bb4b13b689549b51",
       "IPY_MODEL_66c12759f2ab4447a892d1e1309ada4d"
      ],
      "layout": "IPY_MODEL_4390baa65d3541479e631bed21e2d5ec"
     }
    },
    "8c33f0364c2141f5a3cf161be19f3f77": {
     "model_module": "@jupyter-widgets/base",
     "model_module_version": "1.2.0",
     "model_name": "LayoutModel",
     "state": {
      "_model_module": "@jupyter-widgets/base",
      "_model_module_version": "1.2.0",
      "_model_name": "LayoutModel",
      "_view_count": null,
      "_view_module": "@jupyter-widgets/base",
      "_view_module_version": "1.2.0",
      "_view_name": "LayoutView",
      "align_content": null,
      "align_items": null,
      "align_self": null,
      "border": null,
      "bottom": null,
      "display": null,
      "flex": null,
      "flex_flow": null,
      "grid_area": null,
      "grid_auto_columns": null,
      "grid_auto_flow": null,
      "grid_auto_rows": null,
      "grid_column": null,
      "grid_gap": null,
      "grid_row": null,
      "grid_template_areas": null,
      "grid_template_columns": null,
      "grid_template_rows": null,
      "height": null,
      "justify_content": null,
      "justify_items": null,
      "left": null,
      "margin": null,
      "max_height": null,
      "max_width": null,
      "min_height": null,
      "min_width": null,
      "object_fit": null,
      "object_position": null,
      "order": null,
      "overflow": null,
      "overflow_x": null,
      "overflow_y": null,
      "padding": null,
      "right": null,
      "top": null,
      "visibility": null,
      "width": null
     }
    },
    "8f92091b78294b5fa78c3c8e02744ccf": {
     "model_module": "@jupyter-widgets/base",
     "model_module_version": "1.2.0",
     "model_name": "LayoutModel",
     "state": {
      "_model_module": "@jupyter-widgets/base",
      "_model_module_version": "1.2.0",
      "_model_name": "LayoutModel",
      "_view_count": null,
      "_view_module": "@jupyter-widgets/base",
      "_view_module_version": "1.2.0",
      "_view_name": "LayoutView",
      "align_content": null,
      "align_items": null,
      "align_self": null,
      "border": null,
      "bottom": null,
      "display": null,
      "flex": null,
      "flex_flow": null,
      "grid_area": null,
      "grid_auto_columns": null,
      "grid_auto_flow": null,
      "grid_auto_rows": null,
      "grid_column": null,
      "grid_gap": null,
      "grid_row": null,
      "grid_template_areas": null,
      "grid_template_columns": null,
      "grid_template_rows": null,
      "height": null,
      "justify_content": null,
      "justify_items": null,
      "left": null,
      "margin": null,
      "max_height": null,
      "max_width": null,
      "min_height": null,
      "min_width": null,
      "object_fit": null,
      "object_position": null,
      "order": null,
      "overflow": null,
      "overflow_x": null,
      "overflow_y": null,
      "padding": null,
      "right": null,
      "top": null,
      "visibility": null,
      "width": null
     }
    },
    "917d9e402fef463e8c89a53b3f285018": {
     "model_module": "@jupyter-widgets/controls",
     "model_module_version": "1.5.0",
     "model_name": "ProgressStyleModel",
     "state": {
      "_model_module": "@jupyter-widgets/controls",
      "_model_module_version": "1.5.0",
      "_model_name": "ProgressStyleModel",
      "_view_count": null,
      "_view_module": "@jupyter-widgets/base",
      "_view_module_version": "1.2.0",
      "_view_name": "StyleView",
      "bar_color": null,
      "description_width": ""
     }
    },
    "9186d85e126e4f27bb8086f479d0f43c": {
     "model_module": "@jupyter-widgets/controls",
     "model_module_version": "1.5.0",
     "model_name": "DescriptionStyleModel",
     "state": {
      "_model_module": "@jupyter-widgets/controls",
      "_model_module_version": "1.5.0",
      "_model_name": "DescriptionStyleModel",
      "_view_count": null,
      "_view_module": "@jupyter-widgets/base",
      "_view_module_version": "1.2.0",
      "_view_name": "StyleView",
      "description_width": ""
     }
    },
    "91d16c1c1cb641309b3cb6bb1d99cdb7": {
     "model_module": "@jupyter-widgets/base",
     "model_module_version": "1.2.0",
     "model_name": "LayoutModel",
     "state": {
      "_model_module": "@jupyter-widgets/base",
      "_model_module_version": "1.2.0",
      "_model_name": "LayoutModel",
      "_view_count": null,
      "_view_module": "@jupyter-widgets/base",
      "_view_module_version": "1.2.0",
      "_view_name": "LayoutView",
      "align_content": null,
      "align_items": null,
      "align_self": null,
      "border": null,
      "bottom": null,
      "display": null,
      "flex": null,
      "flex_flow": null,
      "grid_area": null,
      "grid_auto_columns": null,
      "grid_auto_flow": null,
      "grid_auto_rows": null,
      "grid_column": null,
      "grid_gap": null,
      "grid_row": null,
      "grid_template_areas": null,
      "grid_template_columns": null,
      "grid_template_rows": null,
      "height": null,
      "justify_content": null,
      "justify_items": null,
      "left": null,
      "margin": null,
      "max_height": null,
      "max_width": null,
      "min_height": null,
      "min_width": null,
      "object_fit": null,
      "object_position": null,
      "order": null,
      "overflow": null,
      "overflow_x": null,
      "overflow_y": null,
      "padding": null,
      "right": null,
      "top": null,
      "visibility": null,
      "width": null
     }
    },
    "983d67d40c394420b91a641c33ab41bd": {
     "model_module": "@jupyter-widgets/base",
     "model_module_version": "1.2.0",
     "model_name": "LayoutModel",
     "state": {
      "_model_module": "@jupyter-widgets/base",
      "_model_module_version": "1.2.0",
      "_model_name": "LayoutModel",
      "_view_count": null,
      "_view_module": "@jupyter-widgets/base",
      "_view_module_version": "1.2.0",
      "_view_name": "LayoutView",
      "align_content": null,
      "align_items": null,
      "align_self": null,
      "border": null,
      "bottom": null,
      "display": null,
      "flex": null,
      "flex_flow": null,
      "grid_area": null,
      "grid_auto_columns": null,
      "grid_auto_flow": null,
      "grid_auto_rows": null,
      "grid_column": null,
      "grid_gap": null,
      "grid_row": null,
      "grid_template_areas": null,
      "grid_template_columns": null,
      "grid_template_rows": null,
      "height": null,
      "justify_content": null,
      "justify_items": null,
      "left": null,
      "margin": null,
      "max_height": null,
      "max_width": null,
      "min_height": null,
      "min_width": null,
      "object_fit": null,
      "object_position": null,
      "order": null,
      "overflow": null,
      "overflow_x": null,
      "overflow_y": null,
      "padding": null,
      "right": null,
      "top": null,
      "visibility": null,
      "width": null
     }
    },
    "9927a14336854ad2818aa6acad98cf64": {
     "model_module": "@jupyter-widgets/base",
     "model_module_version": "1.2.0",
     "model_name": "LayoutModel",
     "state": {
      "_model_module": "@jupyter-widgets/base",
      "_model_module_version": "1.2.0",
      "_model_name": "LayoutModel",
      "_view_count": null,
      "_view_module": "@jupyter-widgets/base",
      "_view_module_version": "1.2.0",
      "_view_name": "LayoutView",
      "align_content": null,
      "align_items": null,
      "align_self": null,
      "border": null,
      "bottom": null,
      "display": null,
      "flex": null,
      "flex_flow": null,
      "grid_area": null,
      "grid_auto_columns": null,
      "grid_auto_flow": null,
      "grid_auto_rows": null,
      "grid_column": null,
      "grid_gap": null,
      "grid_row": null,
      "grid_template_areas": null,
      "grid_template_columns": null,
      "grid_template_rows": null,
      "height": null,
      "justify_content": null,
      "justify_items": null,
      "left": null,
      "margin": null,
      "max_height": null,
      "max_width": null,
      "min_height": null,
      "min_width": null,
      "object_fit": null,
      "object_position": null,
      "order": null,
      "overflow": null,
      "overflow_x": null,
      "overflow_y": null,
      "padding": null,
      "right": null,
      "top": null,
      "visibility": null,
      "width": null
     }
    },
    "9a7a237682fe4355920fc1765ae7f5fb": {
     "model_module": "@jupyter-widgets/controls",
     "model_module_version": "1.5.0",
     "model_name": "DescriptionStyleModel",
     "state": {
      "_model_module": "@jupyter-widgets/controls",
      "_model_module_version": "1.5.0",
      "_model_name": "DescriptionStyleModel",
      "_view_count": null,
      "_view_module": "@jupyter-widgets/base",
      "_view_module_version": "1.2.0",
      "_view_name": "StyleView",
      "description_width": ""
     }
    },
    "9b22da18a873467f8bbfb94d124ac819": {
     "model_module": "@jupyter-widgets/base",
     "model_module_version": "1.2.0",
     "model_name": "LayoutModel",
     "state": {
      "_model_module": "@jupyter-widgets/base",
      "_model_module_version": "1.2.0",
      "_model_name": "LayoutModel",
      "_view_count": null,
      "_view_module": "@jupyter-widgets/base",
      "_view_module_version": "1.2.0",
      "_view_name": "LayoutView",
      "align_content": null,
      "align_items": null,
      "align_self": null,
      "border": null,
      "bottom": null,
      "display": null,
      "flex": null,
      "flex_flow": null,
      "grid_area": null,
      "grid_auto_columns": null,
      "grid_auto_flow": null,
      "grid_auto_rows": null,
      "grid_column": null,
      "grid_gap": null,
      "grid_row": null,
      "grid_template_areas": null,
      "grid_template_columns": null,
      "grid_template_rows": null,
      "height": null,
      "justify_content": null,
      "justify_items": null,
      "left": null,
      "margin": null,
      "max_height": null,
      "max_width": null,
      "min_height": null,
      "min_width": null,
      "object_fit": null,
      "object_position": null,
      "order": null,
      "overflow": null,
      "overflow_x": null,
      "overflow_y": null,
      "padding": null,
      "right": null,
      "top": null,
      "visibility": null,
      "width": null
     }
    },
    "9e9740a0a9c74285a68f63dd85e5973e": {
     "model_module": "@jupyter-widgets/controls",
     "model_module_version": "1.5.0",
     "model_name": "ProgressStyleModel",
     "state": {
      "_model_module": "@jupyter-widgets/controls",
      "_model_module_version": "1.5.0",
      "_model_name": "ProgressStyleModel",
      "_view_count": null,
      "_view_module": "@jupyter-widgets/base",
      "_view_module_version": "1.2.0",
      "_view_name": "StyleView",
      "bar_color": null,
      "description_width": ""
     }
    },
    "a16f33f90c9f4fae9ddb1932cdeacf7b": {
     "model_module": "@jupyter-widgets/base",
     "model_module_version": "1.2.0",
     "model_name": "LayoutModel",
     "state": {
      "_model_module": "@jupyter-widgets/base",
      "_model_module_version": "1.2.0",
      "_model_name": "LayoutModel",
      "_view_count": null,
      "_view_module": "@jupyter-widgets/base",
      "_view_module_version": "1.2.0",
      "_view_name": "LayoutView",
      "align_content": null,
      "align_items": null,
      "align_self": null,
      "border": null,
      "bottom": null,
      "display": null,
      "flex": null,
      "flex_flow": null,
      "grid_area": null,
      "grid_auto_columns": null,
      "grid_auto_flow": null,
      "grid_auto_rows": null,
      "grid_column": null,
      "grid_gap": null,
      "grid_row": null,
      "grid_template_areas": null,
      "grid_template_columns": null,
      "grid_template_rows": null,
      "height": null,
      "justify_content": null,
      "justify_items": null,
      "left": null,
      "margin": null,
      "max_height": null,
      "max_width": null,
      "min_height": null,
      "min_width": null,
      "object_fit": null,
      "object_position": null,
      "order": null,
      "overflow": null,
      "overflow_x": null,
      "overflow_y": null,
      "padding": null,
      "right": null,
      "top": null,
      "visibility": null,
      "width": null
     }
    },
    "a4d2fc04ea20468091218fa162c6a272": {
     "model_module": "@jupyter-widgets/controls",
     "model_module_version": "1.5.0",
     "model_name": "DescriptionStyleModel",
     "state": {
      "_model_module": "@jupyter-widgets/controls",
      "_model_module_version": "1.5.0",
      "_model_name": "DescriptionStyleModel",
      "_view_count": null,
      "_view_module": "@jupyter-widgets/base",
      "_view_module_version": "1.2.0",
      "_view_name": "StyleView",
      "description_width": ""
     }
    },
    "a9f1961c8c0a45699ba26a5540201a91": {
     "model_module": "@jupyter-widgets/controls",
     "model_module_version": "1.5.0",
     "model_name": "HTMLModel",
     "state": {
      "_dom_classes": [],
      "_model_module": "@jupyter-widgets/controls",
      "_model_module_version": "1.5.0",
      "_model_name": "HTMLModel",
      "_view_count": null,
      "_view_module": "@jupyter-widgets/controls",
      "_view_module_version": "1.5.0",
      "_view_name": "HTMLView",
      "description": "",
      "description_tooltip": null,
      "layout": "IPY_MODEL_4eed15f3a9854e848adf30ed90441d3b",
      "placeholder": "​",
      "style": "IPY_MODEL_a4d2fc04ea20468091218fa162c6a272",
      "value": "100%"
     }
    },
    "b79c4aedab294dfc8b6f5d9ff10ab945": {
     "model_module": "@jupyter-widgets/controls",
     "model_module_version": "1.5.0",
     "model_name": "DescriptionStyleModel",
     "state": {
      "_model_module": "@jupyter-widgets/controls",
      "_model_module_version": "1.5.0",
      "_model_name": "DescriptionStyleModel",
      "_view_count": null,
      "_view_module": "@jupyter-widgets/base",
      "_view_module_version": "1.2.0",
      "_view_name": "StyleView",
      "description_width": ""
     }
    },
    "bf035b196b5548e5baf8d414bfa56a61": {
     "model_module": "@jupyter-widgets/controls",
     "model_module_version": "1.5.0",
     "model_name": "ProgressStyleModel",
     "state": {
      "_model_module": "@jupyter-widgets/controls",
      "_model_module_version": "1.5.0",
      "_model_name": "ProgressStyleModel",
      "_view_count": null,
      "_view_module": "@jupyter-widgets/base",
      "_view_module_version": "1.2.0",
      "_view_name": "StyleView",
      "bar_color": null,
      "description_width": ""
     }
    },
    "c15f465a33c74aa59eff03d0948c6a15": {
     "model_module": "@jupyter-widgets/controls",
     "model_module_version": "1.5.0",
     "model_name": "HTMLModel",
     "state": {
      "_dom_classes": [],
      "_model_module": "@jupyter-widgets/controls",
      "_model_module_version": "1.5.0",
      "_model_name": "HTMLModel",
      "_view_count": null,
      "_view_module": "@jupyter-widgets/controls",
      "_view_module_version": "1.5.0",
      "_view_name": "HTMLView",
      "description": "",
      "description_tooltip": null,
      "layout": "IPY_MODEL_8c33f0364c2141f5a3cf161be19f3f77",
      "placeholder": "​",
      "style": "IPY_MODEL_3fedd1bb2d7b4322b64f0dd117faac67",
      "value": " 161/161 [00:00&lt;00:00, 3459.03it/s]"
     }
    },
    "c78aefc7d10b472cb256e54d7f69a3d2": {
     "model_module": "@jupyter-widgets/controls",
     "model_module_version": "1.5.0",
     "model_name": "FloatProgressModel",
     "state": {
      "_dom_classes": [],
      "_model_module": "@jupyter-widgets/controls",
      "_model_module_version": "1.5.0",
      "_model_name": "FloatProgressModel",
      "_view_count": null,
      "_view_module": "@jupyter-widgets/controls",
      "_view_module_version": "1.5.0",
      "_view_name": "ProgressView",
      "bar_style": "success",
      "description": "",
      "description_tooltip": null,
      "layout": "IPY_MODEL_fcc565f8a6c6477192f7e04fed631a7f",
      "max": 161,
      "min": 0,
      "orientation": "horizontal",
      "style": "IPY_MODEL_917d9e402fef463e8c89a53b3f285018",
      "value": 161
     }
    },
    "ccf142dbf5724d119a8f5c88f3c2ba33": {
     "model_module": "@jupyter-widgets/controls",
     "model_module_version": "1.5.0",
     "model_name": "HTMLModel",
     "state": {
      "_dom_classes": [],
      "_model_module": "@jupyter-widgets/controls",
      "_model_module_version": "1.5.0",
      "_model_name": "HTMLModel",
      "_view_count": null,
      "_view_module": "@jupyter-widgets/controls",
      "_view_module_version": "1.5.0",
      "_view_name": "HTMLView",
      "description": "",
      "description_tooltip": null,
      "layout": "IPY_MODEL_428a72d14a304d67b8b09ff7a3b20b19",
      "placeholder": "​",
      "style": "IPY_MODEL_27d42576f440409782af1603037a19a7",
      "value": " 161/161 [00:00&lt;00:00, 4034.17it/s]"
     }
    },
    "eb052ddaf63c48ad9e5730e338a5dc99": {
     "model_module": "@jupyter-widgets/controls",
     "model_module_version": "1.5.0",
     "model_name": "ProgressStyleModel",
     "state": {
      "_model_module": "@jupyter-widgets/controls",
      "_model_module_version": "1.5.0",
      "_model_name": "ProgressStyleModel",
      "_view_count": null,
      "_view_module": "@jupyter-widgets/base",
      "_view_module_version": "1.2.0",
      "_view_name": "StyleView",
      "bar_color": null,
      "description_width": ""
     }
    },
    "eca3c96e2730455799c391a969233eee": {
     "model_module": "@jupyter-widgets/base",
     "model_module_version": "1.2.0",
     "model_name": "LayoutModel",
     "state": {
      "_model_module": "@jupyter-widgets/base",
      "_model_module_version": "1.2.0",
      "_model_name": "LayoutModel",
      "_view_count": null,
      "_view_module": "@jupyter-widgets/base",
      "_view_module_version": "1.2.0",
      "_view_name": "LayoutView",
      "align_content": null,
      "align_items": null,
      "align_self": null,
      "border": null,
      "bottom": null,
      "display": null,
      "flex": null,
      "flex_flow": null,
      "grid_area": null,
      "grid_auto_columns": null,
      "grid_auto_flow": null,
      "grid_auto_rows": null,
      "grid_column": null,
      "grid_gap": null,
      "grid_row": null,
      "grid_template_areas": null,
      "grid_template_columns": null,
      "grid_template_rows": null,
      "height": null,
      "justify_content": null,
      "justify_items": null,
      "left": null,
      "margin": null,
      "max_height": null,
      "max_width": null,
      "min_height": null,
      "min_width": null,
      "object_fit": null,
      "object_position": null,
      "order": null,
      "overflow": null,
      "overflow_x": null,
      "overflow_y": null,
      "padding": null,
      "right": null,
      "top": null,
      "visibility": null,
      "width": null
     }
    },
    "f07997571bf34117bf904268bca08daa": {
     "model_module": "@jupyter-widgets/controls",
     "model_module_version": "1.5.0",
     "model_name": "DescriptionStyleModel",
     "state": {
      "_model_module": "@jupyter-widgets/controls",
      "_model_module_version": "1.5.0",
      "_model_name": "DescriptionStyleModel",
      "_view_count": null,
      "_view_module": "@jupyter-widgets/base",
      "_view_module_version": "1.2.0",
      "_view_name": "StyleView",
      "description_width": ""
     }
    },
    "f3f2bcdfde4341878a23d16a8ad8fe7a": {
     "model_module": "@jupyter-widgets/controls",
     "model_module_version": "1.5.0",
     "model_name": "FloatProgressModel",
     "state": {
      "_dom_classes": [],
      "_model_module": "@jupyter-widgets/controls",
      "_model_module_version": "1.5.0",
      "_model_name": "FloatProgressModel",
      "_view_count": null,
      "_view_module": "@jupyter-widgets/controls",
      "_view_module_version": "1.5.0",
      "_view_name": "ProgressView",
      "bar_style": "success",
      "description": "",
      "description_tooltip": null,
      "layout": "IPY_MODEL_eca3c96e2730455799c391a969233eee",
      "max": 20,
      "min": 0,
      "orientation": "horizontal",
      "style": "IPY_MODEL_4bdb5425b146498eaf4750f83983b690",
      "value": 20
     }
    },
    "fab8b32d90994951b1b69699fedb1a2e": {
     "model_module": "@jupyter-widgets/base",
     "model_module_version": "1.2.0",
     "model_name": "LayoutModel",
     "state": {
      "_model_module": "@jupyter-widgets/base",
      "_model_module_version": "1.2.0",
      "_model_name": "LayoutModel",
      "_view_count": null,
      "_view_module": "@jupyter-widgets/base",
      "_view_module_version": "1.2.0",
      "_view_name": "LayoutView",
      "align_content": null,
      "align_items": null,
      "align_self": null,
      "border": null,
      "bottom": null,
      "display": null,
      "flex": null,
      "flex_flow": null,
      "grid_area": null,
      "grid_auto_columns": null,
      "grid_auto_flow": null,
      "grid_auto_rows": null,
      "grid_column": null,
      "grid_gap": null,
      "grid_row": null,
      "grid_template_areas": null,
      "grid_template_columns": null,
      "grid_template_rows": null,
      "height": null,
      "justify_content": null,
      "justify_items": null,
      "left": null,
      "margin": null,
      "max_height": null,
      "max_width": null,
      "min_height": null,
      "min_width": null,
      "object_fit": null,
      "object_position": null,
      "order": null,
      "overflow": null,
      "overflow_x": null,
      "overflow_y": null,
      "padding": null,
      "right": null,
      "top": null,
      "visibility": null,
      "width": null
     }
    },
    "fb7900c34d644d01a36fd3c0f8c06a34": {
     "model_module": "@jupyter-widgets/controls",
     "model_module_version": "1.5.0",
     "model_name": "HTMLModel",
     "state": {
      "_dom_classes": [],
      "_model_module": "@jupyter-widgets/controls",
      "_model_module_version": "1.5.0",
      "_model_name": "HTMLModel",
      "_view_count": null,
      "_view_module": "@jupyter-widgets/controls",
      "_view_module_version": "1.5.0",
      "_view_name": "HTMLView",
      "description": "",
      "description_tooltip": null,
      "layout": "IPY_MODEL_a16f33f90c9f4fae9ddb1932cdeacf7b",
      "placeholder": "​",
      "style": "IPY_MODEL_0835b8099049402a80cf9569b4286d13",
      "value": "100%"
     }
    },
    "fcc565f8a6c6477192f7e04fed631a7f": {
     "model_module": "@jupyter-widgets/base",
     "model_module_version": "1.2.0",
     "model_name": "LayoutModel",
     "state": {
      "_model_module": "@jupyter-widgets/base",
      "_model_module_version": "1.2.0",
      "_model_name": "LayoutModel",
      "_view_count": null,
      "_view_module": "@jupyter-widgets/base",
      "_view_module_version": "1.2.0",
      "_view_name": "LayoutView",
      "align_content": null,
      "align_items": null,
      "align_self": null,
      "border": null,
      "bottom": null,
      "display": null,
      "flex": null,
      "flex_flow": null,
      "grid_area": null,
      "grid_auto_columns": null,
      "grid_auto_flow": null,
      "grid_auto_rows": null,
      "grid_column": null,
      "grid_gap": null,
      "grid_row": null,
      "grid_template_areas": null,
      "grid_template_columns": null,
      "grid_template_rows": null,
      "height": null,
      "justify_content": null,
      "justify_items": null,
      "left": null,
      "margin": null,
      "max_height": null,
      "max_width": null,
      "min_height": null,
      "min_width": null,
      "object_fit": null,
      "object_position": null,
      "order": null,
      "overflow": null,
      "overflow_x": null,
      "overflow_y": null,
      "padding": null,
      "right": null,
      "top": null,
      "visibility": null,
      "width": null
     }
    },
    "fe2ca3ea2b214c7b880a5103f2eedd11": {
     "model_module": "@jupyter-widgets/base",
     "model_module_version": "1.2.0",
     "model_name": "LayoutModel",
     "state": {
      "_model_module": "@jupyter-widgets/base",
      "_model_module_version": "1.2.0",
      "_model_name": "LayoutModel",
      "_view_count": null,
      "_view_module": "@jupyter-widgets/base",
      "_view_module_version": "1.2.0",
      "_view_name": "LayoutView",
      "align_content": null,
      "align_items": null,
      "align_self": null,
      "border": null,
      "bottom": null,
      "display": null,
      "flex": null,
      "flex_flow": null,
      "grid_area": null,
      "grid_auto_columns": null,
      "grid_auto_flow": null,
      "grid_auto_rows": null,
      "grid_column": null,
      "grid_gap": null,
      "grid_row": null,
      "grid_template_areas": null,
      "grid_template_columns": null,
      "grid_template_rows": null,
      "height": null,
      "justify_content": null,
      "justify_items": null,
      "left": null,
      "margin": null,
      "max_height": null,
      "max_width": null,
      "min_height": null,
      "min_width": null,
      "object_fit": null,
      "object_position": null,
      "order": null,
      "overflow": null,
      "overflow_x": null,
      "overflow_y": null,
      "padding": null,
      "right": null,
      "top": null,
      "visibility": null,
      "width": null
     }
    }
   }
  }
 },
 "nbformat": 4,
 "nbformat_minor": 1
}
