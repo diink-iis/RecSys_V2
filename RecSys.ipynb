{
 "cells": [
  {
   "cell_type": "markdown",
   "metadata": {
    "id": "SafclrJZqEt8"
   },
   "source": [
    "# Подготовка данных"
   ]
  },
  {
   "cell_type": "code",
   "execution_count": 1,
   "metadata": {
    "id": "MSBbY53Sy1vy"
   },
   "outputs": [],
   "source": [
    "import pandas as pd\n",
    "import numpy as np\n",
    "import pickle\n",
    "import datetime as d\n",
    "import matplotlib.pyplot as plt\n",
    "import seaborn as sns"
   ]
  },
  {
   "cell_type": "code",
   "execution_count": 2,
   "metadata": {
    "colab": {
     "base_uri": "https://localhost:8080/",
     "height": 380
    },
    "id": "EXR3LmeoyWLL",
    "outputId": "f995da47-492b-4a90-8c02-0aad38dc8b1c"
   },
   "outputs": [
    {
     "name": "stderr",
     "output_type": "stream",
     "text": [
      "C:\\Users\\isaev\\AppData\\Local\\Temp\\ipykernel_964\\2506910825.py:6: FutureWarning: The frame.append method is deprecated and will be removed from pandas in a future version. Use pandas.concat instead.\n",
      "  all_years_df = all_years_df.append(df_years, ignore_index=True)\n"
     ]
    },
    {
     "data": {
      "text/html": [
       "<div>\n",
       "<style scoped>\n",
       "    .dataframe tbody tr th:only-of-type {\n",
       "        vertical-align: middle;\n",
       "    }\n",
       "\n",
       "    .dataframe tbody tr th {\n",
       "        vertical-align: top;\n",
       "    }\n",
       "\n",
       "    .dataframe thead th {\n",
       "        text-align: right;\n",
       "    }\n",
       "</style>\n",
       "<table border=\"1\" class=\"dataframe\">\n",
       "  <thead>\n",
       "    <tr style=\"text-align: right;\">\n",
       "      <th></th>\n",
       "      <th>datetime</th>\n",
       "      <th>ticker</th>\n",
       "      <th>amount</th>\n",
       "      <th>price</th>\n",
       "      <th>user</th>\n",
       "      <th>cf</th>\n",
       "      <th>date</th>\n",
       "    </tr>\n",
       "  </thead>\n",
       "  <tbody>\n",
       "    <tr>\n",
       "      <th>4006614</th>\n",
       "      <td>2019-10-07 18:03:00</td>\n",
       "      <td>RUAL</td>\n",
       "      <td>10</td>\n",
       "      <td>27.445</td>\n",
       "      <td>1_210727</td>\n",
       "      <td>-274.45</td>\n",
       "      <td>2019-10-07</td>\n",
       "    </tr>\n",
       "    <tr>\n",
       "      <th>4610510</th>\n",
       "      <td>2020-10-27 20:35:00</td>\n",
       "      <td>MOEX</td>\n",
       "      <td>10</td>\n",
       "      <td>140.950</td>\n",
       "      <td>1_240951</td>\n",
       "      <td>-1409.50</td>\n",
       "      <td>2020-10-27</td>\n",
       "    </tr>\n",
       "    <tr>\n",
       "      <th>5070370</th>\n",
       "      <td>2020-11-30 20:26:00</td>\n",
       "      <td>QIWI</td>\n",
       "      <td>-10</td>\n",
       "      <td>1102.500</td>\n",
       "      <td>1_251992</td>\n",
       "      <td>11025.00</td>\n",
       "      <td>2020-11-30</td>\n",
       "    </tr>\n",
       "  </tbody>\n",
       "</table>\n",
       "</div>"
      ],
      "text/plain": [
       "                   datetime ticker  amount     price      user        cf  \\\n",
       "4006614 2019-10-07 18:03:00   RUAL      10    27.445  1_210727   -274.45   \n",
       "4610510 2020-10-27 20:35:00   MOEX      10   140.950  1_240951  -1409.50   \n",
       "5070370 2020-11-30 20:26:00   QIWI     -10  1102.500  1_251992  11025.00   \n",
       "\n",
       "              date  \n",
       "4006614 2019-10-07  \n",
       "4610510 2020-10-27  \n",
       "5070370 2020-11-30  "
      ]
     },
     "execution_count": 2,
     "metadata": {},
     "output_type": "execute_result"
    }
   ],
   "source": [
    "all_years_df = pd.DataFrame([])\n",
    "\n",
    "for year in range(2015, 2022):\n",
    "    with open(f'Data/df_{year}_cleaned.pickle', \"rb\") as file:\n",
    "        df_years = pickle.load(file)\n",
    "    all_years_df = all_years_df.append(df_years, ignore_index=True)\n",
    "\n",
    "all_years_df.rename(columns={\"deals\": \"amount\"}, inplace=True)\n",
    "all_years_df.sample(3)"
   ]
  },
  {
   "cell_type": "code",
   "execution_count": 3,
   "metadata": {
    "colab": {
     "base_uri": "https://localhost:8080/",
     "height": 586
    },
    "id": "TOvssBH2G3Oq",
    "outputId": "a7a0c049-203a-4a3d-e1ae-c9a4b9903808"
   },
   "outputs": [
    {
     "data": {
      "text/html": [
       "<div>\n",
       "<style scoped>\n",
       "    .dataframe tbody tr th:only-of-type {\n",
       "        vertical-align: middle;\n",
       "    }\n",
       "\n",
       "    .dataframe tbody tr th {\n",
       "        vertical-align: top;\n",
       "    }\n",
       "\n",
       "    .dataframe thead th {\n",
       "        text-align: right;\n",
       "    }\n",
       "</style>\n",
       "<table border=\"1\" class=\"dataframe\">\n",
       "  <thead>\n",
       "    <tr style=\"text-align: right;\">\n",
       "      <th></th>\n",
       "      <th>datetime</th>\n",
       "      <th>ticker</th>\n",
       "      <th>amount</th>\n",
       "      <th>price</th>\n",
       "      <th>user</th>\n",
       "      <th>cf</th>\n",
       "      <th>date</th>\n",
       "      <th>value</th>\n",
       "    </tr>\n",
       "  </thead>\n",
       "  <tbody>\n",
       "    <tr>\n",
       "      <th>922755</th>\n",
       "      <td>2015-10-30 16:38:00</td>\n",
       "      <td>MTSS</td>\n",
       "      <td>200</td>\n",
       "      <td>208.80</td>\n",
       "      <td>1_53072</td>\n",
       "      <td>-41760.0</td>\n",
       "      <td>2015-10-30</td>\n",
       "      <td>41760.0</td>\n",
       "    </tr>\n",
       "    <tr>\n",
       "      <th>3967808</th>\n",
       "      <td>2017-12-15 13:46:00</td>\n",
       "      <td>ALRS</td>\n",
       "      <td>400</td>\n",
       "      <td>74.94</td>\n",
       "      <td>1_152449</td>\n",
       "      <td>-29976.0</td>\n",
       "      <td>2017-12-15</td>\n",
       "      <td>29976.0</td>\n",
       "    </tr>\n",
       "    <tr>\n",
       "      <th>3754834</th>\n",
       "      <td>2017-11-20 13:17:00</td>\n",
       "      <td>GMKN</td>\n",
       "      <td>2</td>\n",
       "      <td>10945.00</td>\n",
       "      <td>1_151445</td>\n",
       "      <td>-21890.0</td>\n",
       "      <td>2017-11-20</td>\n",
       "      <td>21890.0</td>\n",
       "    </tr>\n",
       "  </tbody>\n",
       "</table>\n",
       "</div>"
      ],
      "text/plain": [
       "                   datetime ticker  amount     price      user       cf  \\\n",
       "922755  2015-10-30 16:38:00   MTSS     200    208.80   1_53072 -41760.0   \n",
       "3967808 2017-12-15 13:46:00   ALRS     400     74.94  1_152449 -29976.0   \n",
       "3754834 2017-11-20 13:17:00   GMKN       2  10945.00  1_151445 -21890.0   \n",
       "\n",
       "              date    value  \n",
       "922755  2015-10-30  41760.0  \n",
       "3967808 2017-12-15  29976.0  \n",
       "3754834 2017-11-20  21890.0  "
      ]
     },
     "execution_count": 3,
     "metadata": {},
     "output_type": "execute_result"
    }
   ],
   "source": [
    "df_2022 = pd.read_csv(\"stock_market_trades.csv\", sep=\";\")\n",
    "\n",
    "df_2022[\"timestamp\"] = pd.to_datetime(df_2022[\"timestamp\"])\n",
    "df_2022[\"date\"] = pd.to_datetime([d.date() for d in df_2022[\"timestamp\"]])\n",
    "df_2022[\"cf\"] = -df_2022[\"amount\"]*df_2022[\"price\"]\n",
    "\n",
    "df_2022 = df_2022.reindex(columns=[\"timestamp\", \"ticker\", \"amount\", \"price\", \"id\", \"cf\", \"date\"])\n",
    "df_2022.rename(columns={\"id\": \"user\", \"timestamp\": \"datetime\"}, inplace=True)\n",
    "df_2022[\"user\"] = df_2022[\"user\"].astype(str)\n",
    "\n",
    "df_result = pd.concat([df_2022, all_years_df]).reset_index(drop = True)\n",
    "df_result[\"value\"] = -df_result[\"cf\"]\n",
    "df_result.sample(3)"
   ]
  },
  {
   "cell_type": "markdown",
   "metadata": {
    "id": "Y1gaZg0qphAD"
   },
   "source": [
    "-------------------------------------------------------------------------------"
   ]
  },
  {
   "cell_type": "markdown",
   "metadata": {
    "id": "25Ni_IL_p56q"
   },
   "source": [
    "# EDA и начальная обработка данных"
   ]
  },
  {
   "cell_type": "code",
   "execution_count": 14,
   "metadata": {
    "colab": {
     "base_uri": "https://localhost:8080/",
     "height": 300
    },
    "id": "OKrSNRU40G-Q",
    "outputId": "828f761b-993b-4bc1-9253-9e0996bd2525"
   },
   "outputs": [
    {
     "data": {
      "text/html": [
       "<div>\n",
       "<style scoped>\n",
       "    .dataframe tbody tr th:only-of-type {\n",
       "        vertical-align: middle;\n",
       "    }\n",
       "\n",
       "    .dataframe tbody tr th {\n",
       "        vertical-align: top;\n",
       "    }\n",
       "\n",
       "    .dataframe thead th {\n",
       "        text-align: right;\n",
       "    }\n",
       "</style>\n",
       "<table border=\"1\" class=\"dataframe\">\n",
       "  <thead>\n",
       "    <tr style=\"text-align: right;\">\n",
       "      <th></th>\n",
       "      <th>amount</th>\n",
       "      <th>price</th>\n",
       "      <th>cf</th>\n",
       "    </tr>\n",
       "  </thead>\n",
       "  <tbody>\n",
       "    <tr>\n",
       "      <th>count</th>\n",
       "      <td>6851928.000</td>\n",
       "      <td>6851928.000</td>\n",
       "      <td>6851928.000</td>\n",
       "    </tr>\n",
       "    <tr>\n",
       "      <th>mean</th>\n",
       "      <td>590.773</td>\n",
       "      <td>1507.367</td>\n",
       "      <td>332.054</td>\n",
       "    </tr>\n",
       "    <tr>\n",
       "      <th>std</th>\n",
       "      <td>1092589.144</td>\n",
       "      <td>8279.196</td>\n",
       "      <td>366191.049</td>\n",
       "    </tr>\n",
       "    <tr>\n",
       "      <th>min</th>\n",
       "      <td>-369670000.000</td>\n",
       "      <td>0.004</td>\n",
       "      <td>-118093092.000</td>\n",
       "    </tr>\n",
       "    <tr>\n",
       "      <th>25%</th>\n",
       "      <td>-100.000</td>\n",
       "      <td>59.760</td>\n",
       "      <td>-13507.500</td>\n",
       "    </tr>\n",
       "    <tr>\n",
       "      <th>50%</th>\n",
       "      <td>-1.000</td>\n",
       "      <td>140.800</td>\n",
       "      <td>46.140</td>\n",
       "    </tr>\n",
       "    <tr>\n",
       "      <th>75%</th>\n",
       "      <td>100.000</td>\n",
       "      <td>363.150</td>\n",
       "      <td>13180.000</td>\n",
       "    </tr>\n",
       "    <tr>\n",
       "      <th>max</th>\n",
       "      <td>663320000.000</td>\n",
       "      <td>210450.000</td>\n",
       "      <td>126152240.000</td>\n",
       "    </tr>\n",
       "  </tbody>\n",
       "</table>\n",
       "</div>"
      ],
      "text/plain": [
       "              amount       price             cf\n",
       "count    6851928.000 6851928.000    6851928.000\n",
       "mean         590.773    1507.367        332.054\n",
       "std      1092589.144    8279.196     366191.049\n",
       "min   -369670000.000       0.004 -118093092.000\n",
       "25%         -100.000      59.760     -13507.500\n",
       "50%           -1.000     140.800         46.140\n",
       "75%          100.000     363.150      13180.000\n",
       "max    663320000.000  210450.000  126152240.000"
      ]
     },
     "execution_count": 14,
     "metadata": {},
     "output_type": "execute_result"
    }
   ],
   "source": [
    "pd.set_option(\"display.float_format\", lambda x: \"%.3f\" % x)\n",
    "df_result.describe().round(3)"
   ]
  },
  {
   "cell_type": "markdown",
   "metadata": {
    "id": "lPtpNjwAE3Ix"
   },
   "source": [
    "Видим, что минимальное и максимальное значения сильно отличаются от соответствующих квартилей => в данных должны быть сильные выбросы\n",
    "\n",
    "Средние по фичам тоже отклоняются от медианы в большую сторону по всем фичам => распределение данных ассиметрично по каждой из количественных переменных со смещением моды в левую часть графика распределения"
   ]
  },
  {
   "cell_type": "code",
   "execution_count": null,
   "metadata": {
    "colab": {
     "base_uri": "https://localhost:8080/"
    },
    "id": "2QDjzCHY0KxA",
    "outputId": "3973dea7-a88a-4430-a56b-7a2d4ef3132a"
   },
   "outputs": [
    {
     "data": {
      "text/plain": [
       "datetime    0\n",
       "ticker      0\n",
       "amount      0\n",
       "price       0\n",
       "user        0\n",
       "cf          0\n",
       "date        0\n",
       "dtype: int64"
      ]
     },
     "execution_count": 191,
     "metadata": {},
     "output_type": "execute_result"
    }
   ],
   "source": [
    "df_result.isnull().sum()"
   ]
  },
  {
   "cell_type": "markdown",
   "metadata": {
    "id": "hXgmhitFsvTZ"
   },
   "source": [
    "Пропусков нет"
   ]
  },
  {
   "cell_type": "code",
   "execution_count": 15,
   "metadata": {
    "colab": {
     "base_uri": "https://localhost:8080/"
    },
    "id": "f9NOBDPqyKG1",
    "outputId": "145eeeea-b116-4b4c-f575-226f2c3ad064"
   },
   "outputs": [
    {
     "name": "stdout",
     "output_type": "stream",
     "text": [
      "Количество покупок акций:  3423671\n",
      "Количество продаж акций:  3428257\n",
      "Количество непроданных акций:  4586\n"
     ]
    }
   ],
   "source": [
    "buy_count = df_result[df_result.amount>0].shape[0]\n",
    "print(\"Количество покупок акций: \", buy_count)\n",
    "print(\"Количество продаж акций: \", df_result.shape[0]-buy_count)\n",
    "print(\"Количество непроданных акций: \", df_result.shape[0]-2*buy_count)"
   ]
  },
  {
   "cell_type": "markdown",
   "metadata": {
    "id": "ryNivc6IvBzR"
   },
   "source": [
    "Постоим диаграммы размаха"
   ]
  },
  {
   "cell_type": "code",
   "execution_count": 16,
   "metadata": {
    "colab": {
     "base_uri": "https://localhost:8080/"
    },
    "id": "yiePfgGrqeii",
    "outputId": "057bf70e-b801-4591-b4cf-3ca6a3e8a4d9"
   },
   "outputs": [
    {
     "data": {
      "text/plain": [
       "Index(['datetime', 'ticker', 'amount', 'price', 'user', 'cf', 'date'], dtype='object')"
      ]
     },
     "execution_count": 16,
     "metadata": {},
     "output_type": "execute_result"
    }
   ],
   "source": [
    "df_result.columns"
   ]
  },
  {
   "cell_type": "code",
   "execution_count": 17,
   "metadata": {
    "colab": {
     "base_uri": "https://localhost:8080/",
     "height": 619
    },
    "id": "HvvN4zfpqUt5",
    "outputId": "601342cf-6ac6-4b70-b1db-38fd881fe308"
   },
   "outputs": [
    {
     "name": "stdout",
     "output_type": "stream",
     "text": [
      "AxesSubplot(0.125,0.125;0.775x0.755)\n"
     ]
    },
    {
     "data": {
      "image/png": "[encoded data removed]",
      "text/plain": [
       "<Figure size 360x720 with 1 Axes>"
      ]
     },
     "metadata": {
      "needs_background": "light"
     },
     "output_type": "display_data"
    }
   ],
   "source": [
    "print(df_result.drop([\"user\"], axis=1).boxplot(figsize=(5, 10)))"
   ]
  },
  {
   "cell_type": "code",
   "execution_count": 18,
   "metadata": {
    "colab": {
     "base_uri": "https://localhost:8080/",
     "height": 285
    },
    "id": "9D1cUm19eJ2J",
    "outputId": "7a344b88-d566-4376-8676-d1e14e2fb94a"
   },
   "outputs": [
    {
     "name": "stdout",
     "output_type": "stream",
     "text": [
      "AxesSubplot(0.125,0.125;0.775x0.755)\n"
     ]
    },
    {
     "data": {
      "image/png": "[encoded data removed]",
      "text/plain": [
       "<Figure size 2160x360 with 1 Axes>"
      ]
     },
     "metadata": {
      "needs_background": "light"
     },
     "output_type": "display_data"
    }
   ],
   "source": [
    "print(df_result.drop([\"amount\", \"cf\", \"user\"], axis=1).boxplot(figsize=(30, 5), vert=False))"
   ]
  },
  {
   "cell_type": "markdown",
   "metadata": {
    "id": "XyOz03ckdl5N"
   },
   "source": [
    "В столбцах количественных переменных действительно много выбросов, особенно в цене акций и объеме сделки"
   ]
  },
  {
   "cell_type": "code",
   "execution_count": 19,
   "metadata": {
    "colab": {
     "base_uri": "https://localhost:8080/",
     "height": 286
    },
    "id": "YTjzgqX-qUkp",
    "outputId": "e35a38b8-4a15-408a-c901-1b58bfac742c"
   },
   "outputs": [
    {
     "name": "stderr",
     "output_type": "stream",
     "text": [
      "C:\\Users\\isaev\\AppData\\Local\\Temp\\ipykernel_14644\\1895811916.py:1: FutureWarning: The default value of numeric_only in DataFrame.corr is deprecated. In a future version, it will default to False. Select only valid columns or specify the value of numeric_only to silence this warning.\n",
      "  sns.heatmap(df_result.corr())\n"
     ]
    },
    {
     "data": {
      "text/plain": [
       "<AxesSubplot:>"
      ]
     },
     "execution_count": 19,
     "metadata": {},
     "output_type": "execute_result"
    },
    {
     "data": {
      "image/png": "[encoded data removed]",
      "text/plain": [
       "<Figure size 432x288 with 2 Axes>"
      ]
     },
     "metadata": {
      "needs_background": "light"
     },
     "output_type": "display_data"
    }
   ],
   "source": [
    "sns.heatmap(df_result.corr())"
   ]
  },
  {
   "cell_type": "markdown",
   "metadata": {
    "id": "jEfGJwv4bdKK"
   },
   "source": [
    "Все пары фичей мало коррелируют друг с другом; пара с небольшой корреляцией - пользователь и цена акции => пользователи при покупке акций немного ориентируются на ее цену. Еще меньше корреляции между юзером и количеством покупаемых акций, но она незначительна. А между полученной прибылью и пользователем корреляции нет. "
   ]
  },
  {
   "cell_type": "markdown",
   "metadata": {
    "id": "AYoTbcNsLHbs"
   },
   "source": [
    "Теперь проанализируем категориальные переменные"
   ]
  },
  {
   "cell_type": "code",
   "execution_count": 21,
   "metadata": {
    "colab": {
     "base_uri": "https://localhost:8080/"
    },
    "id": "TrEhNrI3qUeY",
    "outputId": "3a74e5a6-fb2c-42a2-b9fe-c685970930be"
   },
   "outputs": [
    {
     "name": "stdout",
     "output_type": "stream",
     "text": [
      "Количество уникальных юзеров:  42833\n",
      "Количество уникальных акций:  161\n",
      "Среднее количесво операций пользователей:  159.96843555202764\n",
      "Среднее количество операций с акциями:  42558.55900621118\n"
     ]
    }
   ],
   "source": [
    "print(\"Количество уникальных юзеров: \", df_result[\"user\"].nunique())\n",
    "print(\"Количество уникальных акций: \", df_result[\"ticker\"].nunique())\n",
    "print(\"Среднее количесво операций пользователей: \", df_result.shape[0] / df_result[\"user\"].nunique())\n",
    "print(\"Среднее количество операций с акциями: \", df_result.shape[0] / df_result[\"ticker\"].nunique())"
   ]
  },
  {
   "cell_type": "markdown",
   "metadata": {
    "id": "qOnsEUpeqVaJ"
   },
   "source": [
    "Посмотрим разброс активности пользователей по количеству совершенных операций"
   ]
  },
  {
   "cell_type": "code",
   "execution_count": 27,
   "metadata": {},
   "outputs": [],
   "source": [
    "df_result['user'] = df_result['user'].astype(int)"
   ]
  },
  {
   "cell_type": "code",
   "execution_count": 28,
   "metadata": {
    "id": "iDuqPdqZ-38j"
   },
   "outputs": [],
   "source": [
    "user_sort_df = df_result.sort_values(\"user\")\n",
    "oper_count = 0\n",
    "user_oper = []\n",
    "for i in range(0, df_result.shape[0]-1):\n",
    "    if df_result.user[i+1]!=df_result.user[i]:\n",
    "        oper_count += 1\n",
    "        user_oper.append(oper_count)\n",
    "        oper_count = 0\n",
    "    else: \n",
    "        oper_count += 1"
   ]
  },
  {
   "cell_type": "code",
   "execution_count": 29,
   "metadata": {
    "id": "aab_1UQGt1_v"
   },
   "outputs": [],
   "source": [
    "if df_result.user[df_result.shape[0]-2]!=df_result.user[df_result.shape[0]-1]:\n",
    "    user_oper.append(1)\n",
    "else:\n",
    "    user_oper[-1]+=1"
   ]
  },
  {
   "cell_type": "code",
   "execution_count": 30,
   "metadata": {
    "colab": {
     "base_uri": "https://localhost:8080/",
     "height": 225
    },
    "id": "_yPAvFHCC-jL",
    "outputId": "fe70c60a-e5bd-40dd-d25f-73fc1f638671"
   },
   "outputs": [
    {
     "data": {
      "text/plain": [
       "<AxesSubplot:>"
      ]
     },
     "execution_count": 30,
     "metadata": {},
     "output_type": "execute_result"
    },
    {
     "data": {
      "image/png": "[encoded data removed]",
      "text/plain": [
       "<Figure size 2880x360 with 1 Axes>"
      ]
     },
     "metadata": {
      "needs_background": "light"
     },
     "output_type": "display_data"
    }
   ],
   "source": [
    "pd.DataFrame(user_oper).boxplot(figsize = (40, 5), vert=False)"
   ]
  },
  {
   "cell_type": "code",
   "execution_count": 31,
   "metadata": {
    "colab": {
     "base_uri": "https://localhost:8080/",
     "height": 846
    },
    "id": "i3i4pGGWMIoN",
    "outputId": "429d21f7-d40a-4124-f43e-26bd6719dcaa"
   },
   "outputs": [
    {
     "name": "stdout",
     "output_type": "stream",
     "text": [
      "[[<AxesSubplot:title={'center':'0'}>]] [[<AxesSubplot:title={'center':'0'}>]] [[<AxesSubplot:title={'center':'0'}>]]\n"
     ]
    },
    {
     "data": {
      "image/png": "[encoded data removed]",
      "text/plain": [
       "<Figure size 432x288 with 1 Axes>"
      ]
     },
     "metadata": {
      "needs_background": "light"
     },
     "output_type": "display_data"
    },
    {
     "data": {
      "image/png": "[encoded data removed]",
      "text/plain": [
       "<Figure size 432x288 with 1 Axes>"
      ]
     },
     "metadata": {
      "needs_background": "light"
     },
     "output_type": "display_data"
    },
    {
     "data": {
      "image/png": "[encoded data removed]",
      "text/plain": [
       "<Figure size 432x288 with 1 Axes>"
      ]
     },
     "metadata": {
      "needs_background": "light"
     },
     "output_type": "display_data"
    }
   ],
   "source": [
    "print(pd.DataFrame(user_oper).hist(), \n",
    "      pd.DataFrame(user_oper).hist(range=[0, 3000]), \n",
    "      pd.DataFrame(user_oper).hist(range=[5000, 50000]))"
   ]
  },
  {
   "cell_type": "markdown",
   "metadata": {
    "id": "8jxALe-kEX8w"
   },
   "source": [
    "По гистограммам видно, что большая часть пользователей совершила до 500 операций, при этом есть сильные выбросы - пользователи, у которых от 5000 до 50000 операций с акциями, но их количество ~130. "
   ]
  },
  {
   "cell_type": "markdown",
   "metadata": {
    "id": "qOA2YYcSTO9c"
   },
   "source": [
    "Теперь посчитаем разброс цен каждой акции"
   ]
  },
  {
   "cell_type": "code",
   "execution_count": 33,
   "metadata": {
    "id": "C8AL50uuTOC6"
   },
   "outputs": [],
   "source": [
    "all_tick = dict()\n",
    "range_tickers = dict()\n",
    "for i in range(0, df_result.shape[0]):\n",
    "    if df_result.ticker[i] not in all_tick.keys():\n",
    "        all_tick[df_result.ticker[i]]=[]\n",
    "    all_tick[df_result.ticker[i]].append(df_result.price[i])"
   ]
  },
  {
   "cell_type": "code",
   "execution_count": 34,
   "metadata": {
    "id": "sO99-u1fad00"
   },
   "outputs": [],
   "source": [
    "for k in all_tick.keys():\n",
    "    if len(all_tick[k])>1:\n",
    "        range_tickers[k] = [min(all_tick[k]), max(all_tick[k])]"
   ]
  },
  {
   "cell_type": "code",
   "execution_count": 35,
   "metadata": {
    "id": "Ne49KQV3LPPR"
   },
   "outputs": [],
   "source": [
    "for k in range_tickers.keys():\n",
    "    range_tickers[k] = range_tickers[k][1]-range_tickers[k][0]"
   ]
  },
  {
   "cell_type": "code",
   "execution_count": 36,
   "metadata": {
    "id": "d2-3-QLLYyZA"
   },
   "outputs": [],
   "source": [
    "sorted_ranges=sorted(range_tickers.items(), key=lambda x: x[1], reverse=True)"
   ]
  },
  {
   "cell_type": "code",
   "execution_count": 37,
   "metadata": {
    "colab": {
     "base_uri": "https://localhost:8080/",
     "height": 562
    },
    "id": "Fp50Q4XTQuCz",
    "outputId": "996e2734-582a-482b-8ffa-466c519e9b02"
   },
   "outputs": [
    {
     "name": "stdout",
     "output_type": "stream",
     "text": [
      "[[<AxesSubplot:title={'center':'0'}>]] [[<AxesSubplot:title={'center':'0'}>]]\n"
     ]
    },
    {
     "data": {
      "image/png": "[encoded data removed]",
      "text/plain": [
       "<Figure size 432x288 with 1 Axes>"
      ]
     },
     "metadata": {
      "needs_background": "light"
     },
     "output_type": "display_data"
    },
    {
     "data": {
      "image/png": "[encoded data removed]",
      "text/plain": [
       "<Figure size 432x288 with 1 Axes>"
      ]
     },
     "metadata": {
      "needs_background": "light"
     },
     "output_type": "display_data"
    }
   ],
   "source": [
    "print(pd.DataFrame([i[1] for i in sorted_ranges]).hist(), \n",
    "      pd.DataFrame([i[1] for i in sorted_ranges]).hist(range=[0, 2000]))"
   ]
  },
  {
   "cell_type": "markdown",
   "metadata": {
    "id": "_g7q6wzRSEBc"
   },
   "source": [
    "Большая часть акций имеет размах в цене около 200, при это есть акции разница макс и мин цены которых около больше 100 000"
   ]
  },
  {
   "cell_type": "code",
   "execution_count": 38,
   "metadata": {
    "colab": {
     "base_uri": "https://localhost:8080/"
    },
    "id": "J9jPRLpeYkaL",
    "outputId": "e2233164-863a-4ca8-ad76-48c279101912"
   },
   "outputs": [
    {
     "name": "stdout",
     "output_type": "stream",
     "text": [
      "Топ самых нестабильных акций:  ['TRNFP', 'VSMO', 'LNZL', 'GMKN', 'PLZL', 'MGNT', 'FXRU', 'PHOR', 'YNDX', 'TCSG']\n",
      "Топ самых стабильных акций:  ['GOLD', 'SBCS', 'FEES', 'DASB', 'MRKP', 'AKMB', 'TTLK', 'VTBR', 'LQDT', 'TGKA']\n"
     ]
    }
   ],
   "source": [
    "print(\"Топ самых нестабильных акций: \", [i[0] for i in sorted_ranges][:10])\n",
    "print(\"Топ самых стабильных акций: \", [i[0] for i in sorted_ranges][-11:-1])"
   ]
  },
  {
   "cell_type": "markdown",
   "metadata": {},
   "source": [
    "# Подготовка данных"
   ]
  },
  {
   "cell_type": "code",
   "execution_count": 18,
   "metadata": {
    "scrolled": true
   },
   "outputs": [
    {
     "name": "stdout",
     "output_type": "stream",
     "text": [
      "(6851928, 10)\n"
     ]
    },
    {
     "data": {
      "text/html": [
       "<div>\n",
       "<style scoped>\n",
       "    .dataframe tbody tr th:only-of-type {\n",
       "        vertical-align: middle;\n",
       "    }\n",
       "\n",
       "    .dataframe tbody tr th {\n",
       "        vertical-align: top;\n",
       "    }\n",
       "\n",
       "    .dataframe thead th {\n",
       "        text-align: right;\n",
       "    }\n",
       "</style>\n",
       "<table border=\"1\" class=\"dataframe\">\n",
       "  <thead>\n",
       "    <tr style=\"text-align: right;\">\n",
       "      <th></th>\n",
       "      <th>datetime</th>\n",
       "      <th>ticker</th>\n",
       "      <th>amount</th>\n",
       "      <th>price</th>\n",
       "      <th>user</th>\n",
       "      <th>cf</th>\n",
       "      <th>date</th>\n",
       "      <th>value</th>\n",
       "      <th>new_ticker</th>\n",
       "      <th>new_user</th>\n",
       "    </tr>\n",
       "  </thead>\n",
       "  <tbody>\n",
       "    <tr>\n",
       "      <th>2499359</th>\n",
       "      <td>2016-12-08 14:09:00</td>\n",
       "      <td>SBER</td>\n",
       "      <td>-100</td>\n",
       "      <td>164.59000</td>\n",
       "      <td>1_98604</td>\n",
       "      <td>16459.0</td>\n",
       "      <td>2016-12-08</td>\n",
       "      <td>-16459.0</td>\n",
       "      <td>23</td>\n",
       "      <td>10842</td>\n",
       "    </tr>\n",
       "    <tr>\n",
       "      <th>2396269</th>\n",
       "      <td>2016-11-23 14:20:00</td>\n",
       "      <td>RSTI</td>\n",
       "      <td>-1000</td>\n",
       "      <td>1.12780</td>\n",
       "      <td>1_87052</td>\n",
       "      <td>1127.8</td>\n",
       "      <td>2016-11-23</td>\n",
       "      <td>-1127.8</td>\n",
       "      <td>151</td>\n",
       "      <td>10336</td>\n",
       "    </tr>\n",
       "    <tr>\n",
       "      <th>972333</th>\n",
       "      <td>2015-10-30 13:05:00</td>\n",
       "      <td>SBER</td>\n",
       "      <td>-10</td>\n",
       "      <td>90.20000</td>\n",
       "      <td>1_62450</td>\n",
       "      <td>902.0</td>\n",
       "      <td>2015-10-30</td>\n",
       "      <td>-902.0</td>\n",
       "      <td>23</td>\n",
       "      <td>3090</td>\n",
       "    </tr>\n",
       "    <tr>\n",
       "      <th>622778</th>\n",
       "      <td>2022-11-10 10:00:00</td>\n",
       "      <td>VTBR</td>\n",
       "      <td>190000</td>\n",
       "      <td>0.01672</td>\n",
       "      <td>313922</td>\n",
       "      <td>-3176.8</td>\n",
       "      <td>2022-11-10</td>\n",
       "      <td>3176.8</td>\n",
       "      <td>20</td>\n",
       "      <td>1576</td>\n",
       "    </tr>\n",
       "    <tr>\n",
       "      <th>5786631</th>\n",
       "      <td>2020-12-02 22:31:00</td>\n",
       "      <td>MAIL</td>\n",
       "      <td>-9</td>\n",
       "      <td>2164.20000</td>\n",
       "      <td>1_246028</td>\n",
       "      <td>19477.8</td>\n",
       "      <td>2020-12-02</td>\n",
       "      <td>-19477.8</td>\n",
       "      <td>158</td>\n",
       "      <td>28399</td>\n",
       "    </tr>\n",
       "    <tr>\n",
       "      <th>161687</th>\n",
       "      <td>2022-10-21 16:34:00</td>\n",
       "      <td>VTBR</td>\n",
       "      <td>980000</td>\n",
       "      <td>0.01614</td>\n",
       "      <td>311651</td>\n",
       "      <td>-15817.2</td>\n",
       "      <td>2022-10-21</td>\n",
       "      <td>15817.2</td>\n",
       "      <td>20</td>\n",
       "      <td>222</td>\n",
       "    </tr>\n",
       "    <tr>\n",
       "      <th>4662712</th>\n",
       "      <td>2019-10-24 13:56:00</td>\n",
       "      <td>TATNP</td>\n",
       "      <td>3</td>\n",
       "      <td>654.00000</td>\n",
       "      <td>1_220582</td>\n",
       "      <td>-1962.0</td>\n",
       "      <td>2019-10-24</td>\n",
       "      <td>1962.0</td>\n",
       "      <td>13</td>\n",
       "      <td>20750</td>\n",
       "    </tr>\n",
       "    <tr>\n",
       "      <th>2953275</th>\n",
       "      <td>2016-10-05 11:57:00</td>\n",
       "      <td>GMKN</td>\n",
       "      <td>-10</td>\n",
       "      <td>9480.00000</td>\n",
       "      <td>1_88341</td>\n",
       "      <td>94800.0</td>\n",
       "      <td>2016-10-05</td>\n",
       "      <td>-94800.0</td>\n",
       "      <td>17</td>\n",
       "      <td>13144</td>\n",
       "    </tr>\n",
       "    <tr>\n",
       "      <th>2056749</th>\n",
       "      <td>2015-11-09 13:09:00</td>\n",
       "      <td>OGKB</td>\n",
       "      <td>3000</td>\n",
       "      <td>0.21330</td>\n",
       "      <td>1_53177</td>\n",
       "      <td>-639.9</td>\n",
       "      <td>2015-11-09</td>\n",
       "      <td>639.9</td>\n",
       "      <td>89</td>\n",
       "      <td>8583</td>\n",
       "    </tr>\n",
       "    <tr>\n",
       "      <th>4450996</th>\n",
       "      <td>2018-12-17 12:57:00</td>\n",
       "      <td>MOEX</td>\n",
       "      <td>60</td>\n",
       "      <td>84.41000</td>\n",
       "      <td>1_189749</td>\n",
       "      <td>-5064.6</td>\n",
       "      <td>2018-12-17</td>\n",
       "      <td>5064.6</td>\n",
       "      <td>31</td>\n",
       "      <td>19459</td>\n",
       "    </tr>\n",
       "  </tbody>\n",
       "</table>\n",
       "</div>"
      ],
      "text/plain": [
       "                   datetime ticker  amount       price      user       cf  \\\n",
       "2499359 2016-12-08 14:09:00   SBER    -100   164.59000   1_98604  16459.0   \n",
       "2396269 2016-11-23 14:20:00   RSTI   -1000     1.12780   1_87052   1127.8   \n",
       "972333  2015-10-30 13:05:00   SBER     -10    90.20000   1_62450    902.0   \n",
       "622778  2022-11-10 10:00:00   VTBR  190000     0.01672    313922  -3176.8   \n",
       "5786631 2020-12-02 22:31:00   MAIL      -9  2164.20000  1_246028  19477.8   \n",
       "161687  2022-10-21 16:34:00   VTBR  980000     0.01614    311651 -15817.2   \n",
       "4662712 2019-10-24 13:56:00  TATNP       3   654.00000  1_220582  -1962.0   \n",
       "2953275 2016-10-05 11:57:00   GMKN     -10  9480.00000   1_88341  94800.0   \n",
       "2056749 2015-11-09 13:09:00   OGKB    3000     0.21330   1_53177   -639.9   \n",
       "4450996 2018-12-17 12:57:00   MOEX      60    84.41000  1_189749  -5064.6   \n",
       "\n",
       "              date    value  new_ticker  new_user  \n",
       "2499359 2016-12-08 -16459.0          23     10842  \n",
       "2396269 2016-11-23  -1127.8         151     10336  \n",
       "972333  2015-10-30   -902.0          23      3090  \n",
       "622778  2022-11-10   3176.8          20      1576  \n",
       "5786631 2020-12-02 -19477.8         158     28399  \n",
       "161687  2022-10-21  15817.2          20       222  \n",
       "4662712 2019-10-24   1962.0          13     20750  \n",
       "2953275 2016-10-05 -94800.0          17     13144  \n",
       "2056749 2015-11-09    639.9          89      8583  \n",
       "4450996 2018-12-17   5064.6          31     19459  "
      ]
     },
     "execution_count": 18,
     "metadata": {},
     "output_type": "execute_result"
    }
   ],
   "source": [
    "tick2ind = {ticker:i for i, ticker in enumerate(df_result.ticker.unique())}\n",
    "ind2tick = {val:key for key, val in tick2ind.items()}\n",
    "df_result['new_ticker'] = df_result['ticker'].apply(lambda x: tick2ind[x])\n",
    "\n",
    "user2ind = {user:i for i, user in enumerate(df_result.user.unique())}\n",
    "ind2user = {val:key for key, val in user2ind.items()}\n",
    "df_result['new_user'] = df_result['user'].apply(lambda x: user2ind[x])\n",
    "\n",
    "\n",
    "print(df_result.shape)\n",
    "df_result.sample(10)"
   ]
  },
  {
   "cell_type": "markdown",
   "id": "eeecc6e5",
   "metadata": {},
   "source": [
    "### Создаем словарь (Дата сделки: сделка)"
   ]
  },
  {
   "cell_type": "code",
   "execution_count": 19,
   "id": "44ac5adb",
   "metadata": {},
   "outputs": [],
   "source": [
    "def date_deals(df, data):    \n",
    "    \n",
    "    \"\"\"\n",
    "    Функция получает на вход столбец датафрейма с датами сделок\n",
    "    \n",
    "    На выходе: словарь с ключами - Дата сделки, а значения - сами сделки\n",
    "    \"\"\"\n",
    "    \n",
    "    date_deal = {}\n",
    "    dates=set(data.values)\n",
    "    \n",
    "    for d in dates:\n",
    "        deals = df[(data==d)]\n",
    "        if len(deals)==1:\n",
    "            continue\n",
    "        else:\n",
    "            date_deal[d] = deals    \n",
    "            \n",
    "    return date_deal"
   ]
  },
  {
   "cell_type": "markdown",
   "id": "234fc091",
   "metadata": {},
   "source": [
    "# Train_test_split"
   ]
  },
  {
   "cell_type": "code",
   "execution_count": 20,
   "id": "7de150e3",
   "metadata": {},
   "outputs": [],
   "source": [
    "def train_test_split(train_size=0.7, test_size=0.3):\n",
    "    \n",
    "    train = pd.DataFrame()\n",
    "    test = pd.DataFrame()\n",
    "    dict_date = date_deals(df_result, df_result[\"date\"])\n",
    "    \n",
    "    for key in dict_date.keys():\n",
    "        deals_count = len(dict_date[key])\n",
    "        to_train = round(deals_count*train_size)\n",
    "        to_test = round(deals_count*test_size)\n",
    "            \n",
    "        train = pd.concat([train, dict_date[key][:to_train]])\n",
    "        test = pd.concat([test, dict_date[key][-to_test:]])\n",
    "    return (train, test)"
   ]
  },
  {
   "cell_type": "code",
   "execution_count": 21,
   "id": "311d6e7c",
   "metadata": {},
   "outputs": [
    {
     "name": "stdout",
     "output_type": "stream",
     "text": [
      "CPU times: total: 1min 22s\n",
      "Wall time: 1min 23s\n"
     ]
    }
   ],
   "source": [
    "%%time\n",
    "train, test = train_test_split(train_size=0.7, test_size=0.3)"
   ]
  },
  {
   "cell_type": "code",
   "execution_count": 22,
   "metadata": {},
   "outputs": [
    {
     "data": {
      "text/plain": [
       "(4796337, 10)"
      ]
     },
     "execution_count": 22,
     "metadata": {},
     "output_type": "execute_result"
    }
   ],
   "source": [
    "train.shape"
   ]
  },
  {
   "cell_type": "code",
   "execution_count": 23,
   "metadata": {},
   "outputs": [
    {
     "data": {
      "text/plain": [
       "(2055593, 10)"
      ]
     },
     "execution_count": 23,
     "metadata": {},
     "output_type": "execute_result"
    }
   ],
   "source": [
    "test.shape"
   ]
  },
  {
   "cell_type": "code",
   "execution_count": 28,
   "metadata": {},
   "outputs": [
    {
     "data": {
      "text/html": [
       "<div>\n",
       "<style scoped>\n",
       "    .dataframe tbody tr th:only-of-type {\n",
       "        vertical-align: middle;\n",
       "    }\n",
       "\n",
       "    .dataframe tbody tr th {\n",
       "        vertical-align: top;\n",
       "    }\n",
       "\n",
       "    .dataframe thead th {\n",
       "        text-align: right;\n",
       "    }\n",
       "</style>\n",
       "<table border=\"1\" class=\"dataframe\">\n",
       "  <thead>\n",
       "    <tr style=\"text-align: right;\">\n",
       "      <th></th>\n",
       "      <th>datetime</th>\n",
       "      <th>ticker</th>\n",
       "      <th>amount</th>\n",
       "      <th>price</th>\n",
       "      <th>user</th>\n",
       "      <th>cf</th>\n",
       "      <th>date</th>\n",
       "      <th>value</th>\n",
       "      <th>new_ticker</th>\n",
       "      <th>new_user</th>\n",
       "    </tr>\n",
       "  </thead>\n",
       "  <tbody>\n",
       "    <tr>\n",
       "      <th>0</th>\n",
       "      <td>2022-09-29 18:20:00</td>\n",
       "      <td>SPBE</td>\n",
       "      <td>420</td>\n",
       "      <td>118.800</td>\n",
       "      <td>312438</td>\n",
       "      <td>-49896.0</td>\n",
       "      <td>2022-09-29</td>\n",
       "      <td>49896.0</td>\n",
       "      <td>0</td>\n",
       "      <td>0</td>\n",
       "    </tr>\n",
       "    <tr>\n",
       "      <th>396</th>\n",
       "      <td>2022-09-29 11:23:00</td>\n",
       "      <td>POSI</td>\n",
       "      <td>1</td>\n",
       "      <td>1063.400</td>\n",
       "      <td>311657</td>\n",
       "      <td>-1063.4</td>\n",
       "      <td>2022-09-29</td>\n",
       "      <td>1063.4</td>\n",
       "      <td>2</td>\n",
       "      <td>3</td>\n",
       "    </tr>\n",
       "    <tr>\n",
       "      <th>397</th>\n",
       "      <td>2022-09-29 11:23:00</td>\n",
       "      <td>POSI</td>\n",
       "      <td>1</td>\n",
       "      <td>1063.400</td>\n",
       "      <td>311657</td>\n",
       "      <td>-1063.4</td>\n",
       "      <td>2022-09-29</td>\n",
       "      <td>1063.4</td>\n",
       "      <td>2</td>\n",
       "      <td>3</td>\n",
       "    </tr>\n",
       "    <tr>\n",
       "      <th>398</th>\n",
       "      <td>2022-09-29 11:23:00</td>\n",
       "      <td>POSI</td>\n",
       "      <td>3</td>\n",
       "      <td>1063.600</td>\n",
       "      <td>311657</td>\n",
       "      <td>-3190.8</td>\n",
       "      <td>2022-09-29</td>\n",
       "      <td>3190.8</td>\n",
       "      <td>2</td>\n",
       "      <td>3</td>\n",
       "    </tr>\n",
       "    <tr>\n",
       "      <th>399</th>\n",
       "      <td>2022-09-29 11:23:00</td>\n",
       "      <td>POSI</td>\n",
       "      <td>12</td>\n",
       "      <td>1063.600</td>\n",
       "      <td>311657</td>\n",
       "      <td>-12763.2</td>\n",
       "      <td>2022-09-29</td>\n",
       "      <td>12763.2</td>\n",
       "      <td>2</td>\n",
       "      <td>3</td>\n",
       "    </tr>\n",
       "    <tr>\n",
       "      <th>400</th>\n",
       "      <td>2022-09-29 11:23:00</td>\n",
       "      <td>POSI</td>\n",
       "      <td>1</td>\n",
       "      <td>1063.600</td>\n",
       "      <td>311657</td>\n",
       "      <td>-1063.6</td>\n",
       "      <td>2022-09-29</td>\n",
       "      <td>1063.6</td>\n",
       "      <td>2</td>\n",
       "      <td>3</td>\n",
       "    </tr>\n",
       "    <tr>\n",
       "      <th>401</th>\n",
       "      <td>2022-09-29 11:23:00</td>\n",
       "      <td>POSI</td>\n",
       "      <td>5</td>\n",
       "      <td>1063.600</td>\n",
       "      <td>311657</td>\n",
       "      <td>-5318.0</td>\n",
       "      <td>2022-09-29</td>\n",
       "      <td>5318.0</td>\n",
       "      <td>2</td>\n",
       "      <td>3</td>\n",
       "    </tr>\n",
       "    <tr>\n",
       "      <th>402</th>\n",
       "      <td>2022-09-29 11:23:00</td>\n",
       "      <td>POSI</td>\n",
       "      <td>1</td>\n",
       "      <td>1063.600</td>\n",
       "      <td>311657</td>\n",
       "      <td>-1063.6</td>\n",
       "      <td>2022-09-29</td>\n",
       "      <td>1063.6</td>\n",
       "      <td>2</td>\n",
       "      <td>3</td>\n",
       "    </tr>\n",
       "    <tr>\n",
       "      <th>403</th>\n",
       "      <td>2022-09-29 11:24:00</td>\n",
       "      <td>POSI</td>\n",
       "      <td>1</td>\n",
       "      <td>1063.600</td>\n",
       "      <td>311657</td>\n",
       "      <td>-1063.6</td>\n",
       "      <td>2022-09-29</td>\n",
       "      <td>1063.6</td>\n",
       "      <td>2</td>\n",
       "      <td>3</td>\n",
       "    </tr>\n",
       "    <tr>\n",
       "      <th>404</th>\n",
       "      <td>2022-09-29 11:25:00</td>\n",
       "      <td>SGZH</td>\n",
       "      <td>3000</td>\n",
       "      <td>5.191</td>\n",
       "      <td>311657</td>\n",
       "      <td>-15573.0</td>\n",
       "      <td>2022-09-29</td>\n",
       "      <td>15573.0</td>\n",
       "      <td>8</td>\n",
       "      <td>3</td>\n",
       "    </tr>\n",
       "  </tbody>\n",
       "</table>\n",
       "</div>"
      ],
      "text/plain": [
       "               datetime ticker  amount     price    user       cf       date  \\\n",
       "0   2022-09-29 18:20:00   SPBE     420   118.800  312438 -49896.0 2022-09-29   \n",
       "396 2022-09-29 11:23:00   POSI       1  1063.400  311657  -1063.4 2022-09-29   \n",
       "397 2022-09-29 11:23:00   POSI       1  1063.400  311657  -1063.4 2022-09-29   \n",
       "398 2022-09-29 11:23:00   POSI       3  1063.600  311657  -3190.8 2022-09-29   \n",
       "399 2022-09-29 11:23:00   POSI      12  1063.600  311657 -12763.2 2022-09-29   \n",
       "400 2022-09-29 11:23:00   POSI       1  1063.600  311657  -1063.6 2022-09-29   \n",
       "401 2022-09-29 11:23:00   POSI       5  1063.600  311657  -5318.0 2022-09-29   \n",
       "402 2022-09-29 11:23:00   POSI       1  1063.600  311657  -1063.6 2022-09-29   \n",
       "403 2022-09-29 11:24:00   POSI       1  1063.600  311657  -1063.6 2022-09-29   \n",
       "404 2022-09-29 11:25:00   SGZH    3000     5.191  311657 -15573.0 2022-09-29   \n",
       "\n",
       "       value  new_ticker  new_user  \n",
       "0    49896.0           0         0  \n",
       "396   1063.4           2         3  \n",
       "397   1063.4           2         3  \n",
       "398   3190.8           2         3  \n",
       "399  12763.2           2         3  \n",
       "400   1063.6           2         3  \n",
       "401   5318.0           2         3  \n",
       "402   1063.6           2         3  \n",
       "403   1063.6           2         3  \n",
       "404  15573.0           8         3  "
      ]
     },
     "execution_count": 28,
     "metadata": {},
     "output_type": "execute_result"
    }
   ],
   "source": [
    "train.head(10)"
   ]
  },
  {
   "cell_type": "code",
   "execution_count": 27,
   "metadata": {},
   "outputs": [
    {
     "data": {
      "text/html": [
       "<div>\n",
       "<style scoped>\n",
       "    .dataframe tbody tr th:only-of-type {\n",
       "        vertical-align: middle;\n",
       "    }\n",
       "\n",
       "    .dataframe tbody tr th {\n",
       "        vertical-align: top;\n",
       "    }\n",
       "\n",
       "    .dataframe thead th {\n",
       "        text-align: right;\n",
       "    }\n",
       "</style>\n",
       "<table border=\"1\" class=\"dataframe\">\n",
       "  <thead>\n",
       "    <tr style=\"text-align: right;\">\n",
       "      <th></th>\n",
       "      <th>datetime</th>\n",
       "      <th>ticker</th>\n",
       "      <th>amount</th>\n",
       "      <th>price</th>\n",
       "      <th>user</th>\n",
       "      <th>cf</th>\n",
       "      <th>date</th>\n",
       "      <th>value</th>\n",
       "      <th>new_ticker</th>\n",
       "      <th>new_user</th>\n",
       "    </tr>\n",
       "  </thead>\n",
       "  <tbody>\n",
       "    <tr>\n",
       "      <th>436964</th>\n",
       "      <td>2022-09-29 15:47:00</td>\n",
       "      <td>SBER</td>\n",
       "      <td>-10</td>\n",
       "      <td>108.52</td>\n",
       "      <td>311399</td>\n",
       "      <td>1085.2</td>\n",
       "      <td>2022-09-29</td>\n",
       "      <td>-1085.2</td>\n",
       "      <td>23</td>\n",
       "      <td>1049</td>\n",
       "    </tr>\n",
       "    <tr>\n",
       "      <th>436965</th>\n",
       "      <td>2022-09-29 15:47:00</td>\n",
       "      <td>SBER</td>\n",
       "      <td>-2500</td>\n",
       "      <td>108.52</td>\n",
       "      <td>311399</td>\n",
       "      <td>271300.0</td>\n",
       "      <td>2022-09-29</td>\n",
       "      <td>-271300.0</td>\n",
       "      <td>23</td>\n",
       "      <td>1049</td>\n",
       "    </tr>\n",
       "    <tr>\n",
       "      <th>436966</th>\n",
       "      <td>2022-09-29 15:47:00</td>\n",
       "      <td>SBER</td>\n",
       "      <td>-20</td>\n",
       "      <td>108.51</td>\n",
       "      <td>311399</td>\n",
       "      <td>2170.2</td>\n",
       "      <td>2022-09-29</td>\n",
       "      <td>-2170.2</td>\n",
       "      <td>23</td>\n",
       "      <td>1049</td>\n",
       "    </tr>\n",
       "    <tr>\n",
       "      <th>436967</th>\n",
       "      <td>2022-09-29 15:47:00</td>\n",
       "      <td>SBER</td>\n",
       "      <td>-200</td>\n",
       "      <td>108.51</td>\n",
       "      <td>311399</td>\n",
       "      <td>21702.0</td>\n",
       "      <td>2022-09-29</td>\n",
       "      <td>-21702.0</td>\n",
       "      <td>23</td>\n",
       "      <td>1049</td>\n",
       "    </tr>\n",
       "    <tr>\n",
       "      <th>436968</th>\n",
       "      <td>2022-09-29 15:47:00</td>\n",
       "      <td>SBER</td>\n",
       "      <td>-500</td>\n",
       "      <td>108.50</td>\n",
       "      <td>311399</td>\n",
       "      <td>54250.0</td>\n",
       "      <td>2022-09-29</td>\n",
       "      <td>-54250.0</td>\n",
       "      <td>23</td>\n",
       "      <td>1049</td>\n",
       "    </tr>\n",
       "    <tr>\n",
       "      <th>436969</th>\n",
       "      <td>2022-09-29 15:47:00</td>\n",
       "      <td>SBER</td>\n",
       "      <td>-610</td>\n",
       "      <td>108.50</td>\n",
       "      <td>311399</td>\n",
       "      <td>66185.0</td>\n",
       "      <td>2022-09-29</td>\n",
       "      <td>-66185.0</td>\n",
       "      <td>23</td>\n",
       "      <td>1049</td>\n",
       "    </tr>\n",
       "    <tr>\n",
       "      <th>436970</th>\n",
       "      <td>2022-09-29 15:47:00</td>\n",
       "      <td>SBER</td>\n",
       "      <td>-1000</td>\n",
       "      <td>108.50</td>\n",
       "      <td>311399</td>\n",
       "      <td>108500.0</td>\n",
       "      <td>2022-09-29</td>\n",
       "      <td>-108500.0</td>\n",
       "      <td>23</td>\n",
       "      <td>1049</td>\n",
       "    </tr>\n",
       "    <tr>\n",
       "      <th>436971</th>\n",
       "      <td>2022-09-29 15:47:00</td>\n",
       "      <td>SBER</td>\n",
       "      <td>-1000</td>\n",
       "      <td>108.50</td>\n",
       "      <td>311399</td>\n",
       "      <td>108500.0</td>\n",
       "      <td>2022-09-29</td>\n",
       "      <td>-108500.0</td>\n",
       "      <td>23</td>\n",
       "      <td>1049</td>\n",
       "    </tr>\n",
       "    <tr>\n",
       "      <th>436972</th>\n",
       "      <td>2022-09-29 15:47:00</td>\n",
       "      <td>SBER</td>\n",
       "      <td>-1000</td>\n",
       "      <td>108.50</td>\n",
       "      <td>311399</td>\n",
       "      <td>108500.0</td>\n",
       "      <td>2022-09-29</td>\n",
       "      <td>-108500.0</td>\n",
       "      <td>23</td>\n",
       "      <td>1049</td>\n",
       "    </tr>\n",
       "    <tr>\n",
       "      <th>436973</th>\n",
       "      <td>2022-09-29 15:47:00</td>\n",
       "      <td>SBER</td>\n",
       "      <td>-1000</td>\n",
       "      <td>108.50</td>\n",
       "      <td>311399</td>\n",
       "      <td>108500.0</td>\n",
       "      <td>2022-09-29</td>\n",
       "      <td>-108500.0</td>\n",
       "      <td>23</td>\n",
       "      <td>1049</td>\n",
       "    </tr>\n",
       "  </tbody>\n",
       "</table>\n",
       "</div>"
      ],
      "text/plain": [
       "                  datetime ticker  amount   price    user        cf  \\\n",
       "436964 2022-09-29 15:47:00   SBER     -10  108.52  311399    1085.2   \n",
       "436965 2022-09-29 15:47:00   SBER   -2500  108.52  311399  271300.0   \n",
       "436966 2022-09-29 15:47:00   SBER     -20  108.51  311399    2170.2   \n",
       "436967 2022-09-29 15:47:00   SBER    -200  108.51  311399   21702.0   \n",
       "436968 2022-09-29 15:47:00   SBER    -500  108.50  311399   54250.0   \n",
       "436969 2022-09-29 15:47:00   SBER    -610  108.50  311399   66185.0   \n",
       "436970 2022-09-29 15:47:00   SBER   -1000  108.50  311399  108500.0   \n",
       "436971 2022-09-29 15:47:00   SBER   -1000  108.50  311399  108500.0   \n",
       "436972 2022-09-29 15:47:00   SBER   -1000  108.50  311399  108500.0   \n",
       "436973 2022-09-29 15:47:00   SBER   -1000  108.50  311399  108500.0   \n",
       "\n",
       "             date     value  new_ticker  new_user  \n",
       "436964 2022-09-29   -1085.2          23      1049  \n",
       "436965 2022-09-29 -271300.0          23      1049  \n",
       "436966 2022-09-29   -2170.2          23      1049  \n",
       "436967 2022-09-29  -21702.0          23      1049  \n",
       "436968 2022-09-29  -54250.0          23      1049  \n",
       "436969 2022-09-29  -66185.0          23      1049  \n",
       "436970 2022-09-29 -108500.0          23      1049  \n",
       "436971 2022-09-29 -108500.0          23      1049  \n",
       "436972 2022-09-29 -108500.0          23      1049  \n",
       "436973 2022-09-29 -108500.0          23      1049  "
      ]
     },
     "execution_count": 27,
     "metadata": {},
     "output_type": "execute_result"
    }
   ],
   "source": [
    "test.head(10)"
   ]
  },
  {
   "cell_type": "code",
   "execution_count": null,
   "metadata": {},
   "outputs": [],
   "source": []
  }
 ],
 "metadata": {
  "colab": {
   "provenance": []
  },
  "kernelspec": {
   "display_name": "Python 3 (ipykernel)",
   "language": "python",
   "name": "python3"
  },
  "language_info": {
   "codemirror_mode": {
    "name": "ipython",
    "version": 3
   },
   "file_extension": ".py",
   "mimetype": "text/x-python",
   "name": "python",
   "nbconvert_exporter": "python",
   "pygments_lexer": "ipython3",
   "version": "3.9.12"
  }
 },
 "nbformat": 4,
 "nbformat_minor": 1
}
